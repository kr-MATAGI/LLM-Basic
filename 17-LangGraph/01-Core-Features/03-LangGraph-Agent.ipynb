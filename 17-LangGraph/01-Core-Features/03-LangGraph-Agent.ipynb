{
 "cells": [
  {
   "cell_type": "markdown",
   "id": "eec680f5",
   "metadata": {},
   "source": [
    "# LangGraph 활용 Agent 구축\n",
    "\n",
    "이번 튜토리얼에서는 웹 검색 도구를 통해 챗봇에 웹 검색 기능수행하는 Agent 을 추가합니다.\n",
    "\n",
    "LLM 에 도구를 바인딩하여 LLM 에 입력된 요청에 따라 필요시 웹 검색 도구(Tool)를 호출하는 Agent 을 구축합니다.\n",
    "\n",
    "뿐만아니라, 조건부 엣지를 통해 도구 호출 여부에 따라 다른 노드로 라우팅하는 방법도 함께 배워봅니다."
   ]
  },
  {
   "cell_type": "code",
   "execution_count": 1,
   "id": "de9d9d8d",
   "metadata": {},
   "outputs": [
    {
     "data": {
      "text/plain": [
       "True"
      ]
     },
     "execution_count": 1,
     "metadata": {},
     "output_type": "execute_result"
    }
   ],
   "source": [
    "# API 키를 환경변수로 관리하기 위한 설정 파일\n",
    "from dotenv import load_dotenv\n",
    "\n",
    "# API 키 정보 로드\n",
    "load_dotenv()"
   ]
  },
  {
   "cell_type": "code",
   "execution_count": 2,
   "id": "6b5c6228",
   "metadata": {},
   "outputs": [
    {
     "name": "stdout",
     "output_type": "stream",
     "text": [
      "LangSmith 추적을 시작합니다.\n",
      "[프로젝트명]\n",
      "CH17-LangGraph-Modules\n"
     ]
    }
   ],
   "source": [
    "# LangSmith 추적을 설정합니다. https://smith.langchain.com\n",
    "# !pip install -qU langchain-teddynote\n",
    "from langchain_teddynote import logging\n",
    "\n",
    "# 프로젝트 이름을 입력합니다.\n",
    "logging.langsmith(\"CH17-LangGraph-Modules\")"
   ]
  },
  {
   "cell_type": "markdown",
   "id": "9d5376bf",
   "metadata": {},
   "source": [
    "## 도구(Tool) 사용하기\n",
    "\n",
    "**참고**\n",
    "\n",
    "- [도구(Tools)](https://wikidocs.net/262582)\n",
    "\n",
    "챗봇이 \"기억\"에서 답변할 수 없는 질문을 처리하기 위해 웹 검색 도구를 통합할 것입니다. 이 도구를 사용하여 관련 정보를 찾아 더 나은 응답을 제공할 수 있습니다.\n",
    "\n",
    "### 검색 API 도구\n",
    "\n",
    "Tavily 검색 API를 활용하여 검색 기능을 구현하는 도구입니다. 이 도구는 두 가지 주요 클래스를 제공합니다: `TavilySearchResults`와 `TavilyAnswer`.\n",
    "\n",
    "**API 키 발급 주소**\n",
    "- https://app.tavily.com/\n",
    "\n",
    "발급한 API 키를 환경변수에 설정합니다.\n",
    "\n",
    "`.env` 파일에 아래와 같이 설정합니다.\n",
    "\n",
    "```\n",
    "TAVILY_API_KEY=tvly-abcdefghijklmnopqrstuvwxyz\n",
    "```\n",
    "\n",
    "### TavilySearchResults\n",
    "\n",
    "**설명**\n",
    "- Tavily 검색 API를 쿼리하고 JSON 형식의 결과를 반환합니다.\n",
    "- 포괄적이고 정확하며 신뢰할 수 있는 결과에 최적화된 검색 엔진입니다.\n",
    "- 현재 이벤트에 대한 질문에 답변할 때 유용합니다."
   ]
  },
  {
   "cell_type": "markdown",
   "id": "81cbcea8",
   "metadata": {},
   "source": [
    "다음으로 웹 검색 도구인 `TavilySearchResults`를 생성합니다."
   ]
  },
  {
   "cell_type": "code",
   "execution_count": 4,
   "id": "163da255",
   "metadata": {},
   "outputs": [],
   "source": [
    "# !pip install -U langchain-teddynote"
   ]
  },
  {
   "cell_type": "code",
   "execution_count": 3,
   "id": "c04fccdb",
   "metadata": {},
   "outputs": [
    {
     "name": "stdout",
     "output_type": "stream",
     "text": [
      "[{'title': '랭체인(langchain) + 정형데이터(CSV, Excel) - ChatGPT 기반 데이터분석 (4) - 테디노트', 'url': 'https://teddylee777.github.io/langchain/langchain-tutorial-04/', 'content': '🔥알림🔥 ① 테디노트 유튜브 - 구경하러 가기! ② LangChain 한국어 튜토리얼 바로가기 👀 ③ 랭체인 노트 무료 전자책(wikidocs) 바로가기 🙌 ④ RAG 비법노트 LangChain 강의오픈 바로가기 🙌 ⑤ 서울대 PyTorch 딥러닝 강의 바로가기 🙌. 랭체인(langchain) + 정형데이터(CSV, Excel) - ChatGPT 기반 데이터분석 (4)', 'score': 0.6453216, 'raw_content': '🔥알림🔥\\n\\n    ① 테디노트 유튜브 - \\n    구경하러 가기!\\n\\n    ② LangChain 한국어 튜토리얼\\n바로가기 👀\\n\\n    ③ 랭체인 노트 무료 전자책(wikidocs) \\n    바로가기 🙌\\n\\n    ④ RAG 비법노트 LangChain 강의오픈\\n바로가기 🙌\\n\\n    ⑤ 서울대 PyTorch 딥러닝 강의\\n바로가기 🙌\\n\\n\\n랭체인(langchain) + 정형데이터(CSV, Excel) - ChatGPT 기반 데이터분석 (4)\\n\\n\\n\\n\\n\\n2023년 10월 02일\\n\\n\\n\\n\\n        \\n          4 분 소요\\n        \\n      \\n\\n이번 포스팅에서는 랭체인(LangChain) 을 활용하여 정형데이터(CSV, Excel) 에 대한 ChatGPT 기반 질의응답을 통해 데이터 분석하는 방법 에 대해 알아보겠습니다.\\n이번 튜토리얼에서는 langchain 의 create_pandas_dataframe_agent() 을 통해 에이전트를 생성한 뒤, 생성된 에이전트에 자연어로 데이터에 대한 질의 응답 을 통해 원하는 분석 결과를 도출하는 방법에 대해 다루겠습니다.\\n한가지 흥미로운 사실은 자연어로 에이전트에 질문하면, 에이전트가 이를 pandas 문법을 변환하여 코드를 실행한 뒤, 결과를 다시 자연어로 반환해 준다는 점입니다. 에이전트가 답변을 도출하는 과정에서 실행한 pandas 코드도 확인 할 수 있습니다.\\n✔️ (이전글) LangChain 튜토리얼\\n🌱 환경설정\\n라이브러리 설치\\nOPENAI API KEY 를 설정합니다.\\n🔥 데이터 로드\\npandas를 활용하여 csv 파일을 DataFrame 으로 로드합니다.\\n🔥 Pandas DataFrame Agent\\n🔥 2개 이상의 DataFrame\\n2개 이상의 데이터프레임에 기반한 LLM 기반 질의를 할 수 있습니다. 2개 이상의 데이터프레임 입력시 [] 로 묶어주면 됩니다.\\n\\n 태그: \\n\\nChatGPT, \\nChatOpenAI, \\ncsv, \\nexcel, \\nGPT3.5, \\nGPT4, \\nlangchain, \\nlangchain tutorial, \\nOpenAI, \\n데이터분석, \\n랭체인, \\n랭체인 튜토리얼\\n\\n\\n\\n 카테고리: \\n\\nlangchain\\n\\n\\n 업데이트: 2023년 10월 02일\\n참고\\n\\npoetry 의 거의 모든것 (튜토리얼)\\n\\n\\n\\n\\n\\n2024년 03월 30일\\n\\n\\n\\n\\n        \\n          5 분 소요\\n        \\n      \\n\\nPython 개발에 있어서 poetry는 매우 강력한 도구로, 프로젝트의 의존성 관리와 패키지 배포를 간소화하는 데 큰 도움을 줍니다. 지금부터 poetry 활용 튜토리얼을 살펴 보겠습니다.\\n\\n\\n\\nLangGraph Retrieval Agent를 활용한 동적 문서 검색 및 처리\\n\\n\\n\\n\\n\\n2024년 03월 06일\\n\\n\\n\\n\\n        \\n          10 분 소요\\n        \\n      \\n\\nLangGraph Retrieval Agent는 언어 처리, AI 모델 통합, 데이터베이스 관리, 그래프 기반 데이터 처리 등 다양한 기능을 제공하여 언어 기반 AI 애플리케이션 개발에 필수적인 도구입니다.\\n\\n\\n\\n[Assistants API] Code Interpreter, Retrieval, Functions 활용법\\n\\n\\n\\n\\n\\n2024년 02월 13일\\n\\n\\n\\n\\n        \\n          35 분 소요\\n        \\n      \\n\\nOpenAI의 새로운 Assistants API는 대화와 더불어 강력한 도구 접근성을 제공합니다. 본 튜토리얼은 OpenAI Assistants API를 활용하는 내용을 다룹니다. 특히, Assistant API 가 제공하는 도구인 Code Interpreter, Retrieval...\\n\\n[LangChain] 에이전트(Agent)와 도구(tools)를 활용한 지능형 검색 시스템 구축 가이드\\n\\n\\n\\n\\n\\n2024년 02월 09일\\n\\n\\n\\n\\n        \\n          41 분 소요\\n        \\n      \\n\\n이 글에서는 LangChain 의 Agent 프레임워크를 활용하여 복잡한 검색과 데이터 처리 작업을 수행하는 방법을 소개합니다. LangSmith 를 사용하여 Agent의 추론 단계를 추적합니다. Agent가 활용할 검색 도구(Tavily Search), PDF 기반 검색 리트리버...\\n'}, {'title': '랭체인(langchain)의 OpenAI GPT 모델(ChatOpenAI) 사용법 (1) - 테디노트', 'url': 'https://teddylee777.github.io/langchain/langchain-tutorial-01/', 'content': '🔥알림🔥 ① 테디노트 유튜브 - 구경하러 가기! ② LangChain 한국어 튜토리얼 바로가기 👀 ③ 랭체인 노트 무료 전자책(wikidocs) 바로가기 🙌 ④ RAG 비법노트 LangChain 강의오픈 바로가기 🙌 ⑤ 서울대 PyTorch 딥러닝 강의 바로가기 🙌. 랭체인(langchain)의 OpenAI GPT 모델(ChatOpenAI) 사용법 (1)', 'score': 0.6364215, 'raw_content': '🔥알림🔥\\n\\n    ① 테디노트 유튜브 - \\n    구경하러 가기!\\n\\n    ② LangChain 한국어 튜토리얼\\n바로가기 👀\\n\\n    ③ 랭체인 노트 무료 전자책(wikidocs) \\n    바로가기 🙌\\n\\n    ④ RAG 비법노트 LangChain 강의오픈\\n바로가기 🙌\\n\\n    ⑤ 서울대 PyTorch 딥러닝 강의\\n바로가기 🙌\\n\\n\\n랭체인(langchain)의 OpenAI GPT 모델(ChatOpenAI) 사용법 (1)\\n\\n\\n\\n\\n\\n2023년 09월 28일\\n\\n\\n\\n\\n        \\n          5 분 소요\\n        \\n      \\n\\n언어 모델을 활용한 애플리케이션 개발을 돕는 프레임워크인 랭체인(LangChain) 에 대해 깊이 있게 다뤄보고자 합니다.\\n튜토리얼은 시리즈 형식으로 구성되어, 시리즈를 거듭하면서 랭체인(LangChain) 을 통해 언어 모델 기반의 애플리케이션 개발은 더욱 간결하고 효과적으로 이루어질 수 있습니다.\\n🌱 랭체인의 주요 기능\\n랭체인을 통해 다음과 같은 특징을 갖는 애플리케이션을 개발할 수 있습니다.\\n랭체인의 가치\\n랭체인의 핵심적인 가치는 여러 가지가 있지만, 그 중에서도 두 가지 주요한 점을 꼽자면 다음과 같습니다.\\n특히, 이러한 사용 준비된 체인은 초보자도 랭체인을 쉽게 시작할 수 있게 도와주며, 복잡한 애플리케이션을 계획하는 전문가들은 기존 체인을 손쉽게 커스터마이징하거나 새롭게 구축할 수 있게 도와줍니다.\\n🌱 환경설정\\nAPI KEY 발급\\n먼저, openai 의 API KEY 를 발급 받아야 합니다. 발급은 다음의 절차를 통해 진행할 수 있습니다.\\nhttps://platform.openai.com/account/api-keys 로 접속합니다.\\nLog in 버튼을 클릭 후 계정에 로그인 합니다. 계정이 아직 생성되지 않은 경우에는 Sign up 으로 회원가입 후 로그인 합니다.\\n\\n“Create new secret key” 버튼을 클릭하여 새로운 키를 발급합니다.\\n\\nName 에는 발급하는 키에 대한 별칭을 입력합니다.\\n\\n새롭게 발급한 키를 복사합니다. 잃어버리면 다시 발급하여야 하므로, 안전한 곳에 저장해 둡니다.\\n\\n모듈 설치(openai, langchain)\\npip 명령어로 모듈을 설치 합니다. 아나콘다 가상환경에서 설치해도 좋습니다.\\n먼저, 설치한 openai 모듈을 import 한 뒤, 발급받은 API KEY를 다음과 같이 설정합니다.\\n사용 가능한 모델 리스트 출력\\n🔥 ChatOpenAI\\nOpenAI 사의 채팅 전용 Large Language Model(llm) 입니다.\\n객체를 생성할 때 다음을 옵션 값을 지정할 수 있습니다. 옵션에 대한 상세 설명은 다음과 같습니다.\\ntemperature\\nmax_tokens\\nmodel_name: 적용 가능한 모델 리스트\\ngpt-3.5-turbo\\ngpt-3.5-turbo-0301\\ngpt-3.5-turbo-0613\\ngpt-3.5-turbo-16k\\ngpt-3.5-turbo-16k-0613\\ngpt-3.5-turbo-instruct\\ngpt-3.5-turbo-instruct-0914\\ngpt-4\\ngpt-4-0314\\ngpt-4-0613\\n🔥 프롬프트 템플릿의 활용\\nPromptTemplate\\n사용자의 입력 변수를 사용하여 완전한 프롬프트 문자열을 만드는 데 사용되는 템플릿입니다\\n사용법\\ntemplate: 템플릿 문자열입니다. 이 문자열 내에서 중괄호 {}는 변수를 나타냅니다.\\ninput_variables: 중괄호 안에 들어갈 변수의 이름을 리스트로 정의합니다.\\ninput_variables\\ninput_variables는 PromptTemplate에서 사용되는 변수의 이름을 정의하는 리스트입니다.\\n사용법: 리스트 형식으로 변수 이름을 정의합니다.\\nLLMChain 객체\\nLLMChain\\nLLMChain은 특정 PromptTemplate와 연결된 체인 객체를 생성합니다\\n사용법\\nprompt: 앞서 정의한 PromptTemplate 객체를 사용합니다.\\nllm: 언어 모델을 나타내며, 이 예시에서는 이미 어딘가에서 정의된 것으로 보입니다.\\n① run()\\nrun() 함수로 템플릿 프롬프트 실행\\n② apply()\\napply() 함수로 여러개의 입력을 한 번에 실행\\ntext 키 값으로 결과 뭉치가 반환되었음을 확인할 수 있습니다.\\n이를 반복문으로 출력한다면 다음과 같습니다.\\n③ generate()\\ngenerate() 는 문자열 대신에 LLMResult를 반환하는 점을 제외하고는 apply와 유사합니다.\\nLLMResult는 토큰 사용량과 종료 이유와 같은 유용한 생성 정보를 자주 포함하고 있습니다.\\n④ 2개 이상의 변수를 템플릿 안에 정의\\n2개 이상의 변수를 적용하여 템플릿을 생성할 수 있습니다.\\n이번에는 2개 이상의 변수(input_variables) 를 활용하여 템플릿 구성을 해보겠습니다.\\n⑤ 스트리밍(streaming)\\n스트리밍 옵션은 질의에 대한 답변을 실시간으로 받을 때 유용합니다.\\n다음과 같이 streaming=True 로 설정하고 스트리밍으로 답변을 받기 위한 StreamingStdOutCallbackHandler() 을 콜백으로 지정합니다.\\n\\n 태그: \\n\\nChatGPT, \\nChatOpenAI, \\nGPT3.5, \\nGPT4, \\nlangchain, \\nlangchain tutorial, \\nOpenAI, \\n랭체인, \\n랭체인 튜토리얼\\n\\n\\n\\n 카테고리: \\n\\nlangchain\\n\\n\\n 업데이트: 2023년 09월 28일\\n참고\\n\\npoetry 의 거의 모든것 (튜토리얼)\\n\\n\\n\\n\\n\\n2024년 03월 30일\\n\\n\\n\\n\\n        \\n          5 분 소요\\n        \\n      \\n\\nPython 개발에 있어서 poetry는 매우 강력한 도구로, 프로젝트의 의존성 관리와 패키지 배포를 간소화하는 데 큰 도움을 줍니다. 지금부터 poetry 활용 튜토리얼을 살펴 보겠습니다.\\n\\n\\n\\nLangGraph Retrieval Agent를 활용한 동적 문서 검색 및 처리\\n\\n\\n\\n\\n\\n2024년 03월 06일\\n\\n\\n\\n\\n        \\n          10 분 소요\\n        \\n      \\n\\nLangGraph Retrieval Agent는 언어 처리, AI 모델 통합, 데이터베이스 관리, 그래프 기반 데이터 처리 등 다양한 기능을 제공하여 언어 기반 AI 애플리케이션 개발에 필수적인 도구입니다.\\n\\n\\n\\n[Assistants API] Code Interpreter, Retrieval, Functions 활용법\\n\\n\\n\\n\\n\\n2024년 02월 13일\\n\\n\\n\\n\\n        \\n          35 분 소요\\n        \\n      \\n\\nOpenAI의 새로운 Assistants API는 대화와 더불어 강력한 도구 접근성을 제공합니다. 본 튜토리얼은 OpenAI Assistants API를 활용하는 내용을 다룹니다. 특히, Assistant API 가 제공하는 도구인 Code Interpreter, Retrieval...\\n\\n[LangChain] 에이전트(Agent)와 도구(tools)를 활용한 지능형 검색 시스템 구축 가이드\\n\\n\\n\\n\\n\\n2024년 02월 09일\\n\\n\\n\\n\\n        \\n          41 분 소요\\n        \\n      \\n\\n이 글에서는 LangChain 의 Agent 프레임워크를 활용하여 복잡한 검색과 데이터 처리 작업을 수행하는 방법을 소개합니다. LangSmith 를 사용하여 Agent의 추론 단계를 추적합니다. Agent가 활용할 검색 도구(Tavily Search), PDF 기반 검색 리트리버...\\n'}, {'title': '랭체인(langchain) + PDF 문서요약, Map-Reduce (7) - 테디노트', 'url': 'https://teddylee777.github.io/langchain/langchain-tutorial-07/', 'content': '🔥알림🔥 ① 테디노트 유튜브 - 구경하러 가기! ② LangChain 한국어 튜토리얼 바로가기 👀 ③ 랭체인 노트 무료 전자책(wikidocs) 바로가기 🙌 ④ RAG 비법노트 LangChain 강의오픈 바로가기 🙌 ⑤ 서울대 PyTorch 딥러닝 강의 바로가기 🙌. 랭체인(langchain) + PDF 문서요약, Map-Reduce (7)', 'score': 0.63152665, 'raw_content': '🔥알림🔥\\n\\n    ① 테디노트 유튜브 - \\n    구경하러 가기!\\n\\n    ② LangChain 한국어 튜토리얼\\n바로가기 👀\\n\\n    ③ 랭체인 노트 무료 전자책(wikidocs) \\n    바로가기 🙌\\n\\n    ④ RAG 비법노트 LangChain 강의오픈\\n바로가기 🙌\\n\\n    ⑤ 서울대 PyTorch 딥러닝 강의\\n바로가기 🙌\\n\\n\\n랭체인(langchain) + PDF 문서요약, Map-Reduce (7)\\n\\n\\n\\n\\n\\n2023년 10월 06일\\n\\n\\n\\n\\n        \\n          11 분 소요\\n        \\n      \\n\\n이번 포스팅에서는 랭체인(LangChain) 을 활용하여 PDF 문서를 로드하고, 문서의 내용을 요약 하는 방법에 대해 알아보겠습니다.\\n이번 튜토리얼에서는 langchain 의 PyPDFLoader 를 활용한 PDF 문서의 텍스트 데이터를 불러오는 방법에 대해 다룹니다.\\n또한, 긴 PDF 문서를 쪼개서 요약 및 통합하는 Map-Reduce 방식의 요약 방식에 대해 깊게 다루도록 하겠습니다. Map-Reduce 방식은 LLM의 제한적인 토큰 사이즈를 입력으로 받는 구조적 문제를 해결하는 방법론이기 때문에 비단 요약 뿐만아니라 그 밖에 확장된 테스크에도 적용이 가능합니다.\\n✔️ (이전글) LangChain 튜토리얼\\n🌱 환경설정\\n🔥 PDF 기반 문서요약\\n✔️ 문서요약 방식\\nPDF 의 문서를 요약하는 방식에는 문서의 크기에 따라 2가지 방식으로 나누어 볼 수 있습니다.\\nStuff: 전체 문서의 내용을 모두 프롬프트의 입력으로 대입합니다. 전체 문서의 내용이 LLM 모델의 최대토큰 허용 크기보다 작은 경우, 이 방식을 선택할 수 있습니다.\\nMap-Reduce: 전체 문서의 내용을 쪼개서 여러의 부분 세트로 나눈 뒤, 나눈 내용을 프롬프트의 입력을 나누어 대입합니다. 예를 들어, PDF 문서가 100장으로 구성이 되어 있고, 100장 분량의 내용을 프롬프트의 입력으로 한 번에 넣을 수 없으므로, 20장씩 5개의 세트로 나눈 뒤 5번의 프롬프트 입력 후 결과로 나온 5개의 요약본을 통합하는 작업을 진행합니다.\\nStuff 방식은 코드가 간결하지만, 현실적으로 잘 사용하게 되지 않습니다. 일반적인 PDF 문서의 전체 길이가 LLM 모델의 최대토큰 허용 크기보다 큰 경우가 대다수의 경우이기 때문입니다. 따라서, 이번 튜토리얼에서는 Map-Reduce 방식에 대해 자세히 다루며, Stuff 방식은 여기 에서 참고하실 수 있습니다.\\n📍 흐름\\n흐름도\\n\\n위의 흐름도를 보면서 PDF 문서를 요약하는 흐름에 대해서 정리해 보겠습니다.\\n① 문서 로드\\n먼저, langchain 의 PDF 문서의 로드를 도와주는 PDF Loader 를 활용하여 문서를 로드합니다. langchain에서는 다양한 PDF Loader 를 제공하며, 대표적인 예시로는 PyPDFLoader, PyMuPDFLoader, UnstructuredPDFLoader 등이 있습니다.\\n여기서 문서를 로드한다는 의미는 PDF 문서의 내용을 긁어와 String 형태로 가져오는 것을 의미하며 정확하게는 Document 객체안에 page_content 속성으로 로드합니다. PDF 로드시 각종 메타데이터로 함께 로드합니다.\\nPyPDFLoader 사용하여 PDF를 로드하고, 각 문서가 페이지 내용과 페이지 번호를 포함한 메타데이터를 포함하는 문서의 배열로 만듭니다.\\n② 문서 분할\\n문서의 내용이 긴 경우, 문서 전체의 내용을 프롬프트의 입력으로 넣을 수 없으므로 문서를 분할하는 작업을 선행합니다.\\n문서 분할은 토큰갯수에 따라 분할할 수 있으며, 대표적으로 많이 사용되는 모듈은 CharacterTextSplitter, RecursiveCharacterTextSplitter 등이 있습니다.\\n아래는 가장 단순한 방법인 CharacterTextSplitter 를 활용하여 문서를 분할한 예시 입니다.\\n이 방법은 문자(기본적으로 “\\\\n\\\\n”)를 기반으로 분할하며, 문자의 수(chunk_size)로 길이를 측정합니다.\\n텍스트의 분할 방식: 단일 문자 기준\\nchunk_size 의 측정 방식: 문자의 수로 측정\\n③ 분할된 각 문서에 대한 요약 실행\\n분할된 문서에 요약(summarization) 과 같은 테스크를 수행하는 것을 Map, 각 문서의 요약본을 하나로 통합하는 작업을 Reduce 라고 부릅니다. 즉, Map-Reduce 방식은 문서를 분할 - 요약 - 통합 을 수행하게 됩니다.\\n그 중 Map 단계에서 수행할 프롬프트를 템플릿으로 정의하고 chain 을 생성해 보겠습니다.\\n④ 각 문서의 요약본에 대한 통합\\nReduce 단계는 이전 단계인 Map 단계에서 분할된 문서에 대한 요약본을 통합처리 하는 역할을 수행합니다.\\nReduce 단계에서는 통합처리시 필요한 프롬프트를 정의합니다. 통합처리시 단순하게 전체 요약본 테스크를 수행할 수 도 있고, 요약본을 토대로 보고서, 이메일, 뉴스레터, 독서감상문 등의 다양한 테스크를 수행하도록 할 수 있습니다.\\n아래는 통합 요약본을 작성하는 프롬프트 예시입니다.\\ncombine_documents_chain 은 Reduce 작업을 수행하는 체인입니다.\\nMap 단계에서 완성된 분할된 요약본이 StuffDocumentsChain 의 doc_summaries 입력으로 주입됩니다.\\nReduceDocumentsChain 은 주입된 입력 값을 통합하는 작업을 수행합니다.\\n⑤\\xa0통합체인(Combined Chain) 생성\\n통합체인 생성 단계에서는 이전에 정의한 Map 체인과 Reduce 체인을 연결하고, MapReduceDocumentsChain 객체를 통해 통합하는 단계입니다.\\n🔥 전체코드\\n이전 단계의 결과물인 문서의 통합요약본을 바탕으로 다음과 같은 추가 Task를 수행할 수 있습니다. 아래는 독서감상문 작성의 예시입니다.\\n\\n 태그: \\n\\nChatGPT, \\nChatOpenAI, \\nGPT3.5, \\nGPT4, \\nlangchain, \\nlangchain tutorial, \\nOpenAI, \\nPDF, \\n뉴스레터, \\n독서감상문, \\n랭체인, \\n랭체인 튜토리얼, \\n문서요약, \\n크롤링, \\n회의록\\n\\n\\n\\n 카테고리: \\n\\nlangchain\\n\\n\\n 업데이트: 2023년 10월 06일\\n참고\\n\\npoetry 의 거의 모든것 (튜토리얼)\\n\\n\\n\\n\\n\\n2024년 03월 30일\\n\\n\\n\\n\\n        \\n          5 분 소요\\n        \\n      \\n\\nPython 개발에 있어서 poetry는 매우 강력한 도구로, 프로젝트의 의존성 관리와 패키지 배포를 간소화하는 데 큰 도움을 줍니다. 지금부터 poetry 활용 튜토리얼을 살펴 보겠습니다.\\n\\n\\n\\nLangGraph Retrieval Agent를 활용한 동적 문서 검색 및 처리\\n\\n\\n\\n\\n\\n2024년 03월 06일\\n\\n\\n\\n\\n        \\n          10 분 소요\\n        \\n      \\n\\nLangGraph Retrieval Agent는 언어 처리, AI 모델 통합, 데이터베이스 관리, 그래프 기반 데이터 처리 등 다양한 기능을 제공하여 언어 기반 AI 애플리케이션 개발에 필수적인 도구입니다.\\n\\n\\n\\n[Assistants API] Code Interpreter, Retrieval, Functions 활용법\\n\\n\\n\\n\\n\\n2024년 02월 13일\\n\\n\\n\\n\\n        \\n          35 분 소요\\n        \\n      \\n\\nOpenAI의 새로운 Assistants API는 대화와 더불어 강력한 도구 접근성을 제공합니다. 본 튜토리얼은 OpenAI Assistants API를 활용하는 내용을 다룹니다. 특히, Assistant API 가 제공하는 도구인 Code Interpreter, Retrieval...\\n\\n[LangChain] 에이전트(Agent)와 도구(tools)를 활용한 지능형 검색 시스템 구축 가이드\\n\\n\\n\\n\\n\\n2024년 02월 09일\\n\\n\\n\\n\\n        \\n          41 분 소요\\n        \\n      \\n\\n이 글에서는 LangChain 의 Agent 프레임워크를 활용하여 복잡한 검색과 데이터 처리 작업을 수행하는 방법을 소개합니다. LangSmith 를 사용하여 Agent의 추론 단계를 추적합니다. Agent가 활용할 검색 도구(Tavily Search), PDF 기반 검색 리트리버...\\n'}]\n"
     ]
    }
   ],
   "source": [
    "from langchain_teddynote.tools.tavily import TavilySearch\n",
    "\n",
    "# 검색 도구 생성\n",
    "tool = TavilySearch(max_results=3)\n",
    "\n",
    "# 도구 목록에 추가\n",
    "tools = [tool]\n",
    "\n",
    "# 도구 실행\n",
    "print(tool.invoke(\"테디노트 랭체인 튜토리얼\"))"
   ]
  },
  {
   "cell_type": "markdown",
   "id": "b51b6ca3",
   "metadata": {},
   "source": [
    "결과는 챗봇이 질문에 답할 수 있도록 사용할 수 있는 페이지 요약입니다.\n",
    "\n",
    "이번에는 LLM에 `bind_tools`를 추가하여 **LLM + 도구** 를 구성합니다. "
   ]
  },
  {
   "cell_type": "code",
   "execution_count": 4,
   "id": "d6166da5",
   "metadata": {},
   "outputs": [],
   "source": [
    "from typing import Annotated\n",
    "from typing_extensions import TypedDict\n",
    "from langgraph.graph.message import add_messages\n",
    "\n",
    "\n",
    "# State 정의\n",
    "class State(TypedDict):\n",
    "    # list 타입에 add_messages 적용(list 에 message 추가)\n",
    "    messages: Annotated[list, add_messages]"
   ]
  },
  {
   "cell_type": "markdown",
   "id": "efe9e3c7",
   "metadata": {},
   "source": [
    "LLM 을 정의하고 도구를 바인딩합니다."
   ]
  },
  {
   "cell_type": "code",
   "execution_count": 5,
   "id": "8c65ea60",
   "metadata": {},
   "outputs": [],
   "source": [
    "from langchain_openai import ChatOpenAI\n",
    "\n",
    "# LLM 초기화\n",
    "llm = ChatOpenAI(model=\"gpt-4o-mini\")\n",
    "\n",
    "# LLM 에 도구 바인딩\n",
    "llm_with_tools = llm.bind_tools(tools)"
   ]
  },
  {
   "cell_type": "markdown",
   "id": "cc0c2841",
   "metadata": {},
   "source": [
    "노드를 정의합니다."
   ]
  },
  {
   "cell_type": "code",
   "execution_count": 6,
   "id": "028d36e5",
   "metadata": {},
   "outputs": [],
   "source": [
    "# 노드 함수 정의\n",
    "def chatbot(state: State):\n",
    "    answer = llm_with_tools.invoke(state[\"messages\"])\n",
    "    # 메시지 목록 반환\n",
    "    return {\"messages\": [answer]}  # 자동으로 add_messages 적용"
   ]
  },
  {
   "cell_type": "markdown",
   "id": "d5c798e0",
   "metadata": {},
   "source": [
    "그래프 생성 및 노드를 추가합니다."
   ]
  },
  {
   "cell_type": "code",
   "execution_count": 7,
   "id": "8e8d16a3",
   "metadata": {},
   "outputs": [
    {
     "data": {
      "text/plain": [
       "<langgraph.graph.state.StateGraph at 0x16bc94e90>"
      ]
     },
     "execution_count": 7,
     "metadata": {},
     "output_type": "execute_result"
    }
   ],
   "source": [
    "from langgraph.graph import StateGraph\n",
    "\n",
    "# 상태 그래프 초기화\n",
    "graph_builder = StateGraph(State)\n",
    "\n",
    "# 노드 추가\n",
    "graph_builder.add_node(\"chatbot\", chatbot)"
   ]
  },
  {
   "cell_type": "markdown",
   "id": "a034ee74",
   "metadata": {},
   "source": [
    "## 도구 노드(Tool Node)"
   ]
  },
  {
   "cell_type": "markdown",
   "id": "89b08e3f",
   "metadata": {},
   "source": [
    "다음으로, 도구가 호출될 경우 실제로 실행할 수 있는 함수를 만들어야 합니다. 이를 위해 새로운 노드에 도구를 추가합니다.\n",
    "\n",
    "가장 최근의 메시지를 확인하고 메시지에 `tool_calls`가 포함되어 있으면 도구를 호출하는 `BasicToolNode`를 구현합니다. \n",
    "\n",
    "지금은 직접 구현하지만, 나중에는 LangGraph의 pre-built 되어있는 [ToolNode](https://langchain-ai.github.io/langgraph/reference/prebuilt/#langgraph.prebuilt.tool_node.ToolNode) 로 대체할 수 있습니다."
   ]
  },
  {
   "cell_type": "code",
   "execution_count": 8,
   "id": "f1437765",
   "metadata": {},
   "outputs": [
    {
     "data": {
      "text/plain": [
       "<langgraph.graph.state.StateGraph at 0x16bc94e90>"
      ]
     },
     "execution_count": 8,
     "metadata": {},
     "output_type": "execute_result"
    }
   ],
   "source": [
    "import json\n",
    "from langchain_core.messages import ToolMessage\n",
    "\n",
    "\n",
    "# 도구 호출을 위한 전용 노드\n",
    "class BasicToolNode:\n",
    "    \"\"\"Run tools requested in the last AIMessage node\"\"\"\n",
    "\n",
    "    def __init__(self, tools: list) -> None:\n",
    "        # 도구 리스트\n",
    "        self.tools_list = {tool.name: tool for tool in tools}\n",
    "\n",
    "    def __call__(self, inputs: dict):\n",
    "        # 메시지가 존재할 경우 가장 최근 메시지 1개 추출\n",
    "        if messages := inputs.get(\"messages\", []):\n",
    "            message = messages[-1]\n",
    "        else:\n",
    "            raise ValueError(\"No message found in input\")\n",
    "\n",
    "        # 도구 호출 결과\n",
    "        outputs = []\n",
    "        for tool_call in message.tool_calls:\n",
    "            # 도구 호출 후 결과 저장\n",
    "            tool_result = self.tools_list[tool_call[\"name\"]].invoke(tool_call[\"args\"])\n",
    "            outputs.append(\n",
    "                # 도구 호출 결과를 메시지로 저장\n",
    "                ToolMessage(\n",
    "                    content=json.dumps(\n",
    "                        tool_result, ensure_ascii=False\n",
    "                    ),  # 도구 호출 결과를 문자열로 변환\n",
    "                    name=tool_call[\"name\"],\n",
    "                    tool_call_id=tool_call[\"id\"],\n",
    "                )\n",
    "            )\n",
    "\n",
    "        return {\"messages\": outputs}\n",
    "\n",
    "\n",
    "# 도구 노드 생성\n",
    "tool_node = BasicToolNode(tools=[tool])\n",
    "\n",
    "# 그래프에 도구 노드 추가\n",
    "graph_builder.add_node(\"tools\", tool_node)"
   ]
  },
  {
   "cell_type": "markdown",
   "id": "de52ecda",
   "metadata": {},
   "source": [
    "## 조건부 엣지(Conditional Edge)\n",
    "\n",
    "도구 노드가 추가되면 `conditional_edges`를 정의할 수 있습니다.\n",
    "\n",
    "**Edges**는 한 노드에서 다음 노드로 제어 흐름을 라우팅합니다. \n",
    "\n",
    "**Conditional edges**는 일반적으로 \"if\" 문을 포함하여 현재 그래프 상태에 따라 다른 노드로 라우팅합니다. \n",
    "\n",
    "이러한 함수는 현재 그래프 `state`를 받아 다음에 호출할 Node 를 나타내는 **문자열 또는 문자열 목록** 을 반환합니다.\n",
    "\n",
    "<br>\n",
    "아래에서는 `route_tools`라는 라우터 함수를 정의하여 챗봇의 출력에서 `tool_calls`를 확인합니다. \n",
    "\n",
    "이 함수를 `add_conditional_edges`를 호출하여 그래프에 제공하면, <br>`chatbot` 노드가 완료될 때마다 이 함수를 확인하여 다음으로 어디로 갈지 결정합니다.\n",
    "\n",
    "조건은 도구 호출이 있으면 `tools`로, 없으면 `END`로 라우팅됩니다.\n",
    "\n",
    "**참고**\n",
    "\n",
    "- langgraph 에 pre-built 되어 있는 [tools_condition](https://langchain-ai.github.io/langgraph/reference/prebuilt/#tools_condition) 으로 대체할 수 있습니다."
   ]
  },
  {
   "cell_type": "markdown",
   "id": "f758bf4f",
   "metadata": {},
   "source": [
    "### `add_conditional_edges`\n",
    "\n",
    "![add_conditional_edges](./image/langgraph-02.png)\n",
    "\n",
    "`add_conditional_edges` 메서드는 시작 노드에서 여러 대상 노드로의 조건부 엣지를 추가합니다.\n",
    "\n",
    "**매개변수**\n",
    "- `source` (str): 시작 노드. 이 노드를 나갈 때 조건부 엣지가 실행됩니다.\n",
    "- `path` (Union[Callable, Runnable]): 다음 노드를 결정하는 호출 가능한 객체 또는 Runnable. `path_map`을 지정하지 않으면 하나 이상의 노드를 반환해야 합니다. `END`를 반환하면 그래프 실행이 중지됩니다.\n",
    "- `path_map` (Optional[Union[dict[Hashable, str], list[str]]]): 경로와 노드 이름 간의 매핑. 생략하면 `path`가 반환하는 값이 노드 이름이어야 합니다.\n",
    "- `then` (Optional[str]): `path`로 선택된 노드 실행 후 실행할 노드의 이름.\n",
    "\n",
    "**반환값**\n",
    "- Self: 메서드 체이닝을 위해 자기 자신을 반환합니다.\n",
    "\n",
    "**주요 기능**\n",
    "1. 조건부 엣지를 그래프에 추가합니다.\n",
    "2. `path_map`을 딕셔너리로 변환합니다.\n",
    "3. `path` 함수의 반환 타입을 분석하여 자동으로 `path_map`을 생성할 수 있습니다.\n",
    "4. 조건부 분기를 그래프에 저장합니다.\n",
    "\n",
    "**참고**\n",
    "- 이미 컴파일된 그래프에 엣지를 추가하면 경고 메시지가 출력됩니다.\n",
    "- `path` 함수의 반환 값에 대한 타입 힌트가 없거나 `path_map`이 제공되지 않으면, 그래프 시각화 시 해당 엣지가 그래프의 모든 노드로 전환될 수 있다고 가정합니다.\n",
    "- 동일한 이름의 분기가 이미 존재하는 경우 `ValueError`가 발생합니다."
   ]
  },
  {
   "cell_type": "code",
   "execution_count": 9,
   "id": "6a964c74",
   "metadata": {},
   "outputs": [],
   "source": [
    "from langgraph.graph import START, END\n",
    "\n",
    "\n",
    "def route_tools(\n",
    "    state: State,\n",
    "):\n",
    "    if messages := state.get(\"messages\", []):\n",
    "        # 가장 최근 AI 메시지 추출\n",
    "        ai_message = messages[-1]\n",
    "    else:\n",
    "        # 입력 상태에 메시지가 없는 경우 예외 발생\n",
    "        raise ValueError(f\"No messages found in input state to tool_edge: {state}\")\n",
    "\n",
    "    # AI 메시지에 도구 호출이 있는 경우 \"tools\" 반환\n",
    "    if hasattr(ai_message, \"tool_calls\") and len(ai_message.tool_calls) > 0:\n",
    "        # 도구 호출이 있는 경우 \"tools\" 반환\n",
    "        return \"tools\"\n",
    "    # 도구 호출이 없는 경우 \"END\" 반환\n",
    "    return END\n",
    "\n",
    "\n",
    "# `tools_condition` 함수는 챗봇이 도구 사용을 요청하면 \"tools\"를 반환하고, 직접 응답이 가능한 경우 \"END\"를 반환\n",
    "graph_builder.add_conditional_edges(\n",
    "    source=\"chatbot\",\n",
    "    path=route_tools,\n",
    "    # route_tools 의 반환값이 \"tools\" 인 경우 \"tools\" 노드로, 그렇지 않으면 END 노드로 라우팅\n",
    "    path_map={\"tools\": \"tools\", END: END},\n",
    ")\n",
    "\n",
    "# tools > chatbot\n",
    "graph_builder.add_edge(\"tools\", \"chatbot\")\n",
    "\n",
    "# START > chatbot\n",
    "graph_builder.add_edge(START, \"chatbot\")\n",
    "\n",
    "# 그래프 컴파일\n",
    "graph = graph_builder.compile()"
   ]
  },
  {
   "cell_type": "markdown",
   "id": "beab199c",
   "metadata": {},
   "source": [
    "**조건부 엣지**가 단일 노드에서 시작해야 합니다.\n",
    "\n",
    "이는 그래프에 \"`chatbot`\" 노드가 실행될 때마다 도구를 호출하면 'tools'로 이동하고, 직접 응답하면 루프를 종료하라는 의미입니다. \n",
    "\n",
    "사전 구축된 `tools_condition`처럼, 함수는 도구 호출이 없을 경우 `END` 문자열을 반환(그래프 종료) 합니다. 그래프가 `END`로 전환되면 더 이상 완료할 작업이 없으며 실행을 중지합니다."
   ]
  },
  {
   "cell_type": "code",
   "execution_count": 10,
   "id": "8d4d1118",
   "metadata": {},
   "outputs": [
    {
     "data": {
      "image/png": "[encoded data removed]",
      "text/plain": [
       "<IPython.core.display.Image object>"
      ]
     },
     "metadata": {},
     "output_type": "display_data"
    }
   ],
   "source": [
    "from langchain_teddynote.graphs import visualize_graph\n",
    "\n",
    "# 그래프 시각화\n",
    "visualize_graph(graph)"
   ]
  },
  {
   "cell_type": "markdown",
   "id": "b736b473",
   "metadata": {},
   "source": [
    "이제 봇에게 훈련 데이터 외의 질문을 할 수 있습니다."
   ]
  },
  {
   "cell_type": "code",
   "execution_count": 11,
   "id": "31343b25",
   "metadata": {},
   "outputs": [
    {
     "name": "stdout",
     "output_type": "stream",
     "text": [
      "\n",
      "==============\n",
      "STEP: messages\n",
      "==============\n",
      "\n",
      "content='테디노트 YouTube 채널에 대해서 검색해 줘' additional_kwargs={} response_metadata={} id='33d39e89-9abb-4c79-8b58-544d77907fe3'\n",
      "\n",
      "==============\n",
      "STEP: messages\n",
      "==============\n",
      "\n",
      "content='' additional_kwargs={'tool_calls': [{'id': 'call_yb8o7ICZ6Te8dkwwJgmAcJM3', 'function': {'arguments': '{\"query\":\"테디노트 YouTube 채널\"}', 'name': 'tavily_web_search'}, 'type': 'function'}], 'refusal': None} response_metadata={'token_usage': {'completion_tokens': 25, 'prompt_tokens': 105, 'total_tokens': 130, 'completion_tokens_details': {'accepted_prediction_tokens': 0, 'audio_tokens': 0, 'reasoning_tokens': 0, 'rejected_prediction_tokens': 0}, 'prompt_tokens_details': {'audio_tokens': 0, 'cached_tokens': 0}}, 'model_name': 'gpt-4o-mini-2024-07-18', 'system_fingerprint': 'fp_72ed7ab54c', 'finish_reason': 'tool_calls', 'logprobs': None} id='run-d26721ae-c9ab-406d-aefa-d3221de3f1ea-0' tool_calls=[{'name': 'tavily_web_search', 'args': {'query': '테디노트 YouTube 채널'}, 'id': 'call_yb8o7ICZ6Te8dkwwJgmAcJM3', 'type': 'tool_call'}] usage_metadata={'input_tokens': 105, 'output_tokens': 25, 'total_tokens': 130, 'input_token_details': {'audio': 0, 'cache_read': 0}, 'output_token_details': {'audio': 0, 'reasoning': 0}}\n",
      "\n",
      "==============\n",
      "STEP: messages\n",
      "==============\n",
      "\n",
      "content='[{\"title\": \"강의 - 테디노트\", \"url\": \"https://teddylee777.github.io/lectures/\", \"content\": \"️ 테디노트 유튜브(YouTube) 그 밖에도 다양한 주제로 강의 영상을 유튜브(YouTube) 채널에 업로드 하고 있어요. 유튜브 채널에서 재생목록을 꼭 클릭해 보세요! 주제별로 강의 영상을 시리즈로 모아 놓았어요😊. 구독, 좋아요👍 그리고 댓글 감사합니다🥰\", \"score\": 0.8252664, \"raw_content\": \"🔥알림🔥\\\\n\\\\n    ① 테디노트 유튜브 - \\\\n    구경하러 가기!\\\\n\\\\n    ② LangChain 한국어 튜토리얼\\\\n바로가기 👀\\\\n\\\\n    ③ 랭체인 노트 무료 전자책(wikidocs) \\\\n    바로가기 🙌\\\\n\\\\n    ④ RAG 비법노트 LangChain 강의오픈\\\\n바로가기 🙌\\\\n\\\\n    ⑤ 서울대 PyTorch 딥러닝 강의\\\\n바로가기 🙌\\\\n\\\\n\\\\n강의\\\\n\\\\n\\\\n아래에 나열된 강의는 모두 제가 직접 촬영 및 진행한 내 새끼같은 강의들입니다.\\\\n강의에 대한 후기를 먼저 보시면 아시겠지만, 감사하게도 많은 분들이 수강하고 좋은 평가를 남겨 주셨습니다. 정말 한분 한분 감사하다는 인사를 꼭 드리고 싶습니다🙏\\\\n강의를 제작하면서 이것 하나만큼은 진심이었습니다.\\\\n“내 강의를 수강하신 분들의 돈, 시간을 낭비하는 강의는 절대 만들지도 팔지도 않겠다”\\\\n혹여 부족한 점이 있다 하더라도 추가 질의 응답을 통해 소통하고 있습니다.\\\\n데이터와 인공지능에 관심있는 분들이 조금이라도 지름길을 걸으실 수 있도록 양질의 콘텐츠 개발에 최선을 다하겠습니다. 감사합니다😊\\\\n🔥 Google 공인! 텐서플로 개발자 자격증 취득\\\\n\\\\n🙏 아래의 내용을 참고해 주세요 🙏\\\\n📌 VOD 강의 링크\\\\n💻 한 방으로 끝내는 판다스(Pandas) 데이터 분석 - 전자책 포함\\\\n\\\\n🙏 아래의 내용을 참고해 주세요 🙏\\\\n📌 VOD 강의 링크\\\\n🌱 한 권으로 끝내는 파이썬(Python) 코딩 입문 - 전자책 포함\\\\n\\\\n🙏 아래의 내용을 참고해 주세요 🙏\\\\n📌 VOD 강의 링크\\\\n🌱 깃헙 블로그(Github blog)로 차별화 된 나만의 홈페이지 만들기!\\\\n\\\\n🙏 아래의 내용을 참고해 주세요 🙏\\\\n제작부터 커스터마이징까지! 차별화된 깃헙 블로그(GitHub blog) 만들어 보고 싶으신 분들께 추천 드립니다🤩\\\\n코딩은 거의 없기 때문에 코린이도 문제 없어요😊\\\\n테디노트와 같은 블로그를 만들어 보고 싶으시다면 지금 바로 도전해 보세요 🥰\\\\n📌 VOD 강의 링크\\\\n🌱 스트림릿(Streamlit)을 활용한 파이썬 웹앱 제작하기\\\\n\\\\n🙏 아래의 내용을 참고해 주세요 🙏\\\\n스트림릿(streamlit)을 활용하여 파이썬 웹앱 대시보드를 구현해보고 싶으신 분들께 추천 드립니다🤩\\\\n데이터 분석/대시보드 제작 그리고 머신러닝 모델을 배포해서 서비스화 시키는 과정입니다😊\\\\n파이썬 기본 문법만 알고 계신다면 부담 없이 도전해 보실 수 있어요 🥰\\\\n📌 VOD 강의 링크\\\\n❤️ 테디노트 유튜브(YouTube)\\\\n\\\\n그 밖에도 다양한 주제로 강의 영상을 유튜브(YouTube) 채널에 업로드 하고 있어요\\\\n유튜브 채널에서 재생목록을 꼭 클릭해 보세요! 주제별로 강의 영상을 시리즈로 모아 놓았어요😊\\\\n구독, 좋아요👍 그리고 댓글 감사합니다🥰\\\\n📌 지금 당장 유튜브 보러가기\\\\n✏️ 머신러닝 스터디 혼자 해보기\\\\n\\\\n깃헙(GitHub)에 혼자서 데이터 분석, 머신러닝, 딥러닝을 스터디 할 수 있도록 주제별로 정리해 놓았어요✌️\\\\n저도 혼자서 공부를 했었는데, 이해가 쏙쏙 되는 강의와 블로그 주소들을 메모해 두었다가 정리해 본 내용이에요.\\\\n그 밖에 실습파일, 블로그, 논문 등도 잘 정리해 두었으니, 지나가다 쓱 들러보세요😊\\\\n👀 (주의) 내용이 무척 많으니, 다 습득하려 하지 마시고, 모르는 내용만 발췌해서 보세요\\\\n📌 지금 당장 혼공 하러가기\\\\n\"}, {\"title\": \"이경록 워크숍 - aisummit.co.kr\", \"url\": \"https://aisummit.co.kr/workshop-teddy/\", \"content\": \"Teddy(이경록) 는 AI 교육 스타트업 브레인크루의 CEO이자 YouTube \\'테디노트\\' 채널(구독자 3만명)을 운영하며 RAG 기술 콘텐츠를 주로 제작한다. 2024년 LangChain 밋업Q1, Q2 연사와 Gencon2024 에서 Modular RAG 기법을 주제로 발표했다. \\\\\"랭체인 한국어 튜토리얼\\\\\" 저자로, 관련\", \"score\": 0.7845341, \"raw_content\": null}, {\"title\": \"\\'테디의 비밀노트\\' 유튜브 채널 소개 (유튜브 왕초보를 위한 유튜브 채널 육성 꿀팁 전달) : 네이버 블로그\", \"url\": \"https://blog.naver.com/PostView.naver?blogId=teddysecretnote&logNo=223438344026\", \"content\": \"테디의 비밀노트 유튜브 채널 5개 실패 후 6번째 도전에서 성공해 유튜브 조회수로만 약 8000만원의 수입을 올린 8만 구독자 유튜버가 되었습니다. 일상에서 이 경험을 주변에 공유하니 너도나도 자신들도 유튜브를 한 번 해보고 싶다고 제가 겪은 시행착오를\", \"score\": 0.7159213, \"raw_content\": \"\\\\n\\\\n\\\\n\\\\n\\\\n\\\\n\\\\n\\\\n\\\\n\\\\n\\\\n\\\\n\\\\n\\\\n\\\\n\\\\n\\\\n\\\\n테디의 유튜브 비밀노트\\\\n블로그\\\\n\\\\n[공지] ‘테디의 비밀노트’ 유튜브 채널 소개 (유튜브 왕초보를 위한 유튜브 채널 육성 꿀팁 전달)\\\\n안녕하세요 \\\\n왕초보를 위한 유튜브 육성 채널\\\\n테디의 비밀노트를 운영중인 테디 입니다 :)\\\\n\\u200b\\\\n■ 유튜브 채널, 테디의 비밀노트\\\\n유튜브 채널 5개 실패 후 6번째 도전에서 성공해 유튜브 조회수로만 약 8000만원의 수입을 올린 8만 구독자 유튜버가 되었습니다. 일상에서 이 경험을 주변에 공유하니 너도나도 자신들도 유튜브를 한 번 해보고 싶다고 제가 겪은 시행착오를 공유해 달라고 하더라구요. 그래서 이 채널을 만들었습니다. \\\\\"나도 유튜브 한 번 해보고 싶은데\\\\\" 라고 마음을 먹었지만 도무지 어떻게 해야할 지 감이 안 잡히시는 분들, 왕초보분들을 대상으로 제 경험담을 하나하나 공유해 드리겠습니다. 저 테디가 유튜브 왕초보 탈출, 누구보다 친절하게 앞장서서 도와드리...\\\\nwww.youtube.com\\\\n유튜브 육성이라는 주제로\\\\n새로운 유튜브 채널을 개설한 뒤\\\\n첫 영상을 올린지 3일 만에\\\\n구독자 100명을 달성했습니다\\\\n\\u200b첫 영상 제작하는데 들인 퀄리티는\\\\n목표 조회수를 20만회 정도로 잡았을 때의\\\\n작업 수준으로 맞췄던 것 같습니다\\\\n\\u200b\\\\n오늘 아침 8시쯤 출근할 때까지만 해도 \\\\n저 영상의 조회수가 4였고\\\\n“새 유튜브 채널하려니 감회가 새롭네”\\\\n라는 생각을 안고\\\\n사무실로 들어가 자리에 앉았는데\\\\n\\u200b\\\\n갑자기 구독자분들이\\\\n하나둘 늘어나기 시작하고\\\\n단톡방에도 하나 둘 사람이 늘어나고\\\\n영상에 댓글이 하나둘 달리기 시작하더군요\\\\n\\u200b\\\\n유튜브 채널 관리 도구인\\\\n\\'유튜브 스튜디오\\'에 들어가서\\\\n부랴부랴 확인을 해보니\\\\n\\u200b\\\\n채널의 첫 영상이 \\\\n알고리즘을 타고\\\\n유튜브 메인화면에 노출되고 있었습니다\\\\n\\u200b\\\\n나중에 유튜브 알고리즘을 다룰 때\\\\n또 설명드리겠지만\\\\n\\u200b\\\\n소위 \\'조회수\\'를 많이 확보해서 \\\\n구독자를 늘리고, 수익을 늘리는 방식은\\\\n\\u200b\\\\n\\u200b\\\\n알고리즘 중 \\'탐색 기능\\'에 의해\\\\n유튜브 메인화면에 띄워주는 노출도를 \\\\n대중들에게 확 높여주는 방식입니다\\\\n사진 설명을 입력하세요.\\\\n(금일 급격하게 조회수가 올라간 점\\\\n 탐색 기능에 의한 유입이 대부분임을 \\\\n 알 수 있습니다)\\\\n\\u200b\\\\n흔히 우리가 \\\\n조회수 떡상\\'이라고 표현하는 영상은\\\\n거의 대부분 다 \\'탐색 기능\\'에 의한 유입으로\\\\n조회수가 구성됩니다\\\\n\\u200b\\\\n\\u200b\\\\n유튜브 알고리즘은 \\\\n10~60대 이상까지 남녀 노소\\\\n한국부터 세계까지\\\\n쭉 영상을 노출해 준 뒤\\\\n\\u200b\\\\n시청자의 반응도를 보고\\\\n시청자의 시청 데이터 및 \\\\n행동 패턴을 수집한 뒤\\\\n\\u200b\\\\n괜찮은 영상이라는 \\\\n내부 로직에 부합한다고 판단하면\\\\n밀어줄 수 있을 때까지 영상을 밀어주고 \\\\n노출을 끝마치게 됩니다\\\\n\\u200b\\\\n저는 원 채널에서 \\\\n영상 조회수로만 \\\\n수익을 8000만원 가까이 냈고\\\\n앞서 말씀드린 바와 같이\\\\n탐색 기능에 의한 유입이 대부분이었습니다\\\\n\\u200b\\\\n원 채널에서 \\'탐색 기능\\' 유입으로\\\\n영상을 여러개 조회수 떡상시킨 경험이\\\\n풍부하게 있기 때문에\\\\n신규 채널 영상을 기획해서 업로드해도 \\\\n동일하게 \\'탐색 기능\\'에 의한 유입이 많은\\\\n영상을 만들 수 있는 것입니다\\\\n\\u200b\\\\n사실 솔직히 말씀드리자면\\\\n이 채널만큼은 저는\\\\n\\'탐색 기능\\'에 의한 유입이 \\\\n많지 않기를 바랍니다\\\\n\\u200b\\\\n\\u200b\\'탐색 기능\\'에 의한 유입은 \\\\n\\'조회수 떡상\\'을 이끌지만\\\\n그 떡상을 이끄는 원리가 \\\\n\\\\\"10대~60대 남녀노소, 한국~세계\\\\\"까지 \\\\n영상을 쭉 노출시키고 \\\\n시청자를 끌어들이는 방식인데\\\\n\\u200b\\\\n이 채널은 철저히\\\\n\\'유튜브를 혼자서 시작하려니\\\\n어디서부터 해야할 지\\\\n막막한 분\\'만 대상으로만\\\\n구독자를 받아\\\\n운영하고 싶기 때문입니다\\\\n\\u200b\\\\n\\u200b그래서 원 채널은 추후\\\\n\\'유튜브를 배우고 싶은 사람들\\'이\\\\n절대 다수를 이루는\\\\n구독자 분포를 이룬다고 생각할 때\\\\n공개해 드릴 예정이며\\\\n외부의 이상한 유입을 최대한 차단\\\\n하고자 합니다\\\\n\\u200b\\\\n이 말은 다시 말해서\\\\n제가 의도하는 대로 \\\\n영상 타겟군과 유입량을\\\\n어느정도 조절할 수 있음을 의미하는데\\\\n추후 알고리즘 편에서 말씀드릴게요\\\\n\\u200b\\\\n이 채널은 구독자를 모은다기 보다\\\\n정말 유튜브 해보고 싶은 분들\\'만\\' 모시고\\\\n함께 가고 싶은 채널입니다\\\\n\\u200b\\\\n그리고 원 채널은 제 영상들과 목소리, \\\\n영상 편집 요소들이 다 남아있기 때문에\\\\n추후 공개하면 “아 이거였구나”하고 \\\\n자연스레 아시게 될 겁니다 :)\\\\n\\u200b\\\\n제가 첫 영상에서 어떤 시행착오를 거쳐\\\\n최종 유튜브 채널에 정착했는지\\\\n유튜브 채널 실패담을 말씀 드렸습니다\\\\n\\u200b\\\\n최대한 함축적으로 말씀드렸는데도 \\\\n10분 분량이 나왔는데\\\\n정말 다 영상에 담자니\\\\n너무 분량이 많기 때문에\\\\n\\u200b\\\\n테디의 비밀노트 유튜브 채널에서는\\\\n유튜브 채널을 처음 만들고\\\\n막 시작하려는 상태의\\\\n‘과거의 저\\'로 돌아가서\\\\n\\u200b어떤 생각과\\\\n어떤 고민들을 안고\\\\n어떤 시행착오를 거쳐\\\\n어떤 의사결정을 해서\\\\n앞으로 나아갔는지\\\\n\\u200b\\\\n과거의 나는\\\\n어떤 부분들이 \\\\n정말 막막했었는지\\\\n\\u200b\\\\n이런 것들을 하나하나 풀어서\\\\n공유해 드릴 생각입니다\\\\n\\u200b\\\\n\\u200b리얼하게 느끼게 해드리기 위해\\\\n아마 그 때의 제 심경과\\\\n심리상태를 공유하는 \\\\n마인드셋 영역도\\\\n다루게 될 것 같습니다 :)\\\\n\\u200b\\\\n\\u200b제 지인들이\\\\n제 유튜브 경험담을 들으면\\\\n하나같이\\\\n\\\\\"나도 해볼래, 나도 알려줘. \\\\n근데 어디서부터 해야 돼?\\\\\"\\\\n라는 질문들을 많이 하더라구요\\\\n\\u200b\\\\n비록 구독자분들이\\\\n제 실제 지인은 아니지만\\\\n온라인에서 만나게 된, \\\\n동일한 궁금증을 지닌\\\\n제 지인이란 생각으로\\\\n\\u200b\\\\n지인에게 설명하듯 \\\\n앞으로 설명을\\\\n해나가겠습니다 :)\\\\n제가 어떻게 유튜브 왕초보에서부터\\\\n성장을 하게 됐는지\\\\n하나하나 꿀팁을 얻고 싶은 분들은\\\\n아래 링크로 들어와 주세요 :)\\\\n■ YouTube 채널\\\\n유튜브 채널 5개 실패 후 6번째 도전에서 성공해 유튜브 조회수로만 약 8000만원의 수입을 올린 8만 구독자 유튜버가 되었습니다. 일상에서 이 경험을 주변에 공유하니 너도나도 자신들도 유튜브를 한 번 해보고 싶다고 제가 겪은 시행착오를 공유해 달라고 하더라구요. 그래서 이 채널을 만들었습니다. \\\\\"나도 유튜브 한 번 해보고 싶은데\\\\\" 라고 마음을 먹었지만 도무지 어떻게 해야할 지 감이 안 잡히시는 분들, 왕초보분들을 대상으로 제 경험담을 하나하나 공유해 드리겠습니다. 저 테디가 유튜브 왕초보 탈출, 누구보다 친절하게 앞장서서 도와드리...\\\\nwww.youtube.com\\\\n■ 네이버 카페\\\\n유튜브 조회수로만 약 8000만원의 수익을 올린 제 경험을 토대로 유튜버 왕초보에서 탈출시켜 드리겠습니다\\\\ncafe.naver.com\\\\n■ 단체 카톡방\\\\n#테디 #테디의비밀노트 #테디의유튜브 #테디의유튜브비밀노트\\\\nopen.kakao.com\\\\n\\u200b\\\\n다시 한 번 반갑고 또 감사합니다 :)\\\\n- 테디 드림\\\\n\\xa0\\\\n\\xa0\\\\n\\xa0\\\\n\\xa0\\\\n\\xa0\\\\n\\xa0\\\\n\\xa0\\\\n\\xa0\\\\n\\xa0\\\\n\\xa0\\\\n\\xa0\\\\n\\xa0\\\\n검색\\\\n안녕하세요.이 포스트는 네이버 블로그에서 작성된 게시글입니다.자세한 내용을 보려면 링크를 클릭해주세요.감사합니다.\\\\n2009년 6월 30일 네이버 여행 서비스가 종료되었습니다. 네이버 여행 서비스를 이용해 주신 여러분께 감사드리며, 더 좋은 서비스로 보답할 수 있도록 노력하겠습니다.\\\\n악성코드가 포함되어 있는 파일입니다.\\\\n{FILENAME}\\\\n백신 프로그램으로 치료하신 후 다시 첨부하시거나, 치료가 어려우시면파일을 삭제하시기 바랍니다.\\\\n고객님의 PC가 악성코드에 감염될 경우 시스템성능 저하,개인정보 유출등의 피해를 입을 수 있으니 주의하시기 바랍니다.\\\\n작성자 이외의 방문자에게는 이용이 제한되었습니다.\\\\n{ALERTMESSAGE}\\\\n이용제한 파일 : {FILENAME}\\\\n네이버는 블로그를 통해 저작물이 무단으로 공유되는 것을 막기 위해,\\\\n\\\\t\\\\t\\\\t\\\\t\\\\t\\\\t저작권을 침해하는 컨텐츠가 포함되어 있는 게시물의 경우 글보내기 기능을 제한하고 있습니다.\\\\n상세한 안내를 받고 싶으신 경우 네이버 고객센터로 문의주시면 도움드리도록 하겠습니다.\\\\n\\\\t\\\\t\\\\t\\\\t\\\\t\\\\t건강한 인터넷 환경을 만들어 나갈 수 있도록 고객님의 많은 관심과 협조를 부탁드립니다.\\\\n네이버는 블로그를 통해 저작물이 무단으로 공유되는 것을 막기 위해,\\\\n\\\\t\\\\t\\\\t\\\\t\\\\t\\\\t저작권을 침해하는 컨텐츠가 포함되어 있는 게시물의 경우 주제 분류 기능을 제한하고 있습니다.\\\\n상세한 안내를 받고 싶으신 경우 네이버 고객센터로 문의주시면 도움드리도록 하겠습니다.\\\\n\\\\t\\\\t\\\\t\\\\t\\\\t\\\\t건강한 인터넷 환경을 만들어 나갈 수 있도록 고객님의 많은 관심과 협조를 부탁드립니다.\\\\n작성하신 게시글에 사용이 제한된 문구가 포함되어 일시적으로  등록이 제한됩니다.\\\\n이용자 분들이 홍보성 도배, 스팸 게시물로 불편을 겪지 않도록 다음과 같은 경우 해당 게시물 등록이 일시적으로 제한됩니다.\\\\n스팸 게시물이 확대 생성되는 것을 방지하기 위하여 문구 및 사용 제한기간을상세하게 안내해 드리지 못하는 점 양해 부탁 드립니다. 모두가 행복한 인터넷문화를 만들기 위한 네이버의 노력이오니 회원님의 양해와 협조 부탁드립니다.\\\\n더 궁금하신 사항은 고객센터로 문의하시면 자세히 알려드리겠습니다.\\\\n수정하신 후 다시 등록해 주세요.\\\\n회원님의 안전한 서비스 이용을 위해 비밀번호를 확인해 주세요.\\\\n다시 한번 비밀번호 확인 하시면 이용중인 화면으로 돌아가며, 작성 중이던내용을 정상적으로 전송 또는 등록하실 수 있습니다.\\\\n\\\\n이 글의 공감수도 함께 차감됩니다.\\\\n\\\\n\\\\n\\\\n작성하신 에 이용자들의 신고가 많은 표현이 포함되어 있습니다.\\\\n다른 표현을 사용해주시기 바랍니다.\\\\n\\\\t\\\\t\\\\t건전한 인터넷 문화 조성을 위해 회원님의 적극적인 협조를 부탁드립니다.\\\\n더 궁금하신 사항은 고객센터로 문의하시면 자세히 알려드리겠습니다.\\\\n블로그 마켓 가입 완료\\\\n내 상품 관리에서 배송비 설정 후 상품 판매를 시작해보세요!\\\\n\"}]' name='tavily_web_search' id='a118efed-2cb8-4c0a-a1d0-3caf624cc4f2' tool_call_id='call_yb8o7ICZ6Te8dkwwJgmAcJM3'\n",
      "\n",
      "==============\n",
      "STEP: messages\n",
      "==============\n",
      "\n",
      "content=\"테디노트(테디의 비밀노트) 유튜브 채널에 대한 정보는 다음과 같습니다:\\n\\n1. **채널 소개**: 테디노트는 다양한 주제로 강의 영상을 업로드하는 유튜브 채널입니다. 특히 데이터 분석, 머신러닝, 딥러닝 등 인공지능 관련 강의를 중점적으로 다루고 있습니다. 구독자 수는 약 3만 명이며, 유튜브 채널을 통해 양질의 콘텐츠를 제공하기 위해 노력하고 있습니다. 테디노트의 강의는 많은 수강생들로부터 긍정적인 평가를 받고 있습니다. [채널 바로가기](https://teddylee777.github.io/lectures/)\\n\\n2. **성공 사례**: '테디의 비밀노트'라는 또 다른 채널은 5번의 실패 끝에 6번째 도전에서 성공을 거두어, 유튜브 조회수로 약 8000만원의 수익을 올린 8만 구독자 유튜버로 성장했습니다. 이 채널은 유튜브를 처음 시작하려는 사람들을 위한 팁과 경험을 공유하는 데 중점을 두고 있습니다. [블로그 링크](https://blog.naver.com/PostView.naver?blogId=teddysecretnote&logNo=223438344026)\\n\\n3. **강의 내용**: 테디노트에서는 LangChain과 같은 최신 기술에 대한 강의를 제공하며, 실습 파일 및 자료도 함께 제공하여 학습을 돕고 있습니다.\\n\\n테디노트는 데이터와 인공지능 분야의 교육을 통해 많은 사람들에게 도움을 주고 있는 채널입니다. 관심이 있으시다면 위의 링크를 통해 채널을 방문해 보세요!\" additional_kwargs={'refusal': None} response_metadata={'token_usage': {'completion_tokens': 382, 'prompt_tokens': 4544, 'total_tokens': 4926, 'completion_tokens_details': {'accepted_prediction_tokens': 0, 'audio_tokens': 0, 'reasoning_tokens': 0, 'rejected_prediction_tokens': 0}, 'prompt_tokens_details': {'audio_tokens': 0, 'cached_tokens': 0}}, 'model_name': 'gpt-4o-mini-2024-07-18', 'system_fingerprint': 'fp_72ed7ab54c', 'finish_reason': 'stop', 'logprobs': None} id='run-ce2a1cea-0b5c-4af1-887e-256bf42dc10c-0' usage_metadata={'input_tokens': 4544, 'output_tokens': 382, 'total_tokens': 4926, 'input_token_details': {'audio': 0, 'cache_read': 0}, 'output_token_details': {'audio': 0, 'reasoning': 0}}\n"
     ]
    }
   ],
   "source": [
    "inputs = {\"messages\": \"테디노트 YouTube 채널에 대해서 검색해 줘\"}\n",
    "\n",
    "for event in graph.stream(inputs, stream_mode=\"values\"):\n",
    "    for key, value in event.items():\n",
    "        print(f\"\\n==============\\nSTEP: {key}\\n==============\\n\")\n",
    "        # display_message_tree(value[\"messages\"][-1])\n",
    "        print(value[-1])"
   ]
  },
  {
   "cell_type": "markdown",
   "id": "f4c6c5ac",
   "metadata": {},
   "source": [
    "도구 호출 후 구조에 대한 이미지"
   ]
  },
  {
   "cell_type": "markdown",
   "id": "23623eec",
   "metadata": {},
   "source": [
    "![](./image/tool-message-01.png)"
   ]
  },
  {
   "cell_type": "markdown",
   "id": "ff003852",
   "metadata": {},
   "source": [
    "- [이전 실행에 대한 LangSmith 추적](https://smith.langchain.com/public/4f82ddfa-a452-40f3-ab09-4eb088b812a4/r)"
   ]
  }
 ],
 "metadata": {
  "kernelspec": {
   "display_name": "langchain-kr--Xj_wIV7-py3.11",
   "language": "python",
   "name": "python3"
  },
  "language_info": {
   "codemirror_mode": {
    "name": "ipython",
    "version": 3
   },
   "file_extension": ".py",
   "mimetype": "text/x-python",
   "name": "python",
   "nbconvert_exporter": "python",
   "pygments_lexer": "ipython3",
   "version": "3.11.11"
  }
 },
 "nbformat": 4,
 "nbformat_minor": 5
}
