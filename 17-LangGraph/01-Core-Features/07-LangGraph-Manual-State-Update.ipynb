{
 "cells": [
  {
   "cell_type": "markdown",
   "id": "eec680f5",
   "metadata": {},
   "source": [
    "# 중간 단계의 상태(State) 수동 업데이트\n",
    "\n",
    "LangGraph는 **중간 단계의 상태를 수동으로 업데이트** 할 수 있는 방안을 제공하고 있습니다.\n",
    "\n",
    "상태를 업데이트하면 **에이전트의 행동을 수정하여 경로를 제어** 할 수 있으며, 심지어 과거를 수정할 수도 있습니다. \n",
    "\n",
    "이 기능은 **에이전트의 실수를 수정** 하거나, **대체 경로를 탐색** 하거나, 특정 목표에 따라 **에이전트의 동작을 변경** 할 때 특히 유용합니다.\n",
    "\n",
    "- 참고: 본 튜토리얼에서 사용하는 에이전트는 이전 튜토리얼과 동일한 그래프를 정의합니다."
   ]
  },
  {
   "cell_type": "code",
   "execution_count": 1,
   "id": "de9d9d8d",
   "metadata": {},
   "outputs": [
    {
     "data": {
      "text/plain": [
       "True"
      ]
     },
     "execution_count": 1,
     "metadata": {},
     "output_type": "execute_result"
    }
   ],
   "source": [
    "# API 키를 환경변수로 관리하기 위한 설정 파일\n",
    "from dotenv import load_dotenv\n",
    "\n",
    "# API 키 정보 로드\n",
    "load_dotenv()"
   ]
  },
  {
   "cell_type": "code",
   "execution_count": 2,
   "id": "6b5c6228",
   "metadata": {},
   "outputs": [
    {
     "name": "stdout",
     "output_type": "stream",
     "text": [
      "LangSmith 추적을 시작합니다.\n",
      "[프로젝트명]\n",
      "CH17-LangGraph-Modules\n"
     ]
    }
   ],
   "source": [
    "# LangSmith 추적을 설정합니다. https://smith.langchain.com\n",
    "# !pip install -qU langchain-teddynote\n",
    "from langchain_teddynote import logging\n",
    "\n",
    "# 프로젝트 이름을 입력합니다.\n",
    "logging.langsmith(\"CH17-LangGraph-Modules\")"
   ]
  },
  {
   "cell_type": "code",
   "execution_count": 2,
   "id": "e5d857b9",
   "metadata": {},
   "outputs": [
    {
     "data": {
      "image/png": "[encoded data removed]",
      "text/plain": [
       "<IPython.core.display.Image object>"
      ]
     },
     "metadata": {},
     "output_type": "display_data"
    }
   ],
   "source": [
    "from typing import Annotated\n",
    "from typing_extensions import TypedDict\n",
    "\n",
    "from langchain_teddynote.tools.tavily import TavilySearch\n",
    "from langchain_openai import ChatOpenAI\n",
    "from langgraph.checkpoint.memory import MemorySaver\n",
    "from langgraph.graph import StateGraph, START, END\n",
    "from langgraph.graph.message import add_messages\n",
    "from langgraph.prebuilt import ToolNode, tools_condition\n",
    "from langchain_teddynote.graphs import visualize_graph\n",
    "\n",
    "\n",
    "########## 1. 상태 정의 ##########\n",
    "# 상태 정의\n",
    "class State(TypedDict):\n",
    "    # 메시지 목록 주석 추가\n",
    "    messages: Annotated[list, add_messages]\n",
    "\n",
    "\n",
    "########## 2. 도구 정의 및 바인딩 ##########\n",
    "# 도구 초기화\n",
    "tool = TavilySearch(max_results=3)\n",
    "\n",
    "# 도구 목록 정의\n",
    "tools = [tool]\n",
    "\n",
    "# LLM 초기화\n",
    "llm = ChatOpenAI(model=\"gpt-4o-mini\")\n",
    "\n",
    "# 도구와 LLM 결합\n",
    "llm_with_tools = llm.bind_tools(tools)\n",
    "\n",
    "\n",
    "########## 3. 노드 추가 ##########\n",
    "# 챗봇 함수 정의\n",
    "def chatbot(state: State):\n",
    "    # 메시지 호출 및 반환\n",
    "    return {\"messages\": [llm_with_tools.invoke(state[\"messages\"])]}\n",
    "\n",
    "\n",
    "# 상태 그래프 생성\n",
    "graph_builder = StateGraph(State)\n",
    "\n",
    "# 챗봇 노드 추가\n",
    "graph_builder.add_node(\"chatbot\", chatbot)\n",
    "\n",
    "\n",
    "# 도구 노드 생성 및 추가\n",
    "tool_node = ToolNode(tools=tools)\n",
    "\n",
    "# 도구 노드 추가\n",
    "graph_builder.add_node(\"tools\", tool_node)\n",
    "\n",
    "# 조건부 엣지\n",
    "graph_builder.add_conditional_edges(\n",
    "    \"chatbot\",\n",
    "    tools_condition,\n",
    ")\n",
    "\n",
    "########## 4. 엣지 추가 ##########\n",
    "\n",
    "# tools > chatbot\n",
    "graph_builder.add_edge(\"tools\", \"chatbot\")\n",
    "\n",
    "# START > chatbot\n",
    "graph_builder.add_edge(START, \"chatbot\")\n",
    "\n",
    "# chatbot > END\n",
    "graph_builder.add_edge(\"chatbot\", END)\n",
    "\n",
    "########## 5. 그래프 컴파일 ##########\n",
    "# 메모리 저장소 초기화\n",
    "memory = MemorySaver()\n",
    "\n",
    "# 그래프 빌더 컴파일\n",
    "graph = graph_builder.compile(checkpointer=memory)\n",
    "\n",
    "########## 6. 그래프 시각화 ##########\n",
    "# 그래프 시각화\n",
    "visualize_graph(graph)"
   ]
  },
  {
   "cell_type": "code",
   "execution_count": 3,
   "id": "d0b61953",
   "metadata": {},
   "outputs": [],
   "source": [
    "from langchain_core.runnables import RunnableConfig\n",
    "\n",
    "# 질문\n",
    "question = \"LangGraph 가 무엇인지 조사하여 알려주세요!\"\n",
    "\n",
    "# 초기 입력 상태를 정의\n",
    "input = State(messages=[(\"user\", question)])\n",
    "\n",
    "# config 설정\n",
    "config = RunnableConfig(\n",
    "    configurable={\"thread_id\": \"1\"},  # 스레드 ID 설정\n",
    ")"
   ]
  },
  {
   "cell_type": "markdown",
   "id": "6ab2ab8a",
   "metadata": {},
   "source": [
    "우선 채널목록을 출력하여 **interrupt_before** 와 **interrupt_after** 를 적용할 수 있는 목록을 출력합니다."
   ]
  },
  {
   "cell_type": "code",
   "execution_count": 4,
   "id": "005ec550",
   "metadata": {},
   "outputs": [
    {
     "data": {
      "text/plain": [
       "['messages',\n",
       " '__start__',\n",
       " 'chatbot',\n",
       " 'tools',\n",
       " 'branch:__start__:__self__:chatbot',\n",
       " 'branch:__start__:__self__:tools',\n",
       " 'branch:chatbot:__self__:chatbot',\n",
       " 'branch:chatbot:__self__:tools',\n",
       " 'branch:tools:__self__:chatbot',\n",
       " 'branch:tools:__self__:tools',\n",
       " 'start:chatbot',\n",
       " 'branch:chatbot:tools_condition:tools']"
      ]
     },
     "execution_count": 4,
     "metadata": {},
     "output_type": "execute_result"
    }
   ],
   "source": [
    "# 그래프 채널 목록 출력\n",
    "list(graph.channels)"
   ]
  },
  {
   "cell_type": "code",
   "execution_count": 5,
   "id": "cf1b5314",
   "metadata": {},
   "outputs": [
    {
     "name": "stdout",
     "output_type": "stream",
     "text": [
      "================================\u001b[1m Human Message \u001b[0m=================================\n",
      "\n",
      "LangGraph 가 무엇인지 조사하여 알려주세요!\n",
      "==================================\u001b[1m Ai Message \u001b[0m==================================\n",
      "Tool Calls:\n",
      "  tavily_web_search (call_jO7nXor57CvIlC3AIHCzF2ez)\n",
      " Call ID: call_jO7nXor57CvIlC3AIHCzF2ez\n",
      "  Args:\n",
      "    query: LangGraph\n"
     ]
    }
   ],
   "source": [
    "# 그래프 스트림 호출\n",
    "events = graph.stream(\n",
    "    input=input, config=config, interrupt_before=[\"tools\"], stream_mode=\"values\"\n",
    ")\n",
    "\n",
    "# 이벤트 반복 처리\n",
    "for event in events:\n",
    "    # 메시지가 이벤트에 포함된 경우\n",
    "    if \"messages\" in event:\n",
    "        # 마지막 메시지의 예쁜 출력\n",
    "        event[\"messages\"][-1].pretty_print()"
   ]
  },
  {
   "cell_type": "markdown",
   "id": "8ee8250e",
   "metadata": {},
   "source": [
    "현재 단계는 `ToolNode` 에 의해 중단되었습니다.\n",
    "\n",
    "가장 최근 메시지를 확인하면 `ToolNode` 가 검색을 수행하기 전 `query` 를 포함하고 있음을 알 수 있습니다.\n",
    "\n",
    "여기서는 `query` 가 단순하게 `LangGraph` 라는 단어만을 포함하고 있습니다. (기존의 질문은 `\"LangGraph 가 무엇인지 조사하여 알려주세요!\"` 였습니다.)\n",
    "\n",
    "당연하게도, 웹 검색 결과가 우리가 원하는 결과와 다를 수 있습니다."
   ]
  },
  {
   "cell_type": "code",
   "execution_count": 6,
   "id": "731587a0",
   "metadata": {},
   "outputs": [
    {
     "name": "stdout",
     "output_type": "stream",
     "text": [
      "==================================\u001b[1m Ai Message \u001b[0m==================================\n",
      "Tool Calls:\n",
      "  tavily_web_search (call_jO7nXor57CvIlC3AIHCzF2ez)\n",
      " Call ID: call_jO7nXor57CvIlC3AIHCzF2ez\n",
      "  Args:\n",
      "    query: LangGraph\n"
     ]
    }
   ],
   "source": [
    "# 그래프 상태 스냅샷 생성\n",
    "snapshot = graph.get_state(config)\n",
    "\n",
    "# 가장 최근 메시지 추출\n",
    "last_message = snapshot.values[\"messages\"][-1]\n",
    "\n",
    "# 메시지 출력\n",
    "last_message.pretty_print()"
   ]
  },
  {
   "cell_type": "markdown",
   "id": "3dad6839",
   "metadata": {},
   "source": [
    "## 사람의 개입 (Human-in-the-loop)\n",
    "\n",
    "- `TavilySearch` 도구에서 **검색 결과** 를 수정\n",
    "\n",
    "우리는 종종 `ToolMessage` 의 결과가 마음에 들지 않는 경우가 있습니다.\n",
    "\n",
    "특히, 웹 검색하여 얻은 답변은 얼마든지 잘못된 정보가 포함될 수 있고, 이는 곧 챗봇의 답변에도 영향을 미칠 수 있습니다.\n",
    "\n",
    "만약, 사람이 중간에 개입하여 웹 검색 도구인 `Tavily Tool` 의 검색 결과인 `ToolMessage` 를 수정하여 LLM 에게 전달하고 싶다면 어떻게 해야 할까요?"
   ]
  },
  {
   "cell_type": "markdown",
   "id": "9e301863",
   "metadata": {},
   "source": [
    "![](./image/langgraph-01.png)"
   ]
  },
  {
   "cell_type": "markdown",
   "id": "f3a0d4cc",
   "metadata": {},
   "source": [
    "아래는 원래의 웹 검색 결과와는 조금 다른 수정한 가상의 웹 검색 결과를 만들어 보았습니다"
   ]
  },
  {
   "cell_type": "code",
   "execution_count": 7,
   "id": "0d8efa7d",
   "metadata": {},
   "outputs": [
    {
     "name": "stdout",
     "output_type": "stream",
     "text": [
      "[수정된 웹 검색 결과] \n",
      "LangGraph는 상태 기반의 다중 액터 애플리케이션을 LLM을 활용해 구축할 수 있도록 지원합니다.\n",
      "LangGraph는 사이클 흐름, 제어 가능성, 지속성, 클라우드 배포 기능을 제공하는 오픈 소스 라이브러리입니다.\n",
      "\n",
      "자세한 튜토리얼은 [LangGraph 튜토리얼](https://langchain-ai.github.io/langgraph/tutorials/) 과\n",
      "테디노트의 [랭체인 한국어 튜토리얼](https://wikidocs.net/233785) 을 참고하세요.\n"
     ]
    }
   ],
   "source": [
    "modified_search_result = \"\"\"[수정된 웹 검색 결과] \n",
    "LangGraph는 상태 기반의 다중 액터 애플리케이션을 LLM을 활용해 구축할 수 있도록 지원합니다.\n",
    "LangGraph는 사이클 흐름, 제어 가능성, 지속성, 클라우드 배포 기능을 제공하는 오픈 소스 라이브러리입니다.\n",
    "\n",
    "자세한 튜토리얼은 [LangGraph 튜토리얼](https://langchain-ai.github.io/langgraph/tutorials/) 과\n",
    "테디노트의 [랭체인 한국어 튜토리얼](https://wikidocs.net/233785) 을 참고하세요.\"\"\"\n",
    "\n",
    "print(modified_search_result)"
   ]
  },
  {
   "cell_type": "markdown",
   "id": "a18cff2a",
   "metadata": {},
   "source": [
    "다음으로는 수정한 검색 결과를 `ToolMessage` 에 주입합니다.\n",
    "\n",
    "**중요**\n",
    "\n",
    "- 여기서 메시지를 수정하려면 수정하고자 하는 Message 와 일치하는 `tool_call_id` 를 지정해야 합니다."
   ]
  },
  {
   "cell_type": "code",
   "execution_count": 8,
   "id": "52368d6e",
   "metadata": {},
   "outputs": [
    {
     "name": "stdout",
     "output_type": "stream",
     "text": [
      "call_jO7nXor57CvIlC3AIHCzF2ez\n"
     ]
    }
   ],
   "source": [
    "# 수정하고자 하는 `ToolMessage` 의 `tool_call_id` 추출\n",
    "tool_call_id = last_message.tool_calls[0][\"id\"]\n",
    "print(tool_call_id)"
   ]
  },
  {
   "cell_type": "code",
   "execution_count": 9,
   "id": "1acabaac",
   "metadata": {},
   "outputs": [
    {
     "name": "stdout",
     "output_type": "stream",
     "text": [
      "=================================\u001b[1m Tool Message \u001b[0m=================================\n",
      "\n",
      "[수정된 웹 검색 결과] \n",
      "LangGraph는 상태 기반의 다중 액터 애플리케이션을 LLM을 활용해 구축할 수 있도록 지원합니다.\n",
      "LangGraph는 사이클 흐름, 제어 가능성, 지속성, 클라우드 배포 기능을 제공하는 오픈 소스 라이브러리입니다.\n",
      "\n",
      "자세한 튜토리얼은 [LangGraph 튜토리얼](https://langchain-ai.github.io/langgraph/tutorials/) 과\n",
      "테디노트의 [랭체인 한국어 튜토리얼](https://wikidocs.net/233785) 을 참고하세요.\n"
     ]
    }
   ],
   "source": [
    "from langchain_core.messages import AIMessage, ToolMessage\n",
    "\n",
    "new_messages = [\n",
    "    # LLM API의 도구 호출과 일치하는 ToolMessage 필요\n",
    "    ToolMessage(\n",
    "        content=modified_search_result,\n",
    "        tool_call_id=tool_call_id,  # 아이디가 같으면 기존의 메시지를 교체한다.\n",
    "    ),\n",
    "    # LLM의 응답에 직접적으로 내용 추가\n",
    "    # AIMessage(content=modified_search_result),\n",
    "]\n",
    "\n",
    "new_messages[-1].pretty_print()"
   ]
  },
  {
   "cell_type": "markdown",
   "id": "b970602d",
   "metadata": {},
   "source": [
    "### StateGraph의 `update_state` 메서드\n",
    "\n",
    "`update_state` 메서드는 주어진 값으로 그래프의 상태를 업데이트합니다. \n",
    "<br>이 메서드는 마치 `as_node`에서 값이 온 것처럼 동작합니다.\n",
    "\n",
    "**매개변수**\n",
    "\n",
    "- `config` (RunnableConfig): 실행 구성\n",
    "- `values` (Optional[Union[dict[str, Any], Any]]): 업데이트할 값들\n",
    "- `as_node` (Optional[str]): 값의 출처로 간주할 노드 이름. 기본값은 None\n",
    "\n",
    "**반환값**\n",
    "\n",
    "- RunnableConfig\n",
    "\n",
    "**주요 기능**\n",
    "\n",
    "1. 체크포인터를 통해 이전 상태를 로드하고 새로운 상태를 저장합니다.\n",
    "2. 서브그래프에 대한 상태 업데이트를 처리합니다.\n",
    "3. `as_node`가 지정되지 않은 경우, 마지막으로 상태를 업데이트한 노드를 찾습니다.\n",
    "4. 지정된 노드의 writer들을 실행하여 상태를 업데이트합니다.\n",
    "5. 업데이트된 상태를 체크포인트에 저장합니다.\n",
    "\n",
    "**주요 로직**\n",
    "\n",
    "1. 체크포인터를 확인하고, 없으면 ValueError를 발생시킵니다.\n",
    "2. 서브그래프에 대한 업데이트인 경우, 해당 서브그래프의 `update_state` 메서드를 호출합니다.\n",
    "3. 이전 체크포인트를 로드하고, 필요한 경우 `as_node`를 결정합니다.\n",
    "4. 지정된 노드의 writer들을 사용하여 상태를 업데이트합니다.\n",
    "5. 업데이트된 상태를 새로운 체크포인트로 저장합니다.\n",
    "\n",
    "**참고**\n",
    "\n",
    "- 이 메서드는 그래프의 상태를 수동으로 업데이트할 때 사용됩니다.\n",
    "- 체크포인터를 사용하여 상태의 버전 관리와 지속성을 보장합니다.\n",
    "- `as_node`를 지정하지 않으면 자동으로 결정되지만, 모호한 경우 오류가 발생할 수 있습니다.\n",
    "- 상태 업데이트 중 SharedValues에 쓰기 작업은 허용되지 않습니다."
   ]
  },
  {
   "cell_type": "code",
   "execution_count": 10,
   "id": "15691b8c",
   "metadata": {},
   "outputs": [
    {
     "name": "stdout",
     "output_type": "stream",
     "text": [
      "(최근 1개의 메시지 출력)\n",
      "\n",
      "content='[수정된 웹 검색 결과] \\nLangGraph는 상태 기반의 다중 액터 애플리케이션을 LLM을 활용해 구축할 수 있도록 지원합니다.\\nLangGraph는 사이클 흐름, 제어 가능성, 지속성, 클라우드 배포 기능을 제공하는 오픈 소스 라이브러리입니다.\\n\\n자세한 튜토리얼은 [LangGraph 튜토리얼](https://langchain-ai.github.io/langgraph/tutorials/) 과\\n테디노트의 [랭체인 한국어 튜토리얼](https://wikidocs.net/233785) 을 참고하세요.' id='4ac34efd-506c-4134-b5a5-bc7cda06d8a4' tool_call_id='call_jO7nXor57CvIlC3AIHCzF2ez'\n"
     ]
    }
   ],
   "source": [
    "graph.update_state(\n",
    "    # 업데이트할 상태 지정\n",
    "    config,\n",
    "    # 제공할 업데이트된 값. `State`의 메시지는 \"추가 전용\"으로 기존 상태에 추가됨\n",
    "    {\"messages\": new_messages},\n",
    "    as_node=\"tools\",\n",
    ")\n",
    "\n",
    "print(\"(최근 1개의 메시지 출력)\\n\")\n",
    "print(graph.get_state(config).values[\"messages\"][-1])"
   ]
  },
  {
   "cell_type": "markdown",
   "id": "d0b868cb",
   "metadata": {},
   "source": [
    "이제 그래프가 완성되었습니다. \n",
    "\n",
    "최종 응답 메시지를 제공했기 때문입니다! \n",
    "\n",
    "상태 업데이트는 그래프 단계를 시뮬레이션하므로, 해당하는 `traces`도 생성합니다.\n",
    "\n",
    "`messages`를 사전 정의된 `add_messages` 함수로 `Annotated` 처리했습니다. (이는 그래프에 기존 목록을 직접 덮어쓰지 않고 항상 값을 추가합니다.)\n",
    "\n",
    "동일한 논리가 여기에도 적용되어, `update_state`에 전달된 메시지가 동일한 방식으로 메시지가 추가하게 됩니다.\n",
    "\n",
    "`update_state` 함수는 마치 그래프의 노드 중 하나인 것처럼 작동합니다! 기본적으로 업데이트 작업은 마지막으로 실행된 노드를 사용하지만, 아래에서 수동으로 지정할 수 있습니다. 업데이트를 추가하고 그래프에 \"chatbot\"에서 온 것처럼 처리하도록 지시해 봅시다.\n"
   ]
  },
  {
   "cell_type": "code",
   "execution_count": 11,
   "id": "3a4c1fbb",
   "metadata": {},
   "outputs": [
    {
     "data": {
      "text/plain": [
       "('chatbot',)"
      ]
     },
     "execution_count": 11,
     "metadata": {},
     "output_type": "execute_result"
    }
   ],
   "source": [
    "snapshot = graph.get_state(config)\n",
    "snapshot.next"
   ]
  },
  {
   "cell_type": "code",
   "execution_count": null,
   "id": "36223336",
   "metadata": {},
   "outputs": [
    {
     "name": "stdout",
     "output_type": "stream",
     "text": [
      "=================================\u001b[1m Tool Message \u001b[0m=================================\n",
      "\n",
      "[수정된 웹 검색 결과] \n",
      "LangGraph는 상태 기반의 다중 액터 애플리케이션을 LLM을 활용해 구축할 수 있도록 지원합니다.\n",
      "LangGraph는 사이클 흐름, 제어 가능성, 지속성, 클라우드 배포 기능을 제공하는 오픈 소스 라이브러리입니다.\n",
      "\n",
      "자세한 튜토리얼은 [LangGraph 튜토리얼](https://langchain-ai.github.io/langgraph/tutorials/) 과\n",
      "테디노트의 [랭체인 한국어 튜토리얼](https://wikidocs.net/233785) 을 참고하세요.\n",
      "==================================\u001b[1m Ai Message \u001b[0m==================================\n",
      "\n",
      "LangGraph는 상태 기반의 다중 액터 애플리케이션을 구축하는 데 도움을 주는 오픈 소스 라이브러리입니다. 이 라이브러리는 LLM(대형 언어 모델)을 활용하여 사이클 흐름, 제어 가능성, 지속성 및 클라우드 배포 기능을 제공합니다.\n",
      "\n",
      "더 자세한 내용은 [LangGraph 튜토리얼](https://langchain-ai.github.io/langgraph/tutorials/)과 테디노트의 [랭체인 한국어 튜토리얼](https://wikidocs.net/233785)을 참고하시기 바랍니다.\n"
     ]
    }
   ],
   "source": [
    "# `None`는 현재 상태에 아무것도 추가하지 않음 (이어서 진행)\n",
    "events = graph.stream(None, config, stream_mode=\"values\")\n",
    "\n",
    "# 이벤트 반복 처리\n",
    "for event in events:\n",
    "    # 메시지가 이벤트에 포함된 경우\n",
    "    if \"messages\" in event:\n",
    "        # 마지막 메시지의 예쁜 출력\n",
    "        event[\"messages\"][-1].pretty_print()"
   ]
  },
  {
   "cell_type": "markdown",
   "id": "ad62e348",
   "metadata": {},
   "source": [
    "아래는 최종 답변의 상태도 수정하고자 할 경우 사용할 수 있는 코드입니다."
   ]
  },
  {
   "cell_type": "code",
   "execution_count": 13,
   "id": "0889cbf7",
   "metadata": {},
   "outputs": [
    {
     "data": {
      "text/plain": [
       "{'configurable': {'thread_id': '1',\n",
       "  'checkpoint_ns': '',\n",
       "  'checkpoint_id': '1efd30fc-30d3-6c74-8004-c6894a402dbe'}}"
      ]
     },
     "execution_count": 13,
     "metadata": {},
     "output_type": "execute_result"
    }
   ],
   "source": [
    "# 이 함수가 작동할 노드 지정. 이 노드가 방금 실행된 것처럼 자동으로 처리 계속\n",
    "graph.update_state(\n",
    "    config,\n",
    "    {\n",
    "        \"messages\": [\n",
    "            AIMessage(content=\"마지막으로 최종 메시지를 추가하여 마무리 합니다.\")\n",
    "        ]\n",
    "    },\n",
    "    as_node=\"chatbot\",\n",
    ")"
   ]
  },
  {
   "cell_type": "markdown",
   "id": "697183db",
   "metadata": {},
   "source": [
    "그럼, 그래프를 시각화하고 전체 출력을 확인해 보겠습니다."
   ]
  },
  {
   "cell_type": "code",
   "execution_count": 14,
   "id": "458ada94",
   "metadata": {},
   "outputs": [
    {
     "data": {
      "image/png": "[encoded data removed]",
      "text/plain": [
       "<IPython.core.display.Image object>"
      ]
     },
     "metadata": {},
     "output_type": "display_data"
    }
   ],
   "source": [
    "from langchain_teddynote.graphs import visualize_graph\n",
    "\n",
    "visualize_graph(graph)"
   ]
  },
  {
   "cell_type": "markdown",
   "id": "2a63f4cf",
   "metadata": {},
   "source": [
    "현재 상태를 이전과 같이 점검하여 체크포인트가 수동 업데이트를 반영하는지 확인합니다."
   ]
  },
  {
   "cell_type": "code",
   "execution_count": 15,
   "id": "b2d31c27",
   "metadata": {},
   "outputs": [
    {
     "name": "stdout",
     "output_type": "stream",
     "text": [
      "================================\u001b[1m Human Message \u001b[0m=================================\n",
      "\n",
      "LangGraph 가 무엇인지 조사하여 알려주세요!\n",
      "==================================\u001b[1m Ai Message \u001b[0m==================================\n",
      "Tool Calls:\n",
      "  tavily_web_search (call_jO7nXor57CvIlC3AIHCzF2ez)\n",
      " Call ID: call_jO7nXor57CvIlC3AIHCzF2ez\n",
      "  Args:\n",
      "    query: LangGraph\n",
      "=================================\u001b[1m Tool Message \u001b[0m=================================\n",
      "\n",
      "[수정된 웹 검색 결과] \n",
      "LangGraph는 상태 기반의 다중 액터 애플리케이션을 LLM을 활용해 구축할 수 있도록 지원합니다.\n",
      "LangGraph는 사이클 흐름, 제어 가능성, 지속성, 클라우드 배포 기능을 제공하는 오픈 소스 라이브러리입니다.\n",
      "\n",
      "자세한 튜토리얼은 [LangGraph 튜토리얼](https://langchain-ai.github.io/langgraph/tutorials/) 과\n",
      "테디노트의 [랭체인 한국어 튜토리얼](https://wikidocs.net/233785) 을 참고하세요.\n",
      "==================================\u001b[1m Ai Message \u001b[0m==================================\n",
      "\n",
      "LangGraph는 상태 기반의 다중 액터 애플리케이션을 구축하는 데 도움을 주는 오픈 소스 라이브러리입니다. 이 라이브러리는 LLM(대형 언어 모델)을 활용하여 사이클 흐름, 제어 가능성, 지속성 및 클라우드 배포 기능을 제공합니다.\n",
      "\n",
      "더 자세한 내용은 [LangGraph 튜토리얼](https://langchain-ai.github.io/langgraph/tutorials/)과 테디노트의 [랭체인 한국어 튜토리얼](https://wikidocs.net/233785)을 참고하시기 바랍니다.\n",
      "==================================\u001b[1m Ai Message \u001b[0m==================================\n",
      "\n",
      "마지막으로 최종 메시지를 추가하여 마무리 합니다.\n"
     ]
    }
   ],
   "source": [
    "# 그래프 상태 스냅샷 생성\n",
    "snapshot = graph.get_state(config)\n",
    "\n",
    "# 최근 세 개의 메시지 출력\n",
    "for message in snapshot.values[\"messages\"]:\n",
    "    message.pretty_print()"
   ]
  },
  {
   "cell_type": "markdown",
   "id": "457828d2",
   "metadata": {},
   "source": [
    "진행할 다음 노드가 있는지 확인합니다. `()` 가 비어 있는 것으로 확인할 수 있습니다. 즉, 모든 과정이 정상적으로 진행되었음을 알 수 있습니다."
   ]
  },
  {
   "cell_type": "code",
   "execution_count": 16,
   "id": "c6ea87c0",
   "metadata": {},
   "outputs": [
    {
     "name": "stdout",
     "output_type": "stream",
     "text": [
      "()\n"
     ]
    }
   ],
   "source": [
    "# 다음 상태 출력\n",
    "print(snapshot.next)"
   ]
  },
  {
   "cell_type": "markdown",
   "id": "98fcbffe",
   "metadata": {},
   "source": [
    "## Interrupt 후 메시지 상태 업데이트 - 이어서 진행\n",
    "\n",
    "- `TavilySearch` 도구에서 **검색 쿼리** 를 수정\n",
    "\n",
    "이번에는 다음 노드로 진행하기 전 interrupt 를 발생시켜 중단하고, 상태(State) 를 갱신한 뒤 이어서 진행하는 방법을 살펴보겠습니다.\n",
    "\n",
    "먼저, 새로운 `thread_id` 를 생성합니다.\n",
    "\n",
    "여기서는 랜덤한 해시값을 생성하는 `generate_random_hash` 함수를 사용합니다."
   ]
  },
  {
   "cell_type": "code",
   "execution_count": 17,
   "id": "5c7fe37d",
   "metadata": {},
   "outputs": [
    {
     "name": "stdout",
     "output_type": "stream",
     "text": [
      "thread_id: 45ee33\n",
      "================================\u001b[1m Human Message \u001b[0m=================================\n",
      "\n",
      "LangGraph 에 대해서 배워보고 싶습니다. 유용한 자료를 추천해 주세요!\n",
      "==================================\u001b[1m Ai Message \u001b[0m==================================\n",
      "Tool Calls:\n",
      "  tavily_web_search (call_LzIMPN9x2gczgGVRvEgR0RnE)\n",
      " Call ID: call_LzIMPN9x2gczgGVRvEgR0RnE\n",
      "  Args:\n",
      "    query: LangGraph\n"
     ]
    }
   ],
   "source": [
    "from langchain_teddynote.graphs import generate_random_hash\n",
    "\n",
    "thread_id = generate_random_hash()\n",
    "print(f\"thread_id: {thread_id}\")\n",
    "\n",
    "question = \"LangGraph 에 대해서 배워보고 싶습니다. 유용한 자료를 추천해 주세요!\"\n",
    "\n",
    "# 초기 입력 상태를 정의\n",
    "input = State(messages=[(\"user\", question)])\n",
    "\n",
    "# 새로운 config 생성\n",
    "config = {\"configurable\": {\"thread_id\": thread_id}}\n",
    "\n",
    "events = graph.stream(\n",
    "    input=input,\n",
    "    config=config,\n",
    "    interrupt_before=[\"tools\"],\n",
    "    stream_mode=\"values\",\n",
    ")\n",
    "for event in events:\n",
    "    if \"messages\" in event:\n",
    "        event[\"messages\"][-1].pretty_print()"
   ]
  },
  {
   "cell_type": "markdown",
   "id": "2c49b0e0",
   "metadata": {},
   "source": [
    "다음으로, 에이전트를 위한 도구 호출을 업데이트해 보겠습니다. "
   ]
  },
  {
   "cell_type": "markdown",
   "id": "f88483e9",
   "metadata": {},
   "source": [
    "먼저 `Message ID` 를 가져옵니다."
   ]
  },
  {
   "cell_type": "code",
   "execution_count": 18,
   "id": "72d210f5",
   "metadata": {},
   "outputs": [],
   "source": [
    "# config 를 복사\n",
    "config_copy = config.copy()"
   ]
  },
  {
   "cell_type": "code",
   "execution_count": 19,
   "id": "2bac7050",
   "metadata": {},
   "outputs": [
    {
     "name": "stdout",
     "output_type": "stream",
     "text": [
      "Message ID run-93fbe679-b77d-45b1-ab47-7ba48356d6d1-0\n"
     ]
    }
   ],
   "source": [
    "from langchain_core.messages import AIMessage\n",
    "\n",
    "# 스냅샷 상태 가져오기\n",
    "snapshot = graph.get_state(config)\n",
    "\n",
    "# messages 의 마지막 메시지 가져오기\n",
    "existing_message = snapshot.values[\"messages\"][-1]\n",
    "\n",
    "# 메시지 ID 출력\n",
    "print(\"Message ID\", existing_message.id)"
   ]
  },
  {
   "cell_type": "markdown",
   "id": "2ed080b7",
   "metadata": {},
   "source": [
    "마지막 메시지는 `tavily_web_search` 도구 호출과 관련된 메시지 입니다.\n",
    "\n",
    "주요 속성은 다음과 같습니다.\n",
    "\n",
    "- `name`: 도구의 이름\n",
    "- `args`: 검색 쿼리\n",
    "- `id`: 도구 호출 ID\n",
    "- `type`: 도구 호출 유형(tool_call)"
   ]
  },
  {
   "cell_type": "code",
   "execution_count": 20,
   "id": "64c27714",
   "metadata": {},
   "outputs": [
    {
     "name": "stdout",
     "output_type": "stream",
     "text": [
      "{'name': 'tavily_web_search', 'args': {'query': 'LangGraph'}, 'id': 'call_LzIMPN9x2gczgGVRvEgR0RnE', 'type': 'tool_call'}\n"
     ]
    }
   ],
   "source": [
    "# 첫 번째 도구 호출 출력\n",
    "print(existing_message.tool_calls[0])"
   ]
  },
  {
   "cell_type": "markdown",
   "id": "b2f3e04e",
   "metadata": {},
   "source": [
    "위의 속성 값 중 `args` 의 `query` 를 업데이트 해 보겠습니다.\n",
    "\n",
    "기존의 `existing_message` 를 복사하여 새로운 도구인 `new_tool_call` 을 생성합니다.\n",
    "\n",
    "`copy()` 메서드를 사용하여 복사하였기 때문에 모든 속성 값이 복사됩니다.\n",
    "\n",
    "그런 다음, `query` 매개변수에 원하는 **검색 쿼리** 를 입력합니다.\n",
    "\n",
    "**중요**\n",
    "\n",
    "- `id` 는 기존 메시지의 `id` 를 그대로 사용합니다. (`id` 가 달라지면 message 리듀서가 동작하여 메시지를 갱신하지 않고, 추가하게 됩니다.)"
   ]
  },
  {
   "cell_type": "code",
   "execution_count": 21,
   "id": "97b66610",
   "metadata": {},
   "outputs": [
    {
     "data": {
      "text/plain": [
       "{'name': 'tavily_web_search',\n",
       " 'args': {'query': 'LangGraph site:teddylee777.github.io'},\n",
       " 'id': 'call_LzIMPN9x2gczgGVRvEgR0RnE',\n",
       " 'type': 'tool_call'}"
      ]
     },
     "execution_count": 21,
     "metadata": {},
     "output_type": "execute_result"
    }
   ],
   "source": [
    "# tool_calls 를 복사하여 새로운 도구 호출 생성\n",
    "new_tool_call = existing_message.tool_calls[0].copy()\n",
    "\n",
    "# 쿼리 매개변수 업데이트(갱신)\n",
    "new_tool_call[\"args\"] = {\"query\": \"LangGraph site:teddylee777.github.io\"}\n",
    "new_tool_call"
   ]
  },
  {
   "cell_type": "code",
   "execution_count": 22,
   "id": "8891040b",
   "metadata": {},
   "outputs": [
    {
     "name": "stdout",
     "output_type": "stream",
     "text": [
      "run-93fbe679-b77d-45b1-ab47-7ba48356d6d1-0\n",
      "==================================\u001b[1m Ai Message \u001b[0m==================================\n",
      "Tool Calls:\n",
      "  tavily_web_search (call_LzIMPN9x2gczgGVRvEgR0RnE)\n",
      " Call ID: call_LzIMPN9x2gczgGVRvEgR0RnE\n",
      "  Args:\n",
      "    query: LangGraph site:teddylee777.github.io\n"
     ]
    }
   ],
   "source": [
    "# AIMessage 생성\n",
    "new_message = AIMessage(\n",
    "    content=existing_message.content,\n",
    "    tool_calls=[new_tool_call],\n",
    "    # 중요! ID는 메시지를 상태에 추가하는 대신 교체하는 방법\n",
    "    id=existing_message.id,\n",
    ")\n",
    "\n",
    "print(new_message.id)\n",
    "\n",
    "# 수정한 메시지 출력\n",
    "new_message.pretty_print()"
   ]
  },
  {
   "cell_type": "markdown",
   "id": "3e18fa63",
   "metadata": {},
   "source": [
    "검색 쿼리가 갱신된 것을 확인할 수 있습니다."
   ]
  },
  {
   "cell_type": "code",
   "execution_count": 23,
   "id": "7dbb6442",
   "metadata": {},
   "outputs": [
    {
     "name": "stdout",
     "output_type": "stream",
     "text": [
      "{'name': 'tavily_web_search', 'args': {'query': 'LangGraph site:teddylee777.github.io'}, 'id': 'call_LzIMPN9x2gczgGVRvEgR0RnE', 'type': 'tool_call'}\n",
      "\n",
      "Message ID run-93fbe679-b77d-45b1-ab47-7ba48356d6d1-0\n"
     ]
    },
    {
     "data": {
      "text/plain": [
       "{'configurable': {'thread_id': '45ee33',\n",
       "  'checkpoint_ns': '',\n",
       "  'checkpoint_id': '1efd3106-27e3-6ace-8002-301771ce1e30'}}"
      ]
     },
     "execution_count": 23,
     "metadata": {},
     "output_type": "execute_result"
    }
   ],
   "source": [
    "# 업데이트된 도구 호출 출력\n",
    "print(new_message.tool_calls[0])\n",
    "\n",
    "# 메시지 ID 출력\n",
    "print(\"\\nMessage ID\", new_message.id)\n",
    "\n",
    "# 상태 업데이트\n",
    "graph.update_state(config, {\"messages\": [new_message]})"
   ]
  },
  {
   "cell_type": "markdown",
   "id": "2f791a61",
   "metadata": {},
   "source": [
    "업데이트된 마지막 message 의 `tool_calls` 를 확인합니다.\n",
    "\n",
    "- `args` 의 `query` 가 수정된 것을 확인할 수 있습니다."
   ]
  },
  {
   "cell_type": "code",
   "execution_count": 24,
   "id": "f9dbecb3",
   "metadata": {},
   "outputs": [
    {
     "data": {
      "text/plain": [
       "[{'name': 'tavily_web_search',\n",
       "  'args': {'query': 'LangGraph site:teddylee777.github.io'},\n",
       "  'id': 'call_LzIMPN9x2gczgGVRvEgR0RnE',\n",
       "  'type': 'tool_call'}]"
      ]
     },
     "execution_count": 24,
     "metadata": {},
     "output_type": "execute_result"
    }
   ],
   "source": [
    "# 마지막 메시지의 도구 호출 가져오기\n",
    "graph.get_state(config).values[\"messages\"][-1].tool_calls"
   ]
  },
  {
   "cell_type": "markdown",
   "id": "e0ae770e",
   "metadata": {},
   "source": [
    "기존 검색어인 **\"LangGraph\"** 대신 변경된 검색 쿼리인 **\"LangGraph site:teddylee777.github.io\"** 로 검색되는 것을 확인할 수 있습니다.\n",
    "\n",
    "기존 설정과 `None` 입력을 사용하여 그래프 이어서 스트리밍 합니다."
   ]
  },
  {
   "cell_type": "code",
   "execution_count": 25,
   "id": "80be43c4",
   "metadata": {},
   "outputs": [
    {
     "name": "stdout",
     "output_type": "stream",
     "text": [
      "==================================\u001b[1m Ai Message \u001b[0m==================================\n",
      "Tool Calls:\n",
      "  tavily_web_search (call_LzIMPN9x2gczgGVRvEgR0RnE)\n",
      " Call ID: call_LzIMPN9x2gczgGVRvEgR0RnE\n",
      "  Args:\n",
      "    query: LangGraph site:teddylee777.github.io\n",
      "=================================\u001b[1m Tool Message \u001b[0m=================================\n",
      "Name: tavily_web_search\n",
      "\n",
      "[{\"title\": \"페이지 2 - 테디노트\", \"url\": \"https://teddylee777.github.io/page2/\", \"content\": \"LangGraph - Multi-Agent Collaboration(다중 협업 에이전트) 로 복잡한 테스크를 수행하는 LLM 어플리케이션 제작 2024년 01월 29일 26 분 소요 . LangChain 에서 야심차게 LangGraph 를 새롭게 출시하였습니다.\", \"score\": 0.36629558, \"raw_content\": \"\\nTeddy\\n\\n💻 Creator & Data Lover\\n\\n최근 포스트\\n\\n[LangChain] 문장을 파이썬 코드로, 이미지를 파이썬 코드로 변경하는 방법\\n\\n\\n\\n\\n\\n2024년 02월 02일\\n\\n\\n\\n\\n        \\n          6 분 소요\\n        \\n      \\n\\n이번 튜토리얼에는 langchain 라이브러리와 GPT-4 모델을 사용하여 문장을 파이썬 코드로 변경 및 실행하고, 이미지를 이해하고 이를 파이썬 코드로 변경하는 방법을 다룹니다.\\n\\n\\n\\nLangGraph - Multi-Agent Collaboration(다중 협업 에이전트) 로 복잡한 테스크를 수행하는 LLM 어플리케이션 제작\\n\\n\\n\\n\\n\\n2024년 01월 29일\\n\\n\\n\\n\\n        \\n          26 분 소요\\n        \\n      \\n\\nLangChain 에서 야심차게 LangGraph 를 새롭게 출시하였습니다. LangGraph 라이브러리가 출시하게 된 가장 큰 이유는 “복잡한 문제들은 단일 AI 에이전트만으로 해결하기 어렵다” 라는 문장에서 시작합니다.\\n\\n\\n\\nGemini API를 활용한 이상 탐지: 임베딩으로 데이터셋 분석하기\\n\\n\\n\\n\\n\\n2024년 01월 28일\\n\\n\\n\\n\\n        \\n          23 분 소요\\n        \\n      \\n\\n이 글에서는 Gemini API를 사용하여 데이터셋에서 이상치를 탐지하는 방법을 알아봅니다. 그리고 임베딩과 t-SNE를 활용한 데이터 시각화 및 이상치 탐지 과정을 단계별로 설명합니다.\\n\\n\\n\\nGoogle Gemini Pro API를 활용한 문서 검색 및 임베딩 가이드\\n\\n\\n\\n\\n\\n2024년 01월 27일\\n\\n\\n\\n\\n        \\n          19 분 소요\\n        \\n      \\n\\nGoogle의 Gemini API로 임베딩을 생성하고 문서 검색하는 방법을 다룹니다.\\n\\n\\n\\nYAML: 단 몇 분 만에 이해하기\\n\\n\\n\\n\\n\\n2024년 01월 26일\\n\\n\\n\\n\\n        \\n          5 분 소요\\n        \\n      \\n\\n오늘은 IT 세계에서 자주 사용되지만, 비전공자 분들에게는 조금 생소할 수 있는 'YAML' 에 대해 이야기해보려고 합니다.\\n\\n\\n\\n[2024년 UPDATE] OpenAI Python API 튜토리얼 - Whisper API를 사용하여 TTS, STT 구현하기(3)\\n\\n\\n\\n\\n\\n2024년 01월 08일\\n\\n\\n\\n\\n        \\n          4 분 소요\\n        \\n      \\n\\n이번 튜토리얼은 OpenAI 의 Whisper API 를 사용하여 음성을 텍스트로 변환하는 STT, 그리고 텍스트를 음성으로 변환하는 방법에 대해 알아보겠습니다.\\n\\n\\n\\n[2024년 UPDATE] OpenAI Python API 튜토리얼 - DALL·E를 사용하여 이미지 생성, 수정, 다양화하기(2)\\n\\n\\n\\n\\n\\n2024년 01월 08일\\n\\n\\n\\n\\n        \\n          4 분 소요\\n        \\n      \\n\\n이번 튜토리얼은 OpenAI 의 DALL·E 의 Python API 사용법을 다룹니다. 이번 튜토리얼을 통하여 이미지 생성, 수정, 다양화 하는 방법에 대해 알아보겠습니다.\\n\\n\\n\\n[2024년 UPDATE] OpenAI Python API 튜토리얼 - 채팅(chat) 함수 사용하기(1)\\n\\n\\n\\n\\n\\n2024년 01월 07일\\n\\n\\n\\n\\n        \\n          9 분 소요\\n        \\n      \\n\\n이번 튜토리얼 부터는 시리즈 형식으로 OpenAI 에서 지난 2023년 11월에 1.x.x 로 판올림하여 공개한 API 의 사용법에 대해서 알아보겠습니다.\\n\\n\\n\\n[2024년 UPDATE] OpenAI Python API 키 발급방법, 요금체계\\n\\n\\n\\n\\n\\n2024년 01월 06일\\n\\n\\n\\n\\n        \\n          1 분 소요\\n        \\n      \\n\\n이번 튜토리얼은 OpenAI 의 Python API 키를 발급받는 방법과 요금 체계에 대해 알아보겠습니다.\\n\\n\\n\\n파이썬 비동기(async)함수와 코루틴(coroutine) 흐름 이해하기\\n\\n\\n\\n\\n\\n2023년 12월 05일\\n\\n\\n\\n\\n        \\n          4 분 소요\\n        \\n      \\n\\n파이썬에서 async 함수는 비동기 프로그래밍 을 위한 기능입니다. 파이썬 함수에서 def 키워드로 정의할 때 앞에 async 가 붙습니다. 파이썬의 비동기 함수가 많이 사용될 때는 I/O 바운드 작업 이나 높은 대기 시간이 예상되는 작업을 처리 할 때 유용합니다.\\n\\n\\n\"}, {\"title\": \"테디노트\", \"url\": \"https://teddylee777.github.io/\", \"content\": \"LangGraph Retrieval Agent를 활용한 동적 문서 검색 및 처리 2024년 03월 06일 10 분 소요 . LangGraph Retrieval Agent는 언어 처리, AI 모델 통합, 데이터베이스 관리, 그래프 기반 데이터 처리 등 다양한 기능을 제공하여 언어 기반 AI 애플리케이션 개발에 필수적인 도구입니다.\", \"score\": 0.33639696, \"raw_content\": \"\\nTeddy\\n\\n💻 Creator & Data Lover\\n\\n최근 포스트\\n\\npoetry 의 거의 모든것 (튜토리얼)\\n\\n\\n\\n\\n\\n2024년 03월 30일\\n\\n\\n\\n\\n        \\n          5 분 소요\\n        \\n      \\n\\nPython 개발에 있어서 poetry는 매우 강력한 도구로, 프로젝트의 의존성 관리와 패키지 배포를 간소화하는 데 큰 도움을 줍니다. 지금부터 poetry 활용 튜토리얼을 살펴 보겠습니다.\\n\\n\\n\\nLangGraph Retrieval Agent를 활용한 동적 문서 검색 및 처리\\n\\n\\n\\n\\n\\n2024년 03월 06일\\n\\n\\n\\n\\n        \\n          10 분 소요\\n        \\n      \\n\\nLangGraph Retrieval Agent는 언어 처리, AI 모델 통합, 데이터베이스 관리, 그래프 기반 데이터 처리 등 다양한 기능을 제공하여 언어 기반 AI 애플리케이션 개발에 필수적인 도구입니다.\\n\\n\\n\\n[Assistants API] Code Interpreter, Retrieval, Functions 활용법\\n\\n\\n\\n\\n\\n2024년 02월 13일\\n\\n\\n\\n\\n        \\n          34 분 소요\\n        \\n      \\n\\nOpenAI의 새로운 Assistants API는 대화와 더불어 강력한 도구 접근성을 제공합니다. 본 튜토리얼은 OpenAI Assistants API를 활용하는 내용을 다룹니다. 특히, Assistant API 가 제공하는 도구인 Code Interpreter, Retrieval...\\n\\n[LangChain] 에이전트(Agent)와 도구(tools)를 활용한 지능형 검색 시스템 구축 가이드\\n\\n\\n\\n\\n\\n2024년 02월 09일\\n\\n\\n\\n\\n        \\n          41 분 소요\\n        \\n      \\n\\n이 글에서는 LangChain 의 Agent 프레임워크를 활용하여 복잡한 검색과 데이터 처리 작업을 수행하는 방법을 소개합니다. LangSmith 를 사용하여 Agent의 추론 단계를 추적합니다. Agent가 활용할 검색 도구(Tavily Search), PDF 기반 검색 리트리버...\\n\\nLangChain RAG 파헤치기: 문서 기반 QA 시스템 설계 방법 - 심화편\\n\\n\\n\\n\\n\\n2024년 02월 06일\\n\\n\\n\\n\\n        \\n          22 분 소요\\n        \\n      \\n\\nLangChain의 RAG 시스템을 통해 문서(PDF, txt, 웹페이지 등)에 대한 질문-답변을 찾는 과정을 정리하였습니다.\\n\\n\\n\\nLangChain으로 네이버 뉴스 기반 Q&A 애플리케이션 구축하기 - 기본편\\n\\n\\n\\n\\n\\n2024년 02월 06일\\n\\n\\n\\n\\n        \\n          7 분 소요\\n        \\n      \\n\\nLangChain을 활용하여 간단하게 네이버 뉴스기사를 바탕으로 Q&A 애플리케이션을 만드는 방법을 다룹니다.\\n\\n\\n\\n자동화된 메타데이터 태깅으로 문서의 메타데이터(metadata) 생성 및 자동 라벨링\\n\\n\\n\\n\\n\\n2024년 02월 05일\\n\\n\\n\\n\\n        \\n          9 분 소요\\n        \\n      \\n\\n문서 관리를 위한 메타데이터 태깅은 필수적이지만 번거로울 수 있습니다. OpenAI 기반의 자동화된 메타데이터 태깅 방법을 통해 이 과정을 효율적으로 만드는 방법을 알아보도록 하겠습니다.\\n\\n\\n\\nLLMs를 활용한 문서 요약 가이드: Stuff, Map-Reduce, Refine 방법 총정리\\n\\n\\n\\n\\n\\n2024년 02월 04일\\n\\n\\n\\n\\n        \\n          21 분 소요\\n        \\n      \\n\\n이번 글은 LangChain 을 활용하여 문서를 요약하는 방법에 대하여 다룹니다. 특히, 문서 요약의 3가지 방식은 Stuff, Map-Reduce, Refine 방식에 대하여 알아보고, 각각의 방식 간의 차이점에 대하여 다룹니다.\\n\\n\\n\\nLangChain Expression Language(LCEL) 원리 이해와 파이프라인 구축 가이드\\n\\n\\n\\n\\n\\n2024년 02월 03일\\n\\n\\n\\n\\n        \\n          3 분 소요\\n        \\n      \\n\\n이 블로그 글에서는 LangChain Expression Language(LCEL) 원리 이해와 LCEL 에 기반한 파이프라인 구축의 기본을 소개합니다.\\n\\n\\n\\nOpenAI API 모델 리스트 / 요금표\\n\\n\\n\\n\\n\\n2024년 02월 02일\\n\\n\\n\\n\\n        \\n          2 분 소요\\n        \\n      \\n\\n최신 버전의 업데이트 된 OpenAI Model 리스트와 API 사용요금(Pricing) 입니다.\\n\\n\\n\"}, {\"title\": \"구글 코랩(colab) 한글 깨짐 현상 해결방법 - 테디노트\", \"url\": \"https://teddylee777.github.io/colab/colab-korean/\", \"content\": \"LangGraph Retrieval Agent를 활용한 동적 문서 검색 및 처리 2024년 03월 06일 10 분 소요 LangGraph Retrieval Agent는 언어 처리, AI 모델 통합, 데이터베이스 관리, 그래프 기반 데이터 처리 등 다양한 기능을 제공하여 언어 기반 AI 애플리케이션 개발에 필수적인 도구입니다.\", \"score\": 0.32085374, \"raw_content\": \"🔥알림🔥\\n\\n    ① 테디노트 유튜브 - \\n    구경하러 가기!\\n\\n    ② LangChain 한국어 튜토리얼\\n바로가기 👀\\n\\n    ③ 랭체인 노트 무료 전자책(wikidocs) \\n    바로가기 🙌\\n\\n    ④ RAG 비법노트 LangChain 강의오픈\\n바로가기 🙌\\n\\n    ⑤ 서울대 PyTorch 딥러닝 강의\\n바로가기 🙌\\n\\n\\n구글 코랩(colab) 한글 깨짐 현상 해결방법\\n\\n\\n\\n\\n\\n2020년 06월 13일\\n\\n\\n\\n\\n        \\n          최대 1 분 소요\\n        \\n      \\n\\n구글 colab에서 시각화 라이브러리(matplotlib, seaborn)을 사용하게 되면 한글 깨짐 현상이 나타나게 됩니다. 한글 폰트 깨짐 현상에 대한 해결 방법에 대하여 알려드리겠습니다.\\n아래와 같이 한글 폰트가 깨지는 것을 확인할 수 있습니다\\n\\nSTEP 1. 나눔 폰트 설치 (Nanum)\\ncolab 파일을 연 뒤 첫번 째 cell에 아래 코드를 붙혀 넣고 실행합니다.\\n그럼 아래와 같이 설치를 진행하게 됩니다.\\n\\nSTEP 2. 코랩(Colab)의 런타임을 재시작 합니다.\\n런타임 - 런타임 다시 시작 을 클릭하여 런타임을 재시작합니다.\\n\\n예를 클릭하여 재시작합니다\\n\\nSTEP 3. matplotlib의 폰트를 Nanum 폰트로 지정합니다.\\n한글이 정상 출력됨을 확인합니다\\n\\n\\n 태그: \\n\\ncolab 한글, \\ngoogle colab, \\n구글 코랩, \\n코랩, \\n코랩 한글, \\n코랩 한글깨짐, \\n한글깨짐, \\n한글폰트\\n\\n\\n\\n 카테고리: \\n\\ncolab\\n\\n\\n 업데이트: 2020년 06월 13일\\n참고\\n\\npoetry 의 거의 모든것 (튜토리얼)\\n\\n\\n\\n\\n\\n2024년 03월 30일\\n\\n\\n\\n\\n        \\n          5 분 소요\\n        \\n      \\n\\nPython 개발에 있어서 poetry는 매우 강력한 도구로, 프로젝트의 의존성 관리와 패키지 배포를 간소화하는 데 큰 도움을 줍니다. 지금부터 poetry 활용 튜토리얼을 살펴 보겠습니다.\\n\\n\\n\\nLangGraph Retrieval Agent를 활용한 동적 문서 검색 및 처리\\n\\n\\n\\n\\n\\n2024년 03월 06일\\n\\n\\n\\n\\n        \\n          10 분 소요\\n        \\n      \\n\\nLangGraph Retrieval Agent는 언어 처리, AI 모델 통합, 데이터베이스 관리, 그래프 기반 데이터 처리 등 다양한 기능을 제공하여 언어 기반 AI 애플리케이션 개발에 필수적인 도구입니다.\\n\\n\\n\\n[Assistants API] Code Interpreter, Retrieval, Functions 활용법\\n\\n\\n\\n\\n\\n2024년 02월 13일\\n\\n\\n\\n\\n        \\n          35 분 소요\\n        \\n      \\n\\nOpenAI의 새로운 Assistants API는 대화와 더불어 강력한 도구 접근성을 제공합니다. 본 튜토리얼은 OpenAI Assistants API를 활용하는 내용을 다룹니다. 특히, Assistant API 가 제공하는 도구인 Code Interpreter, Retrieval...\\n\\n[LangChain] 에이전트(Agent)와 도구(tools)를 활용한 지능형 검색 시스템 구축 가이드\\n\\n\\n\\n\\n\\n2024년 02월 09일\\n\\n\\n\\n\\n        \\n          41 분 소요\\n        \\n      \\n\\n이 글에서는 LangChain 의 Agent 프레임워크를 활용하여 복잡한 검색과 데이터 처리 작업을 수행하는 방법을 소개합니다. LangSmith 를 사용하여 Agent의 추론 단계를 추적합니다. Agent가 활용할 검색 도구(Tavily Search), PDF 기반 검색 리트리버...\\n\"}]\n",
      "==================================\u001b[1m Ai Message \u001b[0m==================================\n",
      "\n",
      "LangGraph에 대한 유용한 자료를 몇 가지 추천드립니다:\n",
      "\n",
      "1. **[LangGraph - Multi-Agent Collaboration](https://teddylee777.github.io/page2/)**: 이 글에서는 LangGraph가 다중 협업 에이전트를 사용하여 복잡한 작업을 수행하는 LLM 애플리케이션을 어떻게 제작하는지에 대해 설명합니다. LangGraph의 출시에 대한 배경과 그 중요성을 다루고 있습니다.\n",
      "\n",
      "2. **[LangGraph Retrieval Agent 활용 가이드](https://teddylee777.github.io/)**: LangGraph Retrieval Agent를 이용해 동적 문서 검색 및 처리에 대해 설명하는 글입니다. 이 도구는 언어 처리, AI 모델 통합, 데이터베이스 관리 등 다양한 기능을 제공하여 언어 기반 AI 애플리케이션 개발에 필수적인 요소입니다.\n",
      "\n",
      "이 자료들을 통해 LangGraph의 기본 개념과 활용 방법에 대해 보다 깊이 있게 이해할 수 있을 것입니다.\n"
     ]
    }
   ],
   "source": [
    "# 그래프 스트림에서 이벤트 수신\n",
    "events = graph.stream(None, config, stream_mode=\"values\")\n",
    "\n",
    "# 각 이벤트에 대한 처리\n",
    "for event in events:\n",
    "    # 메시지가 있는 경우 마지막 메시지 출력\n",
    "    if \"messages\" in event:\n",
    "        event[\"messages\"][-1].pretty_print()"
   ]
  },
  {
   "cell_type": "code",
   "execution_count": 26,
   "id": "df57c7da",
   "metadata": {},
   "outputs": [
    {
     "name": "stdout",
     "output_type": "stream",
     "text": [
      "================================\u001b[1m Human Message \u001b[0m=================================\n",
      "\n",
      "내가 지금까지 배운 내용에 대해서 매우 친절하고 정성스럽게 한국어로 답변해줘! 출처를 반드시 포함해줘!\n",
      "==================================\u001b[1m Ai Message \u001b[0m==================================\n",
      "\n",
      "여러분이 찾고 계신 LangGraph에 대한 정보는 다음과 같습니다:\n",
      "\n",
      "1. **LangGraph - Multi-Agent Collaboration**: 이 글에서는 LangGraph가 다중 협업 에이전트를 통해 복잡한 작업을 수행하는 LLM 애플리케이션을 제작하는 방법에 대해 설명합니다. LangGraph의 출시는 “복잡한 문제들은 단일 AI 에이전트만으로 해결하기 어렵다”는 인식에서 시작되었으며, 이에 대한 배경과 중요성을 다루고 있습니다. 이를 통해 LangGraph의 기본 개념을 이해할 수 있습니다. [출처: 테디노트](https://teddylee777.github.io/page2/)\n",
      "\n",
      "2. **LangGraph Retrieval Agent 활용 가이드**: 이 자료는 LangGraph Retrieval Agent를 활용하여 동적 문서 검색 및 처리를 수행하는 방법을 설명합니다. 이 도구는 언어 처리, AI 모델 통합, 데이터베이스 관리 등 다양한 기능을 제공하여 언어 기반 AI 애플리케이션 개발에 매우 중요한 역할을 합니다. [출처: 테디노트](https://teddylee777.github.io/)\n",
      "\n",
      "이 자료들을 통해 LangGraph의 기능과 활용에 대해 깊이 있는 이해를 할 수 있을 것입니다. 도움이 되셨길 바랍니다!\n"
     ]
    }
   ],
   "source": [
    "# 이벤트 스트림 생성\n",
    "events = graph.stream(\n",
    "    {\n",
    "        \"messages\": (\n",
    "            \"user\",\n",
    "            \"내가 지금까지 배운 내용에 대해서 매우 친절하고 정성스럽게 한국어로 답변해줘! 출처를 반드시 포함해줘!\",\n",
    "        )\n",
    "    },\n",
    "    config,\n",
    "    stream_mode=\"values\",\n",
    ")\n",
    "\n",
    "# 메시지 이벤트 처리\n",
    "for event in events:\n",
    "    if \"messages\" in event:\n",
    "        # 마지막 메시지 출력\n",
    "        event[\"messages\"][-1].pretty_print()"
   ]
  },
  {
   "cell_type": "markdown",
   "id": "40da8a3c",
   "metadata": {},
   "source": [
    "최종 상태에서 `messages` 의 마지막 메시지를 확인합니다. (이는 곧 최종 응답 메시지입니다.)"
   ]
  },
  {
   "cell_type": "code",
   "execution_count": 27,
   "id": "f0e4a062",
   "metadata": {},
   "outputs": [
    {
     "name": "stdout",
     "output_type": "stream",
     "text": [
      "==================================\u001b[1m Ai Message \u001b[0m==================================\n",
      "\n",
      "여러분이 찾고 계신 LangGraph에 대한 정보는 다음과 같습니다:\n",
      "\n",
      "1. **LangGraph - Multi-Agent Collaboration**: 이 글에서는 LangGraph가 다중 협업 에이전트를 통해 복잡한 작업을 수행하는 LLM 애플리케이션을 제작하는 방법에 대해 설명합니다. LangGraph의 출시는 “복잡한 문제들은 단일 AI 에이전트만으로 해결하기 어렵다”는 인식에서 시작되었으며, 이에 대한 배경과 중요성을 다루고 있습니다. 이를 통해 LangGraph의 기본 개념을 이해할 수 있습니다. [출처: 테디노트](https://teddylee777.github.io/page2/)\n",
      "\n",
      "2. **LangGraph Retrieval Agent 활용 가이드**: 이 자료는 LangGraph Retrieval Agent를 활용하여 동적 문서 검색 및 처리를 수행하는 방법을 설명합니다. 이 도구는 언어 처리, AI 모델 통합, 데이터베이스 관리 등 다양한 기능을 제공하여 언어 기반 AI 애플리케이션 개발에 매우 중요한 역할을 합니다. [출처: 테디노트](https://teddylee777.github.io/)\n",
      "\n",
      "이 자료들을 통해 LangGraph의 기능과 활용에 대해 깊이 있는 이해를 할 수 있을 것입니다. 도움이 되셨길 바랍니다!\n"
     ]
    }
   ],
   "source": [
    "graph.get_state(config).values[\"messages\"][-1].pretty_print()"
   ]
  },
  {
   "cell_type": "markdown",
   "id": "21173667",
   "metadata": {},
   "source": [
    "## 지난 스냅샷의 결과 수정 및 Replay\n",
    "\n",
    "이번에는 지난 스냅샷의 결과를 수정하여 Replay 하는 방법을 살펴보겠습니다.\n",
    "\n",
    "지난 스냅샷을 확인 후 특정 노드로 되돌아가, **상태(State) 를 수정한 뒤 해당 노드부터 다시 진행**합니다.\n",
    "\n",
    "이를 Replay 라고 합니다.\n",
    "\n",
    "먼저 지난 스냅샷의 상태를 가져옵니다."
   ]
  },
  {
   "cell_type": "code",
   "execution_count": 28,
   "id": "3eba0794",
   "metadata": {},
   "outputs": [
    {
     "name": "stdout",
     "output_type": "stream",
     "text": [
      "run-147a1717-c95d-47d9-a9cb-851c96c587d2-0\n",
      "메시지 수:  6 다음 노드:  ()\n",
      "--------------------------------------------------------------------------------\n",
      "5b98e971-df3f-4b7a-bf56-22246ae8848e\n",
      "메시지 수:  5 다음 노드:  ('chatbot',)\n",
      "--------------------------------------------------------------------------------\n",
      "run-1365d50f-2d51-4873-b449-98f3501e83f3-0\n",
      "메시지 수:  4 다음 노드:  ('__start__',)\n",
      "--------------------------------------------------------------------------------\n",
      "run-1365d50f-2d51-4873-b449-98f3501e83f3-0\n",
      "메시지 수:  4 다음 노드:  ()\n",
      "--------------------------------------------------------------------------------\n",
      "8c6716cc-66aa-4d1a-9dab-80124cf62257\n",
      "메시지 수:  3 다음 노드:  ('chatbot',)\n",
      "--------------------------------------------------------------------------------\n",
      "run-93fbe679-b77d-45b1-ab47-7ba48356d6d1-0\n",
      "메시지 수:  2 다음 노드:  ('tools',)\n",
      "--------------------------------------------------------------------------------\n",
      "run-93fbe679-b77d-45b1-ab47-7ba48356d6d1-0\n",
      "메시지 수:  2 다음 노드:  ('tools',)\n",
      "--------------------------------------------------------------------------------\n",
      "b27d27ed-48d2-4cc0-af4b-498500f5622d\n",
      "메시지 수:  1 다음 노드:  ('chatbot',)\n",
      "--------------------------------------------------------------------------------\n"
     ]
    }
   ],
   "source": [
    "to_replay_state = None\n",
    "\n",
    "# 상태 기록 가져오기\n",
    "for state in graph.get_state_history(config):\n",
    "\n",
    "    messages = state.values[\"messages\"]\n",
    "\n",
    "    if len(messages) > 0:\n",
    "        print(state.values[\"messages\"][-1].id)\n",
    "        # 메시지 수 및 다음 상태 출력\n",
    "        print(\"메시지 수: \", len(state.values[\"messages\"]), \"다음 노드: \", state.next)\n",
    "        print(\"-\" * 80)\n",
    "        # 특정 상태 선택 기준: 채팅 메시지 수\n",
    "        if len(state.values[\"messages\"]) == 2:\n",
    "            # 특정 메시지 ID 선택\n",
    "            to_replay_state = state"
   ]
  },
  {
   "cell_type": "markdown",
   "id": "23cadcca",
   "metadata": {},
   "source": [
    "선택한 메시지의 내용을 확인합니다."
   ]
  },
  {
   "cell_type": "code",
   "execution_count": 29,
   "id": "0463ea52",
   "metadata": {},
   "outputs": [
    {
     "name": "stdout",
     "output_type": "stream",
     "text": [
      "    \u001b[93mcontent\u001b[0m: \"\"\n",
      "    \u001b[93madditional_kwargs\u001b[0m:\n",
      "        \u001b[94mtool_calls\u001b[0m:\n",
      "            \u001b[94mindex [0]\u001b[0m\n",
      "                \u001b[92mid\u001b[0m: \"call_LzIMPN9x2gczgGVRvEgR0RnE\"\n",
      "                \u001b[92mfunction\u001b[0m: {\"arguments\": \"{\"query\":\"LangGraph\"}\", \"name\": \"tavily_web_search\"}\n",
      "                \u001b[92mtype\u001b[0m: \"function\"\n",
      "        \u001b[94mrefusal\u001b[0m: None\n",
      "    \u001b[93mresponse_metadata\u001b[0m:\n",
      "        \u001b[94mtoken_usage\u001b[0m:\n",
      "            \u001b[95mcompletion_tokens\u001b[0m: 19\n",
      "            \u001b[95mprompt_tokens\u001b[0m: 110\n",
      "            \u001b[95mtotal_tokens\u001b[0m: 129\n",
      "            \u001b[95mcompletion_tokens_details\u001b[0m: {\"accepted_prediction_tokens\": 0, \"audio_tokens\": 0, \"reasoning_tokens\": 0, \"rejected_prediction_tokens\": 0}\n",
      "            \u001b[95mprompt_tokens_details\u001b[0m: {\"audio_tokens\": 0, \"cached_tokens\": 0}\n",
      "        \u001b[94mmodel_name\u001b[0m: \"gpt-4o-mini-2024-07-18\"\n",
      "        \u001b[94msystem_fingerprint\u001b[0m: \"fp_72ed7ab54c\"\n",
      "        \u001b[94mfinish_reason\u001b[0m: \"tool_calls\"\n",
      "        \u001b[94mlogprobs\u001b[0m: None\n",
      "    \u001b[93mtype\u001b[0m: \"ai\"\n",
      "    \u001b[93mname\u001b[0m: None\n",
      "    \u001b[93mid\u001b[0m: \"run-93fbe679-b77d-45b1-ab47-7ba48356d6d1-0\"\n",
      "    \u001b[93mexample\u001b[0m: False\n",
      "    \u001b[93mtool_calls\u001b[0m:\n",
      "        \u001b[93mindex [0]\u001b[0m\n",
      "            \u001b[95mname\u001b[0m: \"tavily_web_search\"\n",
      "            \u001b[95margs\u001b[0m: {\"query\": \"LangGraph\"}\n",
      "            \u001b[95mid\u001b[0m: \"call_LzIMPN9x2gczgGVRvEgR0RnE\"\n",
      "            \u001b[95mtype\u001b[0m: \"tool_call\"\n",
      "    \u001b[93minvalid_tool_calls\u001b[0m:\n",
      "    \u001b[93musage_metadata\u001b[0m:\n",
      "        \u001b[94minput_tokens\u001b[0m: 110\n",
      "        \u001b[94moutput_tokens\u001b[0m: 19\n",
      "        \u001b[94mtotal_tokens\u001b[0m: 129\n",
      "        \u001b[94minput_token_details\u001b[0m: {\"audio\": 0, \"cache_read\": 0}\n",
      "        \u001b[94moutput_token_details\u001b[0m: {\"audio\": 0, \"reasoning\": 0}\n"
     ]
    }
   ],
   "source": [
    "from langchain_teddynote.messages import display_message_tree\n",
    "\n",
    "# 선택한 메시지 가져오기\n",
    "existing_message = to_replay_state.values[\"messages\"][-1]\n",
    "\n",
    "# 메시지 트리 출력\n",
    "display_message_tree(existing_message)"
   ]
  },
  {
   "cell_type": "markdown",
   "id": "770063e4",
   "metadata": {},
   "source": [
    "검색 쿼리를 업데이트 후 반영이 됐는지 확인합니다."
   ]
  },
  {
   "cell_type": "code",
   "execution_count": 30,
   "id": "7dbc1f15",
   "metadata": {},
   "outputs": [
    {
     "data": {
      "text/plain": [
       "{'name': 'tavily_web_search',\n",
       " 'args': {'query': 'LangGraph human-in-the-loop workflow site:reddit.com'},\n",
       " 'id': 'call_LzIMPN9x2gczgGVRvEgR0RnE',\n",
       " 'type': 'tool_call'}"
      ]
     },
     "execution_count": 30,
     "metadata": {},
     "output_type": "execute_result"
    }
   ],
   "source": [
    "tool_call = existing_message.tool_calls[0].copy()\n",
    "tool_call[\"args\"] = {\"query\": \"LangGraph human-in-the-loop workflow site:reddit.com\"}\n",
    "tool_call"
   ]
  },
  {
   "cell_type": "markdown",
   "id": "20a66f6d",
   "metadata": {},
   "source": [
    "업데이트된 AIMessage 를 생성합니다."
   ]
  },
  {
   "cell_type": "code",
   "execution_count": 31,
   "id": "2656f8db",
   "metadata": {},
   "outputs": [
    {
     "data": {
      "text/plain": [
       "{'query': 'LangGraph human-in-the-loop workflow site:reddit.com'}"
      ]
     },
     "execution_count": 31,
     "metadata": {},
     "output_type": "execute_result"
    }
   ],
   "source": [
    "# AIMessage 생성\n",
    "new_message = AIMessage(\n",
    "    content=existing_message.content,\n",
    "    tool_calls=[tool_call],\n",
    "    # 중요! ID는 메시지를 상태에 추가하는 대신 교체하는 방법\n",
    "    id=existing_message.id,\n",
    ")\n",
    "\n",
    "# 수정한 메시지 출력\n",
    "new_message.tool_calls[0][\"args\"]"
   ]
  },
  {
   "cell_type": "markdown",
   "id": "13751a91",
   "metadata": {},
   "source": [
    "아래는 업데이트가 되기 전의 메시지입니다."
   ]
  },
  {
   "cell_type": "code",
   "execution_count": 32,
   "id": "27eb7447",
   "metadata": {},
   "outputs": [
    {
     "data": {
      "text/plain": [
       "[{'name': 'tavily_web_search',\n",
       "  'args': {'query': 'LangGraph'},\n",
       "  'id': 'call_LzIMPN9x2gczgGVRvEgR0RnE',\n",
       "  'type': 'tool_call'}]"
      ]
     },
     "execution_count": 32,
     "metadata": {},
     "output_type": "execute_result"
    }
   ],
   "source": [
    "# 업데이트 전 메시지 확인\n",
    "graph.get_state(to_replay_state.config).values[\"messages\"][-1].tool_calls"
   ]
  },
  {
   "cell_type": "markdown",
   "id": "cabf5572",
   "metadata": {},
   "source": [
    "`graph` 에 `update_state` 메서드를 사용하여 상태를 업데이트 합니다.\n",
    "\n",
    "업데이트된 상태를 `updated_state` 에 저장합니다."
   ]
  },
  {
   "cell_type": "code",
   "execution_count": 33,
   "id": "41a6e114",
   "metadata": {},
   "outputs": [
    {
     "data": {
      "text/plain": [
       "{'configurable': {'thread_id': '45ee33',\n",
       "  'checkpoint_ns': '',\n",
       "  'checkpoint_id': '1efd3114-6691-633a-8002-315e27071878'}}"
      ]
     },
     "execution_count": 33,
     "metadata": {},
     "output_type": "execute_result"
    }
   ],
   "source": [
    "# 상태 업데이트\n",
    "updated_state = graph.update_state(\n",
    "    to_replay_state.config,\n",
    "    {\"messages\": [new_message]},\n",
    ")\n",
    "updated_state"
   ]
  },
  {
   "cell_type": "markdown",
   "id": "9036c5e4",
   "metadata": {},
   "source": [
    "이제 업데이트된 상태를 스트리밍 합니다. 여기서 입력은 `None` 으로 주어 Replay 합니다."
   ]
  },
  {
   "cell_type": "code",
   "execution_count": 34,
   "id": "fe04786b",
   "metadata": {},
   "outputs": [
    {
     "name": "stdout",
     "output_type": "stream",
     "text": [
      "==================================\u001b[1m Ai Message \u001b[0m==================================\n",
      "Tool Calls:\n",
      "  tavily_web_search (call_LzIMPN9x2gczgGVRvEgR0RnE)\n",
      " Call ID: call_LzIMPN9x2gczgGVRvEgR0RnE\n",
      "  Args:\n",
      "    query: LangGraph human-in-the-loop workflow site:reddit.com\n",
      "=================================\u001b[1m Tool Message \u001b[0m=================================\n",
      "Name: tavily_web_search\n",
      "\n",
      "[{\"title\": \"Human intervention in agent workflows : r/LangChain - Reddit\", \"url\": \"https://www.reddit.com/r/LangChain/comments/1bjnmu4/human_intervention_in_agent_workflows/\", \"content\": \"When building LLM workflows with LangChain/LangGraph what's the best way to build a node in the workflow where a human can validate/approve/reject a flow? I know there is a Human-in-the-loop component in LangGraph that will prompt the user for input. But what if I'm not creating a user-initiated chat conversation, but a flow that reacts to e.g\", \"score\": 0.7067782, \"raw_content\": \"Human intervention in agent workflows : r/LangChain\\nSkip to main content Human intervention in agent workflows : r/LangChain\\nOpen menu Open navigation  Go to Reddit Home\\nr/LangChain A chip A close button\\nGet App Get the Reddit app Log In Log in to Reddit\\nExpand user menu Open settings menu\\n\\nLog In / Sign Up Advertise on Reddit Shop Collectible Avatars\\n\\n Go to LangChain\\nr/LangChain\\nr/LangChain\\nLangChain is an open-source framework and developer toolkit that helps developers get LLM applications from prototype to production. It is available for Python and Javascript at https://www.langchain.com/.\\n\\n41K Members 19 Online\\n• 10 mo. ago\\ntisi3000\\nADMIN MOD\\nHuman intervention in agent workflows\\nWhen building LLM workflows with LangChain/LangGraph what's the best way to build a node in the workflow where a human can validate/approve/reject a flow? I know there is a Human-in-the-loop component in LangGraph that will prompt the user for input. But what if I'm not creating a user-initiated chat conversation, but a flow that reacts to e.g. incoming emails?\\nI guess I'd have to design my UI so that it's not only a simple single-threaded chat interface, but some sort of inbox, right? Or is there any standard way that comes to mind?\\nRead more\\nAdalineAI • Promoted\\nThe single platform for teams to iterate, evaluate, deploy, and monitor prompts for LLMs\\nSign Up\\nadaline.ai\\nAdd a comment\\nSort by:\\nBest\\nOpen comment sort options\\n\\nBest\\nTop\\nNew\\nControversial\\nOld\\nQ&A\\n\\n\\n\\n\\nRJMieden\\n• 10mo ago\\nHere you go: https://python.langchain.com/docs/use_cases/tool_use/human_in_the_loop\\nReply reply\\n\\ntisi3000\\n• 10mo ago\\nThanks. My thoughts are more about the UI for this. And of course LangChain doesn't provide it. But do you know if there is any lib/tool/service that would help me with these human input/intervention type of things? Or I just custom code the UI myself, in whatever way suits my use case?\\nReply reply\\n4 more replies\\n4 more replies\\nMore replies More replies\\n\\nNoLeading4922\\n• 10mo ago\\nSomewhere in the readme of LangGraph talked about this\\nReply reply\\n\\nadlx\\n• 10mo ago\\nIs there not a human input tool?\\nReply reply\\n\\ntisi3000\\n• 10mo ago\\nI'm wondering. For a simple single-threaded chat there's probably enough templates out there, but for more than that.. dunno\\nReply reply More replies\\n[deleted]\\n• 8mo ago\\nComment removed by moderator\\nReply reply\\n\\ntisi3000\\n• 8mo ago\\nYeah there are multiple ones that help with RLHF, but couldn't find any that allow users to control their AI assistants if it's not a chat conversation but an independently running AI workflow. I actually started working on this myself: gotoHuman.com Would appreciate your feedback!\\nReply reply\\n2 more replies\\n2 more replies\\nMore replies More replies\\nTop 3% Rank by size\\nPublic\\nAnyone can view, post, and comment to this community\\nMore posts you may like\\n\\n\\n r/LangChain • 12 days ago\\nr/LangChain\\nLangChain is an open-source framework and developer toolkit that helps developers get LLM applications from prototype to production. It is available for Python and Javascript at https://www.langchain.com/.\\n\\n41K Members 19 Online\\n### After Working on LLM Apps, I'm Wondering: Are they really providing value\\n172 upvotes · 64 comments\\n\\n\\n\\n r/archviz • 10 mo. ago\\n\\nr/archviz\\nA subreddit for discussing the architectural visualisation industry.\\n\\n22K Members 5 Online\\n### AI workflows\\n4 upvotes · 13 comments\\n\\n\\n\\n r/LangChain • 25 days ago\\nr/LangChain\\nLangChain is an open-source framework and developer toolkit that helps developers get LLM applications from prototype to production. It is available for Python and Javascript at https://www.langchain.com/.\\n\\n41K Members 19 Online\\n### Lessons learned from building a context-sensitive AI assistant with RAG\\n107 upvotes · 18 comments\\n\\n\\n\\nPromoted\\n\\n r/ChatGPTPro • 1 yr. ago\\n\\nr/ChatGPTPro\\nSubreddit dedicated to discussions on the advanced capabilities and professional applications of ChatGPT.\\n\\n330K Members 31 Online\\n### AI and Workflows- combine?\\n5 upvotes · 5 comments\\n\\n\\n\\n r/Slack • 10 mo. ago\\nr/Slack\\nFuck u/spez\\n\\n27K Members 6 Online\\n### Slack Workflows\\n1 upvote · 2 comments\\n\\n\\n\\n r/LangChain • 12 days ago\\nr/LangChain\\nLangChain is an open-source framework and developer toolkit that helps developers get LLM applications from prototype to production. It is available for Python and Javascript at https://www.langchain.com/.\\n\\n41K Members 19 Online\\n### Order of JSON fields can hurt your LLM output\\n194 upvotes · 40 comments\\n\\n\\n\\n r/LangChain • 13 days ago\\nr/LangChain\\nLangChain is an open-source framework and developer toolkit that helps developers get LLM applications from prototype to production. It is available for Python and Javascript at https://www.langchain.com/.\\n\\n41K Members 19 Online\\n### How do I get really good at RAG?\\n112 upvotes · 33 comments\\n\\n\\n\\n r/LangChain • 23 days ago\\nr/LangChain\\nLangChain is an open-source framework and developer toolkit that helps developers get LLM applications from prototype to production. It is available for Python and Javascript at https://www.langchain.com/.\\n\\n41K Members 19 Online\\n### A rant about LangChain, and a minimalist alternative\\n101 upvotes · 39 comments\\n\\n\\n\\nPromoted\\n\\n r/LangChain • 12 days ago\\nr/LangChain\\nLangChain is an open-source framework and developer toolkit that helps developers get LLM applications from prototype to production. It is available for Python and Javascript at https://www.langchain.com/.\\n\\n41K Members 19 Online\\n### I Built an LLM Framework in just 100 Lines!!\\n112 upvotes · 33 comments\\n\\n\\n\\n r/LangChain • 9 days ago\\nr/LangChain\\nLangChain is an open-source framework and developer toolkit that helps developers get LLM applications from prototype to production. It is available for Python and Javascript at https://www.langchain.com/.\\n\\n41K Members 19 Online\\n### The RAG_Techniques repo hit 10,000 stars on GitHub and is the world's leading open source tutorials for RAG\\n\\ngithub\\n314 upvotes · 22 comments\\n\\n\\n\\n r/LLMDevs • 12 days ago\\nr/LLMDevs\\nA space for Developers and Enthusiasts to discuss the application of LLM and NLP tools.\\n\\n26K Members 16 Online\\n### Not using Langchain ever !!!\\n178 upvotes · 56 comments\\n\\n\\n\\n r/Notion • 1 yr. ago\\n\\nr/Notion\\nWrite, plan, collaborate, and get organized. Notion is all you need — in one tool. This community-run subreddit is all about Notion, the future of productivity apps.\\n\\n380K Members 25 Online\\n### Unified workflow?\\n2 upvotes · 1 comment\\n\\n\\n\\n r/Rag • 9 days ago\\n\\nr/Rag\\nWelcome to r/Rag, the community for everything Retrieval-Augmented Generation (RAG)! RAG combines retrieval systems with generative models to create more accurate responses, enhancing applications like customer support and research. Join us to discuss RAG techniques, projects, and tools. Whether you're a researcher, developer, or AI enthusiast, you'll find tips, tutorials, and support to innovate with RAG!\\n\\n11K Members 8 Online\\n### The RAG_Techniques repo hit 10,000 stars on GitHub and is the world's leading open source tutorials for RAG\\n\\ngithub\\n159 upvotes · 36 comments\\n\\n\\n\\nr/Office365 • 10 mo. ago\\nr/Office365\\nA vast community of Microsoft Office365 users that are working together to support the product and others.\\n\\n126K Members 16 Online\\n### Work flow guidance\\n4 comments\\n\\n\\n\\n r/dataengineering • 1 yr. ago\\n\\nr/dataengineering\\nNews & discussion on Data Engineering topics, including but not limited to: data pipelines, databases, data formats, storage, data modeling, data governance, cleansing, NoSQL, distributed systems, streaming, batch, Big Data, and workflow engines.\\n\\n246K Members 28 Online\\n### Data Engineer Overwhelmed with Tasks - Is This Normal?\\n21 upvotes · 15 comments\\n\\n\\n\\n r/LocalLLM • 5 days ago\\n\\nr/LocalLLM\\nSubreddit to discuss about locally run large language models and related topics.\\n\\n19K Members 8 Online\\n### LLM Summarization is Costing Me Thousands\\n187 upvotes · 107 comments\\n\\n\\n\\n r/LocalLLM • 21 days ago\\n\\nr/LocalLLM\\nSubreddit to discuss about locally run large language models and related topics.\\n\\n19K Members 8 Online\\n### Finally Understanding LLMs: What Actually Matters When Running Models Locally\\n434 upvotes · 58 comments\\n\\n\\n\\nr/AI_Agents • 7 days ago\\nr/AI_Agents\\nA place for discussion around the use of AI Agents and related tools. AI Agents are LLMs that have the ability to \\\"use tools\\\" or \\\"execute functions\\\" in an autonomous or semi-autonomous (also known as human-in-the-loop) fashion. Follow our event calendar: https://lu.ma/oss4ai Join us on Discord! https://discord.gg/6tGkQcFjBY\\n\\n33K Members 18 Online\\n### ChatGPT Could Soon Be Free - Here's Why\\n365 upvotes · 85 comments\\n\\n\\n\\nr/AI_Agents • 15 days ago\\nr/AI_Agents\\nA place for discussion around the use of AI Agents and related tools. AI Agents are LLMs that have the ability to \\\"use tools\\\" or \\\"execute functions\\\" in an autonomous or semi-autonomous (also known as human-in-the-loop) fashion. Follow our event calendar: https://lu.ma/oss4ai Join us on Discord! https://discord.gg/6tGkQcFjBY\\n\\n33K Members 18 Online\\n### Best AI Agent Frameworks in 2025: A Comprehensive Guide\\n189 upvotes · 39 comments\\n\\n\\n\\nr/AI_Agents • 5 days ago\\nr/AI_Agents\\nA place for discussion around the use of AI Agents and related tools. AI Agents are LLMs that have the ability to \\\"use tools\\\" or \\\"execute functions\\\" in an autonomous or semi-autonomous (also known as human-in-the-loop) fashion. Follow our event calendar: https://lu.ma/oss4ai Join us on Discord! https://discord.gg/6tGkQcFjBY\\n\\n33K Members 18 Online\\n### I built my first AI agent to solve my life's biggest challenge and automate my work with WhatsApp, OpenAI, and Google Calendar 📆\\n246 upvotes · 101 comments\\n\\n\\n\\nr/AI_Agents • 5 days ago\\nr/AI_Agents\\nA place for discussion around the use of AI Agents and related tools. AI Agents are LLMs that have the ability to \\\"use tools\\\" or \\\"execute functions\\\" in an autonomous or semi-autonomous (also known as human-in-the-loop) fashion. Follow our event calendar: https://lu.ma/oss4ai Join us on Discord! https://discord.gg/6tGkQcFjBY\\n\\n33K Members 18 Online\\n### What Courses or Resources Can Help Me Create AI Agents?\\n179 upvotes · 38 comments\\n\\n\\n\\nr/AskLawyers • 1 yr. ago\\nr/AskLawyers\\nAsk your questions here. The correct answer almost always includes consulting with an attorney. Public posts and comments in this subreddit are not intended to create an attorney-client relationship.\\n\\n33K Members 66 Online\\n### Use of AI in your firm for administrative work?\\n1 upvote · 4 comments\\n\\n\\n\\n r/ConnectWise • 1 yr. ago\\n\\nr/ConnectWise\\n\\n9.1K Members 9 Online\\n### Workflows for the logged in user\\n1 upvote · 3 comments\\n\\n\\n\\nr/AI_Agents • 6 days ago\\nr/AI_Agents\\nA place for discussion around the use of AI Agents and related tools. AI Agents are LLMs that have the ability to \\\"use tools\\\" or \\\"execute functions\\\" in an autonomous or semi-autonomous (also known as human-in-the-loop) fashion. Follow our event calendar: https://lu.ma/oss4ai Join us on Discord! https://discord.gg/6tGkQcFjBY\\n\\n33K Members 18 Online\\n### 22 startup ideas to start in 2025 (ai agents, saas, etc)\\n745 upvotes · 56 comments\\n\\n\\n\\nr/nocode • 10 mo. ago\\n\\nr/nocode\\nCommunity dedicated to building cool things without needing to be a developer.\\n\\n50K Members 16 Online\\n### No-code platform with AI workflows\\n3 upvotes · 32 comments\\n\\n\\n\\n\\nRelated discussion\\n\\nBest Workflow Automation Tools\\n\\nTop Posts\\n\\n\\n\\nReddit\\nreReddit: Top posts of March 20, 2024 * * *\\n\\n\\nReddit\\nreReddit: Top posts of March 2024 * * *\\n\\n\\nReddit\\nreReddit: Top posts of 2024 * * *\\n\\n\\n \\n\\n\\n \\n\\n\\n\\n\\n\\n\\nTOPICS\\n\\n\\nInternet Culture (Viral)\\n\\n\\nAmazing Animals & Pets Cringe & Facepalm Funny Interesting Memes Oddly Satisfying Reddit Meta Wholesome & Heartwarming\\n\\n\\nGames\\n\\n\\nAction Games Adventure Games Esports Gaming Consoles & Gear Gaming News & Discussion Mobile Games Other Games Role-Playing Games Simulation Games Sports & Racing Games Strategy Games*   Tabletop Games\\n\\n\\nQ&As\\n\\n\\nQ&As*   Stories & Confessions\\n\\n\\nTechnology\\n\\n\\n3D Printing Artificial Intelligence & Machine Learning Computers & Hardware Consumer Electronics DIY Electronics Programming Software & Apps Streaming Services Tech News & Discussion*   Virtual & Augmented Reality\\n\\n\\nPop Culture\\n\\n\\nCelebrities Creators & Influencers Generations & Nostalgia Podcasts Streamers*   Tarot & Astrology\\n\\n\\nMovies & TV\\n\\n\\nAction Movies & Series Animated Movies & Series Comedy Movies & Series Crime, Mystery, & Thriller Movies & Series Documentary Movies & Series Drama Movies & Series Fantasy Movies & Series Horror Movies & Series Movie News & Discussion Reality TV Romance Movies & Series Sci-Fi Movies & Series Superhero Movies & Series*   TV News & Discussion\\n\\n\\n\\n\\n\\nRESOURCES\\n\\n\\nAbout Reddit Advertise Help Blog Careers*   Press\\n\\n\\n\\n\\nCommunities Best of Reddit Topics\\n\\n\\n\\nReddit Rules Privacy Policy User Agreement\\n\\nReddit, Inc. © 2025. All rights reserved.\\nclose\\nLog In\\nBy continuing, you agree to our User Agreement and acknowledge that you understand the Privacy Policy.\\nContinue with phone number\\n\\nOR\\n\\nEmail or username\\nPassword\\nForgot password?\\nNew to Reddit? Sign Up\\nLog In\\nback\\nEnter the 6-digit code from your authenticator app\\nYou’ve set up two-factor authentication for this account.\\nVerification code\\nLost access to your authenticator? Use a backup code\\nCheck code\\nback\\nEnter a 6-digit backup code\\nYou’ve set up two-factor authentication for this account.\\nBackup code\\nDon’t have access to your backup code? Use a code from an authenticator app\\nCheck code\\nclose\\nSign Up\\nBy continuing, you agree to our User Agreement and acknowledge that you understand the Privacy Policy.\\nEmail\\nAlready a redditor? Log In\\nContinue\\nback Skip\\nVerify your email\\nEnter the 6-digit code we sent to\\nVerification code\\nDidn't get an email? Resend\\nContinue\\nback\\nCreate your username and password\\nReddit is anonymous, so your username is what you’ll go by here. Choose wisely—because once you get a name, you can’t change it.\\nUsername\\nPassword\\nContinue\\nclose\\nSign Up\\nBy continuing, you agree to our User Agreement and acknowledge that you understand the Privacy Policy.\\nContinue with phone number\\n\\nOR\\n\\nEmail\\nAlready a redditor? Log In\\nContinue\\nback Skip\\nVerify your email\\nEnter the 6-digit code we sent to\\nVerification code\\nDidn't get an email? Resend\\nContinue\\nback\\nCreate your username and password\\nReddit is anonymous, so your username is what you’ll go by here. Choose wisely—because once you get a name, you can’t change it.\\nUsername\\nPassword\\nContinue\\nclose back\\nReset your password\\nEnter your email address or username and we’ll send you a link to reset your password\\nEmail or username\\nNeed help?\\nReset password\\nclose back\\nCheck your inbox\\nAn email with a link to reset your password was sent to the email address associated with your account\\nDidn't get an email? Resend\\nclose\\nChoose a Reddit account to continue\\nback close\\nReset your password\\nNew password\\nConfirm new password\\nResetting your password will log you out on all devices.\\nContinue\"}, {\"title\": \"Production ready? : r/LangChain - Reddit\", \"url\": \"https://www.reddit.com/r/LangChain/comments/1b194ot/production_ready/\", \"content\": \"I like LangGraph for example because of the simple workflow. Would you mind sharing how I should work instead? ... We have also built LangGraph which makes it a little nicer to build state machines and other agentic looping type applications that natively support streaming, checkpointing, human-in-the-loop, etc. patterns for your custom code\", \"score\": 0.68344116, \"raw_content\": \"Production ready? : r/LangChain\\nSkip to main content Production ready? : r/LangChain\\nOpen menu Open navigation  Go to Reddit Home\\nr/LangChain A chip A close button\\nGet App Get the Reddit app Log In Log in to Reddit\\nExpand user menu Open settings menu\\n\\nLog In / Sign Up Advertise on Reddit Shop Collectible Avatars\\n\\n Go to LangChain\\nr/LangChain\\nr/LangChain\\nLangChain is an open-source framework and developer toolkit that helps developers get LLM applications from prototype to production. It is available for Python and Javascript at https://www.langchain.com/.\\n\\n41K Members 19 Online\\n• 1 yr. ago\\nBeginning_Rock_1906\\nADMIN MOD\\nProduction ready?\\nHey guys.\\nSome Youtuber criticised LangChain saying it's not production ready. He said the the following: \\\"It abstracts away too many details from you, which makes it super hard to customize for a specific real world use case. Besides, it was released before function calling models, so there is no type validation, which is essential in production to prevent hallucinations.\\\"\\nDo you guys agree here?\\nDo you think LangChain can be used in production already or are there crucial steps making LangChain and possibly any other framework a hobby project for now?\\nI like the idea of LangGraph a lot for example but not sure how much time I should invest here.\\nRead more\\nAdalineAI • Promoted\\nThe single platform for teams to iterate, evaluate, deploy, and monitor prompts for LLMs\\nSign Up\\nadaline.ai\\nAdd a comment\\nSort by:\\nBest\\nOpen comment sort options\\n\\nBest\\nTop\\nNew\\nControversial\\nOld\\nQ&A\\n\\n\\n\\n\\nEcto-1A\\n• 1y ago\\nIt really depends on how simple or complex your project is. Basic rag is fine with langchain but as you get more complex, langchain can be a bit of a hindrance\\nReply reply\\n\\nBeginning_Rock_1906\\n• 1y ago\\nWhat do you mean by hinderance? Let's say I want to build a LangGraph project with 50 nodes/agents. Each agent is fine tuned and equipped with its own tools. What would make a project like this unfeasible with LangChain? I heard a few times now that LangChain is no good for complex projects but why so? Is there anything that works better or are the LLM's in general not ready yet? Would be cool to know. Because in essence you only have LLM's that need to understand the current circumstances and activate the right tools when it's their turn or communicate to the ones that have the right tools right?\\nReply reply\\n3 more replies\\n3 more replies\\nMore replies More replies\\n\\nSnoo67004\\n• 1y ago • Edited 1y ago\\nNo agent framework, Langchain or some other framework, is production ready unless your OpenAI or Microsoft (cost).\\nAgents work great with GPT4, with 3.5 your better off using chains or other deterministic workflows.\\nI would further argue Langchain is THE only production ready framework, and anyone saying otherwise probably trying to shill there Saas starter package.\\nReply reply\\n14 more replies\\n14 more replies\\nMore replies\\n\\nTall-Appearance-5835\\n • 1y ago\\nhe’s not wrong\\nReply reply\\n\\nvirtualmic\\n• 1y ago\\n\\ntype validation\\n\\nSorry, how do you mean? Pydantic with gpt-4-turbo works good (for my use cases atleast, which admittedly aren't very complex currently).\\nEdit: just read your note more carefully, and yes, there can be hallucinations, if the Pydantic type isn't \\\"tight\\\" enough. eg. in one case where I tried to use a Literal field type, it didn't work well, but started working well when I had converted it to separate fields in the model. But I think that's more to do with the model rather than LangChain.\\nReply reply\\n\\nBeginning_Rock_1906\\n• 1y ago\\nThanks. Do you think that a cluster of let's say 50 agents (just for thought experiment) would be able to work together well or is there anything inherit to LangChain that might prevent it? People seem to hate on LangChain for more complex tasks and I'm trying to understand why. LangGraph for example seems to be made for such use cases but I don't know.\\nReply reply\\n1 more reply\\n1 more reply\\nMore replies More replies\\n\\ndjstraylight\\n• 1y ago\\nI'd say that any framework is running up against the cost and limited compute everybody has for LLMs currently. I had to give OpenAI a bunch of money to bump up my 'tier' so I didn't hit API request caps on my account. And that was just for a POC.\\nReply reply\\n1 more reply\\n1 more reply\\nMore replies\\n\\nTight-Amphibian8614\\n• 10mo ago\\nDon't put langchain in any production environment unless your product is a demonstration of langchain.\\nReply reply\\n[deleted]\\n• 10mo ago\\nAny explanation or helpful article to explain this?\\nReply reply More replies\\n\\nBeginning_Rock_1906\\n• 1y ago\\nHere's another response. So is there anything that really speaks against it? I'm really sceptical about the pessimism on LangChain right now:\\nLangChain is a framework that lets you build whatever you want. The commenter is critiquing LangChain based on 1 specific class that isn't that popular anymore. We have many different types of agent examples, and we pretty much universally recommend the function calling/ tool calling approach as a starting point in our docs over older ReAct or other types of agents. This uses exactly as many tokens as you would directly using OpenAI because we don't actually disintermediate you that much. ReAct agents are older types of agents that aren't really production ready, but demonstrated what could be possible at a time when most developers weren't even aware of LLMs and what they could accomplish. We still keep this and other things around (but don't recommend them) because there are a large number of people who want to do fun agentic stuff using open source models that don't support function calling yet. We have also built LangGraph which makes it a little nicer to build state machines and other agentic looping type applications that natively support streaming, checkpointing, human-in-the-loop, etc. patterns for your custom code. Where possible, it' smore reliable to shift control flow to your code rather than an agent because any ML looping structure accumulates errors over time. This is the case regardless of the type of agent you're working with today. Yes, you can build it with the OpenAI client yourself. Yes you can build it with raw REST requests yourself. Yes you can train your own model that supports function calling and never have to rely on OpenAI and their model deprecations yourself. I sometimes do all the above just because it's enjoyable to tinker. If you're interested in function calling and extraction, we're also improving our interface across models: https://python.langchain.com/docs/guides/structured_output\\nReply reply\\n\\nAdmirable_penguin\\n• 1y ago\\nIs the whole LLM eco system not production ready itself? I’m always afraid of the LLM and the results can spit out the nuclear launch codes\\nReply reply\\nTop 3% Rank by size\\nPublic\\nAnyone can view, post, and comment to this community\\nMore posts you may like\\n\\n\\n r/3Dmodeling • 1 yr. ago\\nr/3Dmodeling\\nA place where you can show off your 3D models, artworks, and designs.\\n\\n1.3M Members 46 Online\\n### Game ready?\\n\\n285 upvotes · 71 comments\\n\\n\\n\\n r/deathguard40k • 1 yr. ago\\n\\nr/deathguard40k\\nWhat is /r/deathguard40k? We are a subreddit focused on the Games Workshop Warhammer 40k / Horus Heresy faction called the Death Guard. The Sons of Barbarus. Followers of the Death Lord. Nurgle Blessed. The Unbroken. XIV. This is a place to share everything Death Guard. Feel free to show your minis, discuss your lists, and rejoice in our shared gift from Father Nurgle.\\n\\n62K Members 9 Online\\n### Tournament ready?\\n\\n8 upvotes · 4 comments\\n\\n\\n\\n r/LangChain • 12 days ago\\nr/LangChain\\nLangChain is an open-source framework and developer toolkit that helps developers get LLM applications from prototype to production. It is available for Python and Javascript at https://www.langchain.com/.\\n\\n41K Members 19 Online\\n### After Working on LLM Apps, I'm Wondering: Are they really providing value\\n172 upvotes · 64 comments\\n\\n\\n\\nPromoted\\n\\n r/LangChain • 13 days ago\\nr/LangChain\\nLangChain is an open-source framework and developer toolkit that helps developers get LLM applications from prototype to production. It is available for Python and Javascript at https://www.langchain.com/.\\n\\n41K Members 19 Online\\n### How do I get really good at RAG?\\n112 upvotes · 33 comments\\n\\n\\n\\n r/LangChain • 12 days ago\\nr/LangChain\\nLangChain is an open-source framework and developer toolkit that helps developers get LLM applications from prototype to production. It is available for Python and Javascript at https://www.langchain.com/.\\n\\n41K Members 19 Online\\n### Order of JSON fields can hurt your LLM output\\n194 upvotes · 40 comments\\n\\n\\n\\n r/LangChain • 12 days ago\\nr/LangChain\\nLangChain is an open-source framework and developer toolkit that helps developers get LLM applications from prototype to production. It is available for Python and Javascript at https://www.langchain.com/.\\n\\n41K Members 19 Online\\n### I Built an LLM Framework in just 100 Lines!!\\n112 upvotes · 33 comments\\n\\n\\n\\n r/LangChain • 25 days ago\\nr/LangChain\\nLangChain is an open-source framework and developer toolkit that helps developers get LLM applications from prototype to production. It is available for Python and Javascript at https://www.langchain.com/.\\n\\n41K Members 19 Online\\n### Lessons learned from building a context-sensitive AI assistant with RAG\\n107 upvotes · 18 comments\\n\\n\\n\\n r/fooocus • 1 yr. ago\\nr/fooocus\\nThis is the unofficial Subreddit for the open source AI image generation software known as Fooocus! Ask questions, share your creations and talk about the Fooocus software. https://github.com/lllyasviel/Fooocus\\n\\n7K Members 3 Online\\n### Stable Cascade?\\n4 upvotes · 6 comments\\n\\n\\n\\nPromoted\\n\\n r/LangChain • 23 days ago\\nr/LangChain\\nLangChain is an open-source framework and developer toolkit that helps developers get LLM applications from prototype to production. It is available for Python and Javascript at https://www.langchain.com/.\\n\\n41K Members 19 Online\\n### A rant about LangChain, and a minimalist alternative\\n101 upvotes · 39 comments\\n\\n\\n\\n r/csharp • 1 yr. ago\\nr/csharp\\nAll about the object-oriented programming language C#.\\n\\n281K Members 32 Online\\n### Job ready?\\n1 upvote · 7 comments\\n\\n\\n\\nr/eurorack • 1 yr. ago\\nr/eurorack\\nAbout Eurorack stuff.\\n\\n12K Members 4 Online\\n### Ready for Performance?\\n1 upvote · 4 comments\\n\\n\\n\\nr/modular • 1 yr. ago\\n\\nr/modular\\nAnything related to the world of Modular Synthesizers: news, videos, pictures, recordings, auction and anything else.\\n\\n83K Members 18 Online\\n### Ready for Performance?\\n1 comment\\n\\n\\n\\n r/LangChain • 9 days ago\\nr/LangChain\\nLangChain is an open-source framework and developer toolkit that helps developers get LLM applications from prototype to production. It is available for Python and Javascript at https://www.langchain.com/.\\n\\n41K Members 19 Online\\n### The RAG_Techniques repo hit 10,000 stars on GitHub and is the world's leading open source tutorials for RAG\\n\\ngithub\\n314 upvotes · 22 comments\\n\\n\\n\\n r/LLMDevs • 12 days ago\\nr/LLMDevs\\nA space for Developers and Enthusiasts to discuss the application of LLM and NLP tools.\\n\\n26K Members 16 Online\\n### Not using Langchain ever !!!\\n178 upvotes · 56 comments\\n\\n\\n\\n r/Rag • 9 days ago\\n\\nr/Rag\\nWelcome to r/Rag, the community for everything Retrieval-Augmented Generation (RAG)! RAG combines retrieval systems with generative models to create more accurate responses, enhancing applications like customer support and research. Join us to discuss RAG techniques, projects, and tools. Whether you're a researcher, developer, or AI enthusiast, you'll find tips, tutorials, and support to innovate with RAG!\\n\\n11K Members 8 Online\\n### The RAG_Techniques repo hit 10,000 stars on GitHub and is the world's leading open source tutorials for RAG\\n\\ngithub\\n159 upvotes · 36 comments\\n\\n\\n\\n r/LocalLLM • 5 days ago\\n\\nr/LocalLLM\\nSubreddit to discuss about locally run large language models and related topics.\\n\\n19K Members 8 Online\\n### LLM Summarization is Costing Me Thousands\\n187 upvotes · 107 comments\\n\\n\\n\\n r/LocalLLM • 21 days ago\\n\\nr/LocalLLM\\nSubreddit to discuss about locally run large language models and related topics.\\n\\n19K Members 8 Online\\n### Finally Understanding LLMs: What Actually Matters When Running Models Locally\\n434 upvotes · 58 comments\\n\\n\\n\\nr/AI_Agents • 7 days ago\\nr/AI_Agents\\nA place for discussion around the use of AI Agents and related tools. AI Agents are LLMs that have the ability to \\\"use tools\\\" or \\\"execute functions\\\" in an autonomous or semi-autonomous (also known as human-in-the-loop) fashion. Follow our event calendar: https://lu.ma/oss4ai Join us on Discord! https://discord.gg/6tGkQcFjBY\\n\\n33K Members 18 Online\\n### ChatGPT Could Soon Be Free - Here's Why\\n365 upvotes · 85 comments\\n\\n\\n\\n r/theantsundergroundkd • 1 yr. ago\\n\\nr/theantsundergroundkd\\nSubReddit dedicated for early access mobile game The Ants: Underground Kingdom\\n\\n3.2K Members 4 Online\\n### Background Production?\\n2 upvotes · 8 comments\\n\\n\\n\\nr/AI_Agents • 5 days ago\\nr/AI_Agents\\nA place for discussion around the use of AI Agents and related tools. AI Agents are LLMs that have the ability to \\\"use tools\\\" or \\\"execute functions\\\" in an autonomous or semi-autonomous (also known as human-in-the-loop) fashion. Follow our event calendar: https://lu.ma/oss4ai Join us on Discord! https://discord.gg/6tGkQcFjBY\\n\\n33K Members 18 Online\\n### What Courses or Resources Can Help Me Create AI Agents?\\n179 upvotes · 38 comments\\n\\n\\n\\n r/Supabase • 1 yr. ago\\n\\nr/Supabase\\nSupabase: the open source Firebase alternative. ______________________ https://supabase.com/ https://github.com/supabase/supabase https://discord.supabase.com https://twitter.com/supabase\\n\\n19K Members 9 Online\\n### Production Checklist?\\n4 upvotes · 2 comments\\n\\n\\n\\nr/AI_Agents • 6 days ago\\nr/AI_Agents\\nA place for discussion around the use of AI Agents and related tools. AI Agents are LLMs that have the ability to \\\"use tools\\\" or \\\"execute functions\\\" in an autonomous or semi-autonomous (also known as human-in-the-loop) fashion. Follow our event calendar: https://lu.ma/oss4ai Join us on Discord! https://discord.gg/6tGkQcFjBY\\n\\n33K Members 18 Online\\n### 22 startup ideas to start in 2025 (ai agents, saas, etc)\\n745 upvotes · 56 comments\\n\\n\\n\\nr/RockTumbling • 1 yr. ago\\nr/RockTumbling\\nA community dedicated to the art of tumbling rocks until they are shiny.\\n\\n32K Members 4 Online\\n### polish ready?\\n\\n7\\n18 upvotes · 19 comments\\n\\n\\n\\nr/AI_Agents • 5 days ago\\nr/AI_Agents\\nA place for discussion around the use of AI Agents and related tools. AI Agents are LLMs that have the ability to \\\"use tools\\\" or \\\"execute functions\\\" in an autonomous or semi-autonomous (also known as human-in-the-loop) fashion. Follow our event calendar: https://lu.ma/oss4ai Join us on Discord! https://discord.gg/6tGkQcFjBY\\n\\n33K Members 18 Online\\n### I built my first AI agent to solve my life's biggest challenge and automate my work with WhatsApp, OpenAI, and Google Calendar 📆\\n246 upvotes · 101 comments\\n\\n\\n\\n r/AnaloguePocket • 1 yr. ago\\n\\nr/AnaloguePocket\\nMeet Analogue Pocket. A multi-video-game-system portable handheld. A digital audio workstation with a built-in synthesizer and sequencer. A tribute to portable gaming. Out of the box, Pocket is compatible with the 2,780+ Game Boy, Game Boy Color & Game Boy Advance game cartridge library. Pocket works with cartridge adapters for other handheld systems, too. Like Game Gear. Neo Geo Pocket Color. Atari Lynx & more. Completely engineered in two FPGAs. No emulation.\\n\\n38K Members 15 Online\\n### RTC reliable?\\n11 upvotes · 13 comments\\n\\n\\n\\nTop Posts\\n\\n\\n\\nReddit\\nreReddit: Top posts of February 27, 2024 * * *\\n\\n\\nReddit\\nreReddit: Top posts of February 2024 * * *\\n\\n\\nReddit\\nreReddit: Top posts of 2024 * * *\\n\\n\\n \\n\\n\\n \\n\\n\\n\\n\\n\\n\\nTOPICS\\n\\n\\nInternet Culture (Viral)\\n\\n\\nAmazing Animals & Pets Cringe & Facepalm Funny Interesting Memes Oddly Satisfying Reddit Meta Wholesome & Heartwarming\\n\\n\\nGames\\n\\n\\nAction Games Adventure Games Esports Gaming Consoles & Gear Gaming News & Discussion Mobile Games Other Games Role-Playing Games Simulation Games Sports & Racing Games Strategy Games*   Tabletop Games\\n\\n\\nQ&As\\n\\n\\nQ&As*   Stories & Confessions\\n\\n\\nTechnology\\n\\n\\n3D Printing Artificial Intelligence & Machine Learning Computers & Hardware Consumer Electronics DIY Electronics Programming Software & Apps Streaming Services Tech News & Discussion*   Virtual & Augmented Reality\\n\\n\\nPop Culture\\n\\n\\nCelebrities Creators & Influencers Generations & Nostalgia Podcasts Streamers*   Tarot & Astrology\\n\\n\\nMovies & TV\\n\\n\\nAction Movies & Series Animated Movies & Series Comedy Movies & Series Crime, Mystery, & Thriller Movies & Series Documentary Movies & Series Drama Movies & Series Fantasy Movies & Series Horror Movies & Series Movie News & Discussion Reality TV Romance Movies & Series Sci-Fi Movies & Series Superhero Movies & Series*   TV News & Discussion\\n\\n\\n\\n\\n\\nRESOURCES\\n\\n\\nAbout Reddit Advertise Help Blog Careers*   Press\\n\\n\\n\\n\\nCommunities Best of Reddit Topics\\n\\n\\n\\nReddit Rules Privacy Policy User Agreement\\n\\nReddit, Inc. © 2025. All rights reserved.\\nAdalineAI • Promoted\\nThe single platform for teams to iterate, evaluate, deploy, and monitor prompts for LLMs\\nSign Up\\nadaline.ai\\n\\nclose\\nLog In\\nBy continuing, you agree to our User Agreement and acknowledge that you understand the Privacy Policy.\\nContinue with phone number\\n\\nOR\\n\\nEmail or username\\nPassword\\nForgot password?\\nNew to Reddit? Sign Up\\nLog In\\nback\\nEnter the 6-digit code from your authenticator app\\nYou’ve set up two-factor authentication for this account.\\nVerification code\\nLost access to your authenticator? Use a backup code\\nCheck code\\nback\\nEnter a 6-digit backup code\\nYou’ve set up two-factor authentication for this account.\\nBackup code\\nDon’t have access to your backup code? Use a code from an authenticator app\\nCheck code\\nclose\\nSign Up\\nBy continuing, you agree to our User Agreement and acknowledge that you understand the Privacy Policy.\\nEmail\\nAlready a redditor? Log In\\nContinue\\nback Skip\\nVerify your email\\nEnter the 6-digit code we sent to\\nVerification code\\nDidn't get an email? Resend\\nContinue\\nback\\nCreate your username and password\\nReddit is anonymous, so your username is what you’ll go by here. Choose wisely—because once you get a name, you can’t change it.\\nUsername\\nPassword\\nContinue\\nclose\\nSign Up\\nBy continuing, you agree to our User Agreement and acknowledge that you understand the Privacy Policy.\\nContinue with phone number\\n\\nOR\\n\\nEmail\\nAlready a redditor? Log In\\nContinue\\nback Skip\\nVerify your email\\nEnter the 6-digit code we sent to\\nVerification code\\nDidn't get an email? Resend\\nContinue\\nback\\nCreate your username and password\\nReddit is anonymous, so your username is what you’ll go by here. Choose wisely—because once you get a name, you can’t change it.\\nUsername\\nPassword\\nContinue\\nclose back\\nReset your password\\nEnter your email address or username and we’ll send you a link to reset your password\\nEmail or username\\nNeed help?\\nReset password\\nclose back\\nCheck your inbox\\nAn email with a link to reset your password was sent to the email address associated with your account\\nDidn't get an email? Resend\\nclose\\nChoose a Reddit account to continue\\nback close\\nReset your password\\nNew password\\nConfirm new password\\nResetting your password will log you out on all devices.\\nContinue\"}, {\"title\": \"LangGraph Workflow for Quality Assurance : r/LangChain - Reddit\", \"url\": \"https://www.reddit.com/r/LangChain/comments/1bsblmu/langgraph_workflow_for_quality_assurance/\", \"content\": \"I've been working on a concept to automate the Quality Assurance (QA) process for complex legal documents using LangGraph, aiming to streamline the workflow, reduce manual effort, and improve compliance efficiency. Handling specific parts of the QA process using AI rather human reviews, from initial document submission to final approval.\", \"score\": 0.657297, \"raw_content\": \"LangGraph Workflow for Quality Assurance : r/LangChain\\nSkip to main content LangGraph Workflow for Quality Assurance : r/LangChain\\nOpen menu Open navigation  Go to Reddit Home\\nr/LangChain A chip A close button\\nGet App Get the Reddit app Log In Log in to Reddit\\nExpand user menu Open settings menu\\n\\nLog In / Sign Up Advertise on Reddit Shop Collectible Avatars\\n\\n Go to LangChain\\nr/LangChain\\nr/LangChain\\nLangChain is an open-source framework and developer toolkit that helps developers get LLM applications from prototype to production. It is available for Python and Javascript at https://www.langchain.com/.\\n\\n41K Members 19 Online\\n• 10 mo. ago\\nSwimminInIt\\nADMIN MOD\\nLangGraph Workflow for Quality Assurance\\nQuestion | Help\\nI've been working on a concept to automate the Quality Assurance (QA) process for complex legal documents using LangGraph, aiming to streamline the workflow, reduce manual effort, and improve compliance efficiency. Handling specific parts of the QA process using AI rather human reviews, from initial document submission to final approval.\\nI see a ton of people talking about document chat and integration with knowledge repos. Rather than just providing information I am looking to perform QA on the documents itself.\\nHere's a brief overview of the workflow:\\n\\n\\nDocument Submission (Manual User Action): Entry point for examiners to submit documents.\\n\\n\\nPre-Processing Node (Script for Data Manipulation): Handles initial formatting and basic validation.\\n\\n\\nPolicy Compliance Checker Node (PCCN): Checks documents against policy rules.\\n\\n\\nError Suggestion Node (ESN): Identifies compliance issues and suggests corrections.\\n\\n\\nQuality Assurance Node (QAN): Final review to ensure document quality.\\n\\n\\nFeedback and Interaction Node (FIN): Where examiners review AI suggestions and apply corrections.\\n\\n\\nApproval and Compliance Marking Node (ACMN): Marks documents as approved.\\n\\n\\nSome questions I have are:\\n\\n\\nHas anyone automated a Quality Assurance process with langchain/graph?\\n\\n\\nIf yes, what was successful or what did not work?\\n\\n\\nAny suggestions on how to improve my approach?\\n\\n\\nAre there any examples you are aware of I could use as a reference?\\n\\n\\nI appreciate any help and thoughts on the topic!\\nRead more\\nAdalineAI • Promoted\\nThe single platform for teams to iterate, evaluate, deploy, and monitor prompts for LLMs\\nSign Up\\nadaline.ai\\nAdd a comment\\nSort by:\\nBest\\nOpen comment sort options\\n\\nBest\\nTop\\nNew\\nControversial\\nOld\\nQ&A\\n\\n\\n\\n\\nSwimminInIt\\n• 10mo ago\\nThe process flow diagram\\n\\nReply reply\\n\\nIlEstLaPapi\\n• 10mo ago\\nThe only loop is based on a human interaction (FIN) so I'd rather go wtih mutliple LCEL than LG.\\nDo you have any tool at any stage?\\nReply reply\\n1 more reply\\n1 more reply\\nMore replies\\ntisi3000\\n• 10mo ago\\nIf you want to include more human checkpoints, maybe gotohuman.com could be beneficial, something we are working on to support more agentic workflows and not just chatbots.\\nReply reply More replies\\n\\nIlEstLaPapi\\n• 10mo ago\\nInteresting project.\\nA few suggestions :\\n\\n\\nDo you have loops in your workflow ? Because if you don't, everything can be done using LCEL or some simpler agents framework such as crew.ai or autogen.\\n\\n\\nI'm not a specialist but the PCCN might require parallelism. Usually it's hard, even with gpt4/opus, to get a good feedback on multiple criteria. A solution that I have implemented in the past is to instantiate a ton of agent. Obviously there's an api cost but depending on the use case, it can be worth it. Basically 1 agent per policy might give better much better results, than use another agent to compile everything. ESN might requires the same logic. To implement the parallelization you'll need to make the code async, then create a runnable that uses an async for loop.\\n\\n\\nYou'll probably have to breakdown this in multiple blocks, remember that a LG workflow is a runnable and, as such, can itself be a node of a bigger LG workflow.\\n\\n\\nTo properly define the workflow you need to think both in terms of \\\"Nodes and Edges\\\" but also in terms of state. I usually go for LG when I have loops, conditional edges and a complex state. Most of the time, I don't give the whole state to each LLM. The runnable encapsulates and selects some parts of the state before passing it to the llm.\\n\\n\\nReply reply\\n\\nSwimminInIt\\n• 10mo ago\\nI do not have any loops in the ai workflow. There is still a manual loop which is the QA analysts feedback which needs to go back to the document writer for a correction since I can alter the document.\\nI really like the idea of trying autogen I haven’t used that one in a few months but might give that a try.\\nThen yeah I have had trouble trying to get one agent to identify multiple policies. Still working out the right balance of what is a reasonable to cover in a single call.\\nReply reply\\n5 more replies\\n5 more replies\\nMore replies More replies\\n\\nFrenchCuliacan\\n• 10mo ago\\nWhat would be the motivation for using langgraph rather than simple python code?\\nReply reply\\n\\ngraph-crawler\\n• 9mo ago\\nlanggraph is simple\\nReply reply More replies\\nTop 3% Rank by size\\nPublic\\nAnyone can view, post, and comment to this community\\nMore posts you may like\\n\\n\\n r/LangChain • 12 days ago\\nr/LangChain\\nLangChain is an open-source framework and developer toolkit that helps developers get LLM applications from prototype to production. It is available for Python and Javascript at https://www.langchain.com/.\\n\\n41K Members 19 Online\\n### After Working on LLM Apps, I'm Wondering: Are they really providing value\\n172 upvotes · 64 comments\\n\\n\\n\\n r/LangChain • 13 days ago\\nr/LangChain\\nLangChain is an open-source framework and developer toolkit that helps developers get LLM applications from prototype to production. It is available for Python and Javascript at https://www.langchain.com/.\\n\\n41K Members 19 Online\\n### How do I get really good at RAG?\\n112 upvotes · 33 comments\\n\\n\\n\\n r/LangChain • 12 days ago\\nr/LangChain\\nLangChain is an open-source framework and developer toolkit that helps developers get LLM applications from prototype to production. It is available for Python and Javascript at https://www.langchain.com/.\\n\\n41K Members 19 Online\\n### I Built an LLM Framework in just 100 Lines!!\\n112 upvotes · 33 comments\\n\\n\\n\\nPromoted\\n\\n r/LangChain • 12 days ago\\nr/LangChain\\nLangChain is an open-source framework and developer toolkit that helps developers get LLM applications from prototype to production. It is available for Python and Javascript at https://www.langchain.com/.\\n\\n41K Members 19 Online\\n### Order of JSON fields can hurt your LLM output\\n194 upvotes · 40 comments\\n\\n\\n\\n r/LangChain • 25 days ago\\nr/LangChain\\nLangChain is an open-source framework and developer toolkit that helps developers get LLM applications from prototype to production. It is available for Python and Javascript at https://www.langchain.com/.\\n\\n41K Members 19 Online\\n### Lessons learned from building a context-sensitive AI assistant with RAG\\n107 upvotes · 18 comments\\n\\n\\n\\n r/LangChain • 9 days ago\\nr/LangChain\\nLangChain is an open-source framework and developer toolkit that helps developers get LLM applications from prototype to production. It is available for Python and Javascript at https://www.langchain.com/.\\n\\n41K Members 19 Online\\n### The RAG_Techniques repo hit 10,000 stars on GitHub and is the world's leading open source tutorials for RAG\\n\\ngithub\\n314 upvotes · 22 comments\\n\\n\\n\\n r/ChatGPT_Gemini • 1 yr. ago\\nr/ChatGPT_Gemini\\nThe \\\"ChatGPT and Gemini Advanced Group\\\" is a community dedicated to exploring and applying the most advanced technologies in the field of artificial intelligence (AI), with a special focus on ChatGPT and Gemini Advanced. Members of this group exchange knowledge, discuss innovative applications, and share best practices in utilizing these advanced AI tools. The goal is to push the boundaries of what is possible with AI by exploring its use in various fields.\\n\\n20K Members 4 Online\\n### Workflow examples for ChatGPT and Gemini combinations\\n3 upvotes\\n\\n\\n\\nr/Database • 10 mo. ago\\nr/Database\\n\\n62K Members 16 Online\\n### Streamlining Manufacturing Setup Plans with SQL & Power BI - Seeking Best Practices\\n2 comments\\n\\n\\n\\nPromoted\\n\\n r/gis • 10 mo. ago\\n\\nr/gis\\nA community dedicated to everything GIS (Geographic Information Systems).\\n\\n120K Members 29 Online\\n### ArcPro to AGOL work flow\\n15 upvotes · 12 comments\\n\\n\\n\\nr/NoCodeSaaS • 1 yr. ago\\nr/NoCodeSaaS\\nFrom the people from /r/SaaS, this is a sub-subreddit for No-Code SaaS discussions\\n\\n10K Members 5 Online\\n### Leveraging Low-Code and AI for Enhanced Email Customer Support: My Development Process\\n1 upvote\\n\\n\\n\\n r/LangChain • 23 days ago\\nr/LangChain\\nLangChain is an open-source framework and developer toolkit that helps developers get LLM applications from prototype to production. It is available for Python and Javascript at https://www.langchain.com/.\\n\\n41K Members 19 Online\\n### A rant about LangChain, and a minimalist alternative\\n101 upvotes · 39 comments\\n\\n\\n\\n r/LLMDevs • 12 days ago\\nr/LLMDevs\\nA space for Developers and Enthusiasts to discuss the application of LLM and NLP tools.\\n\\n26K Members 16 Online\\n### Not using Langchain ever !!!\\n178 upvotes · 56 comments\\n\\n\\n\\n r/Rag • 9 days ago\\n\\nr/Rag\\nWelcome to r/Rag, the community for everything Retrieval-Augmented Generation (RAG)! RAG combines retrieval systems with generative models to create more accurate responses, enhancing applications like customer support and research. Join us to discuss RAG techniques, projects, and tools. Whether you're a researcher, developer, or AI enthusiast, you'll find tips, tutorials, and support to innovate with RAG!\\n\\n11K Members 8 Online\\n### The RAG_Techniques repo hit 10,000 stars on GitHub and is the world's leading open source tutorials for RAG\\n\\ngithub\\n159 upvotes · 36 comments\\n\\n\\n\\n r/sysadmin • 10 mo. ago\\nr/sysadmin\\nA reddit dedicated to the profession of Computer System Administration.\\n\\n969K Members 390 Online\\n### Need advice on Comprehensive SharePoint & Power Automate Workflow for UNIX Server Commissioning\\n3 upvotes · 1 comment\\n\\n\\n\\nr/AI_Agents • 7 days ago\\nr/AI_Agents\\nA place for discussion around the use of AI Agents and related tools. AI Agents are LLMs that have the ability to \\\"use tools\\\" or \\\"execute functions\\\" in an autonomous or semi-autonomous (also known as human-in-the-loop) fashion. Follow our event calendar: https://lu.ma/oss4ai Join us on Discord! https://discord.gg/6tGkQcFjBY\\n\\n33K Members 18 Online\\n### ChatGPT Could Soon Be Free - Here's Why\\n365 upvotes · 85 comments\\n\\n\\n\\nr/AI_Agents • 5 days ago\\nr/AI_Agents\\nA place for discussion around the use of AI Agents and related tools. AI Agents are LLMs that have the ability to \\\"use tools\\\" or \\\"execute functions\\\" in an autonomous or semi-autonomous (also known as human-in-the-loop) fashion. Follow our event calendar: https://lu.ma/oss4ai Join us on Discord! https://discord.gg/6tGkQcFjBY\\n\\n33K Members 18 Online\\n### I built my first AI agent to solve my life's biggest challenge and automate my work with WhatsApp, OpenAI, and Google Calendar 📆\\n246 upvotes · 101 comments\\n\\n\\n\\nr/AI_Agents • 15 days ago\\nr/AI_Agents\\nA place for discussion around the use of AI Agents and related tools. AI Agents are LLMs that have the ability to \\\"use tools\\\" or \\\"execute functions\\\" in an autonomous or semi-autonomous (also known as human-in-the-loop) fashion. Follow our event calendar: https://lu.ma/oss4ai Join us on Discord! https://discord.gg/6tGkQcFjBY\\n\\n33K Members 18 Online\\n### Best AI Agent Frameworks in 2025: A Comprehensive Guide\\n189 upvotes · 39 comments\\n\\n\\n\\n r/SQL • 10 mo. ago\\nr/SQL\\nThe goal of /r/SQL is to provide a place for interesting and informative SQL content and discussions.\\n\\n218K Members 18 Online\\n### Cleaning toilet-quality data, best practices (Azure SQL db)\\n3 upvotes · 10 comments\\n\\n\\n\\nr/AI_Agents • 5 days ago\\nr/AI_Agents\\nA place for discussion around the use of AI Agents and related tools. AI Agents are LLMs that have the ability to \\\"use tools\\\" or \\\"execute functions\\\" in an autonomous or semi-autonomous (also known as human-in-the-loop) fashion. Follow our event calendar: https://lu.ma/oss4ai Join us on Discord! https://discord.gg/6tGkQcFjBY\\n\\n33K Members 18 Online\\n### What Courses or Resources Can Help Me Create AI Agents?\\n179 upvotes · 38 comments\\n\\n\\n\\n r/pmp • 10 mo. ago\\nr/pmp\\nThe unofficial subreddit for all those studying, discussing, or interesting in PMI.org's PMP exam and certification! Please note we, as a sub or as a mod team, have no direction affiliation with PMI\\n\\n84K Members 45 Online\\n### Request for Feedback: Filling PMP Application Project Description\\n6 upvotes · 7 comments\\n\\n\\n\\nr/AI_Agents • 6 days ago\\nr/AI_Agents\\nA place for discussion around the use of AI Agents and related tools. AI Agents are LLMs that have the ability to \\\"use tools\\\" or \\\"execute functions\\\" in an autonomous or semi-autonomous (also known as human-in-the-loop) fashion. Follow our event calendar: https://lu.ma/oss4ai Join us on Discord! https://discord.gg/6tGkQcFjBY\\n\\n33K Members 18 Online\\n### 22 startup ideas to start in 2025 (ai agents, saas, etc)\\n745 upvotes · 56 comments\\n\\n\\n\\n r/LocalLLM • 5 days ago\\n\\nr/LocalLLM\\nSubreddit to discuss about locally run large language models and related topics.\\n\\n19K Members 8 Online\\n### LLM Summarization is Costing Me Thousands\\n187 upvotes · 107 comments\\n\\n\\n\\n r/davinciresolve • 1 yr. ago\\n\\nr/davinciresolve\\nDaVinci Resolve is an industry-standard tool for post-production, including video editing, visual effects, color correction, and sound design, all in a single application! All creators, hobbyists to professionals, are welcome here. Any topics related to Resolve are welcome here. Not officially affiliated with Blackmagic Design.\\n\\n120K Members 31 Online\\n### Workflow for color grading delivering DRP\\n1 upvote · 4 comments\\n\\n\\n\\n r/LocalLLM • 21 days ago\\n\\nr/LocalLLM\\nSubreddit to discuss about locally run large language models and related topics.\\n\\n19K Members 8 Online\\n### Finally Understanding LLMs: What Actually Matters When Running Models Locally\\n434 upvotes · 58 comments\\n\\n\\n\\n r/macapps • 1 yr. ago\\n\\nr/macapps\\nr/MacApps is a one stop shop for all things related to MacOS apps - featuring app showcases, news, updates, sales, discounts and even freebies.\\n\\n136K Members 78 Online\\n### Pastey - Efficient Clipboard Management for Simplified Workflow\\n1 upvote · 12 comments\\n\\n\\n\\nTop Posts\\n\\n\\n\\nReddit\\nreReddit: Top posts of March 31, 2024 * * *\\n\\n\\nReddit\\nreReddit: Top posts of March 2024 * * *\\n\\n\\nReddit\\nreReddit: Top posts of 2024 * * *\\n\\n\\n \\n\\n\\n \\n\\n\\n\\n\\n\\n\\nTOPICS\\n\\n\\nInternet Culture (Viral)\\n\\n\\nAmazing Animals & Pets Cringe & Facepalm Funny Interesting Memes Oddly Satisfying Reddit Meta Wholesome & Heartwarming\\n\\n\\nGames\\n\\n\\nAction Games Adventure Games Esports Gaming Consoles & Gear Gaming News & Discussion Mobile Games Other Games Role-Playing Games Simulation Games Sports & Racing Games Strategy Games*   Tabletop Games\\n\\n\\nQ&As\\n\\n\\nQ&As*   Stories & Confessions\\n\\n\\nTechnology\\n\\n\\n3D Printing Artificial Intelligence & Machine Learning Computers & Hardware Consumer Electronics DIY Electronics Programming Software & Apps Streaming Services Tech News & Discussion*   Virtual & Augmented Reality\\n\\n\\nPop Culture\\n\\n\\nCelebrities Creators & Influencers Generations & Nostalgia Podcasts Streamers*   Tarot & Astrology\\n\\n\\nMovies & TV\\n\\n\\nAction Movies & Series Animated Movies & Series Comedy Movies & Series Crime, Mystery, & Thriller Movies & Series Documentary Movies & Series Drama Movies & Series Fantasy Movies & Series Horror Movies & Series Movie News & Discussion Reality TV Romance Movies & Series Sci-Fi Movies & Series Superhero Movies & Series*   TV News & Discussion\\n\\n\\n\\n\\n\\nRESOURCES\\n\\n\\nAbout Reddit Advertise Help Blog Careers*   Press\\n\\n\\n\\n\\nCommunities Best of Reddit Topics\\n\\n\\n\\nReddit Rules Privacy Policy User Agreement\\n\\nReddit, Inc. © 2025. All rights reserved.\\nclose\\nLog In\\nBy continuing, you agree to our User Agreement and acknowledge that you understand the Privacy Policy.\\nContinue with phone number\\n\\nOR\\n\\nEmail or username\\nPassword\\nForgot password?\\nNew to Reddit? Sign Up\\nLog In\\nback\\nEnter the 6-digit code from your authenticator app\\nYou’ve set up two-factor authentication for this account.\\nVerification code\\nLost access to your authenticator? Use a backup code\\nCheck code\\nback\\nEnter a 6-digit backup code\\nYou’ve set up two-factor authentication for this account.\\nBackup code\\nDon’t have access to your backup code? Use a code from an authenticator app\\nCheck code\\nclose\\nSign Up\\nBy continuing, you agree to our User Agreement and acknowledge that you understand the Privacy Policy.\\nEmail\\nAlready a redditor? Log In\\nContinue\\nback Skip\\nVerify your email\\nEnter the 6-digit code we sent to\\nVerification code\\nDidn't get an email? Resend\\nContinue\\nback\\nCreate your username and password\\nReddit is anonymous, so your username is what you’ll go by here. Choose wisely—because once you get a name, you can’t change it.\\nUsername\\nPassword\\nContinue\\nclose\\nSign Up\\nBy continuing, you agree to our User Agreement and acknowledge that you understand the Privacy Policy.\\nContinue with phone number\\n\\nOR\\n\\nEmail\\nAlready a redditor? Log In\\nContinue\\nback Skip\\nVerify your email\\nEnter the 6-digit code we sent to\\nVerification code\\nDidn't get an email? Resend\\nContinue\\nback\\nCreate your username and password\\nReddit is anonymous, so your username is what you’ll go by here. Choose wisely—because once you get a name, you can’t change it.\\nUsername\\nPassword\\nContinue\\nclose back\\nReset your password\\nEnter your email address or username and we’ll send you a link to reset your password\\nEmail or username\\nNeed help?\\nReset password\\nclose back\\nCheck your inbox\\nAn email with a link to reset your password was sent to the email address associated with your account\\nDidn't get an email? Resend\\nclose\\nChoose a Reddit account to continue\\nback close\\nReset your password\\nNew password\\nConfirm new password\\nResetting your password will log you out on all devices.\\nContinue\"}]\n",
      "==================================\u001b[1m Ai Message \u001b[0m==================================\n",
      "\n",
      "LangGraph에 대한 유용한 자료를 찾았습니다. 다음은 관련된 Reddit 게시물 및 논의 링크입니다:\n",
      "\n",
      "1. **[Human intervention in agent workflows](https://www.reddit.com/r/LangChain/comments/1bjnmu4/human_intervention_in_agent_workflows/)**: LangGraph에서 Human-in-the-loop 구성 요소를 사용하는 방법에 대해 논의하며, 사용자 입력을 요청하는 노드를 어떻게 구축할 수 있을지에 대한 질문과 답변이 포함되어 있습니다.\n",
      "\n",
      "2. **[Production ready?](https://www.reddit.com/r/LangChain/comments/1b194ot/production_ready/)**: LangGraph를 사용하여 복잡한 프로젝트를 구축하는 데 있어 LangChain의 적합성에 대한 논의가 있으며, LangGraph가 상태 머신 및 에이전트 루프 응용 프로그램을 구축하는 데 유용하다는 의견이 있습니다.\n",
      "\n",
      "3. **[LangGraph Workflow for Quality Assurance](https://www.reddit.com/r/LangChain/comments/1bsblmu/langgraph_workflow_for_quality_assurance/)**: LangGraph를 사용하여 복잡한 법률 문서의 품질 보증 프로세스를 자동화하는 개념에 대한 설명이 있으며, 워크플로우와 관련된 다양한 노드가 소개됩니다.\n",
      "\n",
      "이 자료들은 LangGraph의 기능과 활용 가능성에 대한 이해를 돕는 데 유용할 것입니다. 추가적인 질문이나 특정 주제에 대한 더 많은 정보가 필요하시면 말씀해 주세요!\n"
     ]
    }
   ],
   "source": [
    "# config 에는 updated_state 를 전달합니다. 이는 임의로 갱신한 상태를 전달하는 것입니다.\n",
    "for event in graph.stream(None, updated_state, stream_mode=\"values\"):\n",
    "    # 메시지가 이벤트에 포함된 경우\n",
    "    if \"messages\" in event:\n",
    "        # 마지막 메시지 출력\n",
    "        event[\"messages\"][-1].pretty_print()"
   ]
  },
  {
   "cell_type": "markdown",
   "id": "c8dedf06",
   "metadata": {},
   "source": [
    "최종 결과를 출력합니다.\n",
    "\n",
    "이때 사용하는 `config` 는 최종 상태를 가져오는 것이 아니라, 최종 상태를 가져오기 위한 초기 `config` 입니다."
   ]
  },
  {
   "cell_type": "code",
   "execution_count": 38,
   "id": "24d3e865",
   "metadata": {},
   "outputs": [
    {
     "name": "stdout",
     "output_type": "stream",
     "text": [
      "================================\u001b[1m Human Message \u001b[0m=================================\n",
      "\n",
      "LangGraph 에 대해서 배워보고 싶습니다. 유용한 자료를 추천해 주세요!\n",
      "==================================\u001b[1m Ai Message \u001b[0m==================================\n",
      "Tool Calls:\n",
      "  tavily_web_search (call_xJVDxiPGNJcHmErUMrCEMxdF)\n",
      " Call ID: call_xJVDxiPGNJcHmErUMrCEMxdF\n",
      "  Args:\n",
      "    query: LangGraph human-in-the-loop workflow site:reddit.com\n",
      "=================================\u001b[1m Tool Message \u001b[0m=================================\n",
      "Name: tavily_web_search\n",
      "\n",
      "[\"<document><title>Insights and Learnings from Building a Complex Multi-Agent System</title><url>https://www.reddit.com/r/LangChain/comments/1byz3lr/insights_and_learnings_from_building_a_complex/</url><content>For the chatbot, Chainlit provides everything we need, except background processing. Let's use that. Langchain and LCEL are both flexible and unify the interfaces with the LLMs. We'll need a rather complicated agent workflow, in fact, multiple ones. LangGraph is more flexible than crew.ai or autogen.</content></document>\", \"<document><title>Tool-calling agents: Human approval before tool invocation?</title><url>https://www.reddit.com/r/LangChain/comments/1ci3m0k/toolcalling_agents_human_approval_before_tool/</url><content>Thank you. I've seen both of those examples before - the \\\\\\\"human-in-the-loop\\\\\\\" uses a linear chain (rather than agents). The \\\\\\\"human-as-a-tool\\\\\\\" is when a question can't be answered by the LLM / one of the supplied tools, so it asks a human to supplement with info.</content></document>\", \"<document><title>Flow Engineering with LangChain/LangGraph and CodiumAI - Reddit</title><url>https://www.reddit.com/r/Langchaindev/comments/1dl6pyk/flow_engineering_with_langchainlanggraph_and/</url><content>The talk among Itamar Friedman (CEO of CodiumAI) and Harrison Chase (CEO of LangChain) explores best practices, insights, examples, and hot takes on flow engineering: Flow Engineering with LangChain/LangGraph and CodiumAI. Flow Engineering can be used for many problems involving reasoning, and can outperform naive prompt engineering.</content></document>\"]\n",
      "==================================\u001b[1m Ai Message \u001b[0m==================================\n",
      "\n",
      "LangGraph에 대한 유용한 자료를 다음과 같이 추천드립니다:\n",
      "\n",
      "1. **[Insights and Learnings from Building a Complex Multi-Agent System](https://www.reddit.com/r/LangChain/comments/1byz3lr/insights_and_learnings_from_building_a_complex/)** - 이 글에서는 LangGraph의 유연성과 복잡한 에이전트 워크플로우에 대해 논의하고 있습니다. LangGraph가 crew.ai나 autogen보다 더 유연하다는 점을 강조합니다.\n",
      "\n",
      "2. **[Tool-calling agents: Human approval before tool invocation?](https://www.reddit.com/r/LangChain/comments/1ci3m0k/toolcalling_agents_human_approval_before_tool/)** - 이 글에서는 'human-in-the-loop' 접근 방식에 대해 설명하며, LangGraph의 활용 사례를 다룹니다.\n",
      "\n",
      "3. **[Flow Engineering with LangChain/LangGraph and CodiumAI](https://www.reddit.com/r/Langchaindev/comments/1dl6pyk/flow_engineering_with_langchainlanggraph_and/)** - Itamar Friedman과 Harrison Chase가 Flow Engineering의 모범 사례와 통찰을 공유하는 내용으로, LangGraph와 CodiumAI의 결합을 다룹니다. \n",
      "\n",
      "이 자료들은 LangGraph의 기능과 활용에 대한 깊은 이해를 도와줄 것입니다.\n"
     ]
    }
   ],
   "source": [
    "# 최종 결과 출력\n",
    "for msg in graph.get_state(config).values[\"messages\"]:\n",
    "    msg.pretty_print()"
   ]
  }
 ],
 "metadata": {
  "kernelspec": {
   "display_name": "langchain-kr--Xj_wIV7-py3.11",
   "language": "python",
   "name": "python3"
  },
  "language_info": {
   "codemirror_mode": {
    "name": "ipython",
    "version": 3
   },
   "file_extension": ".py",
   "mimetype": "text/x-python",
   "name": "python",
   "nbconvert_exporter": "python",
   "pygments_lexer": "ipython3",
   "version": "3.11.11"
  }
 },
 "nbformat": 4,
 "nbformat_minor": 5
}
