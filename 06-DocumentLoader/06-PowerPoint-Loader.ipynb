{
 "cells": [
  {
   "cell_type": "markdown",
   "id": "d156bac4",
   "metadata": {},
   "source": [
    "# Microsoft PowerPoint\n",
    "\n",
    ">[Microsoft PowerPoint](https://en.wikipedia.org/wiki/Microsoft_PowerPoint)는 Microsoft에서 개발한 프레젠테이션 프로그램입니다.\n",
    "\n",
    "이는 `Microsoft PowerPoint` 문서를 다운스트림에서 사용할 수 있는 문서 형식으로 로드하는 방법을 다룹니다.\n",
    "\n",
    "자세한 Unstructured 설정 방법은 [공식 도큐먼트](https://docs.unstructured.io/open-source/core-functionality/overview)를 참조하십시오."
   ]
  },
  {
   "cell_type": "code",
   "execution_count": null,
   "id": "e6ebfb54",
   "metadata": {},
   "outputs": [],
   "source": [
    "# 패키지 설치\n",
    "# !pip install -qU unstructured python-pptx"
   ]
  },
  {
   "cell_type": "code",
   "execution_count": 1,
   "id": "c0ab6d40",
   "metadata": {},
   "outputs": [
    {
     "name": "stdout",
     "output_type": "stream",
     "text": [
      "1\n"
     ]
    }
   ],
   "source": [
    "from langchain_community.document_loaders import UnstructuredPowerPointLoader\n",
    "\n",
    "# UnstructuredPowerPointLoader 생성\n",
    "loader = UnstructuredPowerPointLoader(\"./data/sample-ppt.pptx\")\n",
    "\n",
    "# 데이터 로드\n",
    "docs = loader.load()\n",
    "\n",
    "# 로드한 문서의 개수 출력\n",
    "print(len(docs))"
   ]
  },
  {
   "cell_type": "markdown",
   "id": "993bf605",
   "metadata": {},
   "source": [
    "`Unstructured`는 텍스트의 다양한 **chunks**에 대해 다양한 \"elements\"를 생성합니다. \n",
    "\n",
    "기본적으로 결합되어 하나의 document 로 반환하지만, `mode=\"elements\"`를 지정함으로써 쉽게 요소들을 분리할 수 있습니다."
   ]
  },
  {
   "cell_type": "code",
   "execution_count": 2,
   "id": "37db9965",
   "metadata": {},
   "outputs": [
    {
     "name": "stdout",
     "output_type": "stream",
     "text": [
      "17\n"
     ]
    }
   ],
   "source": [
    "# UnstructuredPowerPointLoader 생성\n",
    "loader = UnstructuredPowerPointLoader(\"./data/sample-ppt.pptx\", mode=\"elements\")\n",
    "\n",
    "# 데이터 로드\n",
    "docs = loader.load()\n",
    "\n",
    "print(len(docs))"
   ]
  },
  {
   "cell_type": "code",
   "execution_count": 3,
   "id": "e88d528b",
   "metadata": {},
   "outputs": [
    {
     "name": "stdout",
     "output_type": "stream",
     "text": [
      "랭체인 한국어 튜토리얼\n"
     ]
    }
   ],
   "source": [
    "print(docs[0].page_content)"
   ]
  },
  {
   "cell_type": "code",
   "execution_count": 4,
   "id": "1a14ebf5",
   "metadata": {},
   "outputs": [
    {
     "data": {
      "text/plain": [
       "{'source': './data/sample-ppt.pptx',\n",
       " 'filename': 'sample-ppt.pptx',\n",
       " 'file_directory': './data',\n",
       " 'last_modified': '2024-12-30T14:35:50',\n",
       " 'filetype': 'application/vnd.openxmlformats-officedocument.presentationml.presentation',\n",
       " 'page_number': 1,\n",
       " 'category': 'Title',\n",
       " 'element_id': '026af4246954475333b4704ddff7954b'}"
      ]
     },
     "execution_count": 4,
     "metadata": {},
     "output_type": "execute_result"
    }
   ],
   "source": [
    "docs[0].metadata"
   ]
  }
 ],
 "metadata": {
  "kernelspec": {
   "display_name": "teddy",
   "language": "python",
   "name": "python3"
  },
  "language_info": {
   "codemirror_mode": {
    "name": "ipython",
    "version": 3
   },
   "file_extension": ".py",
   "mimetype": "text/x-python",
   "name": "python",
   "nbconvert_exporter": "python",
   "pygments_lexer": "ipython3",
   "version": "3.11.11"
  }
 },
 "nbformat": 4,
 "nbformat_minor": 5
}
