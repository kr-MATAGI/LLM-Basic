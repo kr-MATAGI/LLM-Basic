{
 "cells": [
  {
   "cell_type": "markdown",
   "id": "7d7a0833",
   "metadata": {},
   "source": [
    "# Microsoft Word"
   ]
  },
  {
   "cell_type": "markdown",
   "id": "ef449d48",
   "metadata": {},
   "source": [
    "[Microsoft Word](https://www.microsoft.com/en-us/microsoft-365/word)는 Microsoft에서 개발한 워드 프로세서입니다.\n",
    "\n",
    "이는 `Word` 문서를 하류에서 사용할 수 있는 문서 형식으로 로드하는 방법을 다룹니다."
   ]
  },
  {
   "cell_type": "markdown",
   "id": "6e96cbf8",
   "metadata": {},
   "source": [
    "## Docx2txtLoader\n",
    "\n",
    "`Docx2txt`를 사용하여 .docx 파일을 문서로 불러올 수 있습니다."
   ]
  },
  {
   "cell_type": "code",
   "execution_count": null,
   "id": "8f81065c",
   "metadata": {},
   "outputs": [],
   "source": [
    "# 설치\n",
    "# !pip install -qU docx2txt"
   ]
  },
  {
   "cell_type": "code",
   "execution_count": 1,
   "id": "f6a2aca3",
   "metadata": {},
   "outputs": [
    {
     "name": "stdout",
     "output_type": "stream",
     "text": [
      "1\n"
     ]
    }
   ],
   "source": [
    "from langchain_community.document_loaders import Docx2txtLoader\n",
    "\n",
    "loader = Docx2txtLoader(\"./data/sample-word-document.docx\")  # 문서 로더 초기화\n",
    "\n",
    "docs = loader.load()  # 문서 로딩\n",
    "\n",
    "print(len(docs))"
   ]
  },
  {
   "cell_type": "markdown",
   "id": "e24d9063",
   "metadata": {},
   "source": [
    "## UnstructuredWordDocumentLoader"
   ]
  },
  {
   "cell_type": "code",
   "execution_count": 2,
   "id": "1dc03484",
   "metadata": {},
   "outputs": [
    {
     "name": "stdout",
     "output_type": "stream",
     "text": [
      "1\n"
     ]
    }
   ],
   "source": [
    "from langchain_community.document_loaders import UnstructuredWordDocumentLoader\n",
    "\n",
    "# 비구조화된 워드 문서 로더 인스턴스화\n",
    "loader = UnstructuredWordDocumentLoader(\"./data/sample-word-document.docx\")\n",
    "\n",
    "# 문서 로드\n",
    "docs = loader.load()\n",
    "\n",
    "print(len(docs))"
   ]
  },
  {
   "cell_type": "markdown",
   "id": "068e707b",
   "metadata": {},
   "source": [
    "결과는 1개의 단일 Document 로 로드됩니다."
   ]
  },
  {
   "cell_type": "code",
   "execution_count": 3,
   "id": "2714f05c",
   "metadata": {},
   "outputs": [
    {
     "name": "stdout",
     "output_type": "stream",
     "text": [
      "{'source': './data/sample-word-document.docx'}\n"
     ]
    }
   ],
   "source": [
    "# metadata 출력\n",
    "print(docs[0].metadata)"
   ]
  },
  {
   "cell_type": "markdown",
   "id": "4e083d7f",
   "metadata": {},
   "source": [
    "내부적으로 비정형은 텍스트 덩어리마다 서로 다른 \"**요소**\"를 만듭니다. \n",
    "\n",
    "기본적으로 이들은 함께 결합되어 있지만 `mode=\"elements\"` 를 지정하여 쉽게 분리할 수 있습니다."
   ]
  },
  {
   "cell_type": "code",
   "execution_count": 5,
   "id": "02ddc25c",
   "metadata": {},
   "outputs": [
    {
     "name": "stdout",
     "output_type": "stream",
     "text": [
      "125\n"
     ]
    }
   ],
   "source": [
    "# UnstructuredWordDocumentLoader\n",
    "loader = UnstructuredWordDocumentLoader(\n",
    "    \"./data/sample-word-document.docx\", mode=\"elements\"\n",
    ")\n",
    "\n",
    "# 데이터 로드\n",
    "docs = loader.load()\n",
    "\n",
    "# 로드한 문서의 개수 출력\n",
    "print(len(docs))"
   ]
  },
  {
   "cell_type": "code",
   "execution_count": 6,
   "id": "a39223ab",
   "metadata": {},
   "outputs": [
    {
     "name": "stdout",
     "output_type": "stream",
     "text": [
      "Semantic Search\n"
     ]
    }
   ],
   "source": [
    "# 첫번째 문서의 내용 출력\n",
    "print(docs[0].page_content)"
   ]
  },
  {
   "cell_type": "code",
   "execution_count": 7,
   "id": "3416ecc2",
   "metadata": {},
   "outputs": [
    {
     "data": {
      "text/plain": [
       "{'source': './data/sample-word-document.docx',\n",
       " 'filename': 'sample-word-document.docx',\n",
       " 'file_directory': './data',\n",
       " 'last_modified': '2024-12-30T14:35:50',\n",
       " 'filetype': 'application/vnd.openxmlformats-officedocument.wordprocessingml.document',\n",
       " 'category_depth': 0,\n",
       " 'page_number': 1,\n",
       " 'category': 'Title',\n",
       " 'element_id': '3dd5e0592f44354ea795b26adff789ba'}"
      ]
     },
     "execution_count": 7,
     "metadata": {},
     "output_type": "execute_result"
    }
   ],
   "source": [
    "# 첫번째 문서의 내용 출력\n",
    "docs[0].metadata"
   ]
  }
 ],
 "metadata": {
  "kernelspec": {
   "display_name": "teddy",
   "language": "python",
   "name": "python3"
  },
  "language_info": {
   "codemirror_mode": {
    "name": "ipython",
    "version": 3
   },
   "file_extension": ".py",
   "mimetype": "text/x-python",
   "name": "python",
   "nbconvert_exporter": "python",
   "pygments_lexer": "ipython3",
   "version": "3.11.11"
  }
 },
 "nbformat": 4,
 "nbformat_minor": 5
}
