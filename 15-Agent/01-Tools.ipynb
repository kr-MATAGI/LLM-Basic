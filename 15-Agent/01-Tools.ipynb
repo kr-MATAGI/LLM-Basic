{
 "cells": [
  {
   "cell_type": "markdown",
   "metadata": {},
   "source": [
    "# 도구 (Tools)\n",
    "\n",
    "도구(Tool)는 에이전트, 체인 또는 LLM이 외부 세계와 상호작용하기 위한 인터페이스입니다.\n",
    "\n",
    "LangChain 에서 기본 제공하는 도구를 사용하여 쉽게 도구를 활용할 수 있으며, 사용자 정의 도구(Custom Tool) 를 쉽게 구축하는 것도 가능합니다.\n",
    "\n",
    "**LangChain 에 통합된 도구 리스트는 아래 링크에서 확인할 수 있습니다.**\n",
    "\n",
    "- [LangChain 통합된 도구 리스트](https://python.langchain.com/v0.1/docs/integrations/tools/)"
   ]
  },
  {
   "cell_type": "code",
   "execution_count": 10,
   "metadata": {},
   "outputs": [
    {
     "data": {
      "text/plain": [
       "True"
      ]
     },
     "execution_count": 10,
     "metadata": {},
     "output_type": "execute_result"
    }
   ],
   "source": [
    "# API 키를 환경변수로 관리하기 위한 설정 파일\n",
    "from dotenv import load_dotenv\n",
    "\n",
    "# API 키 정보 로드\n",
    "load_dotenv()"
   ]
  },
  {
   "cell_type": "code",
   "execution_count": 2,
   "metadata": {},
   "outputs": [
    {
     "name": "stdout",
     "output_type": "stream",
     "text": [
      "LangSmith 추적을 시작합니다.\n",
      "[프로젝트명]\n",
      "CH15-Tools\n"
     ]
    }
   ],
   "source": [
    "# LangSmith 추적을 설정합니다. https://smith.langchain.com\n",
    "# !pip install -qU langchain-teddynote\n",
    "from langchain_teddynote import logging\n",
    "\n",
    "# 프로젝트 이름을 입력합니다.\n",
    "logging.langsmith(\"CH15-Tools\")"
   ]
  },
  {
   "cell_type": "code",
   "execution_count": 3,
   "metadata": {},
   "outputs": [],
   "source": [
    "import warnings\n",
    "\n",
    "# 경고 메시지 무시\n",
    "warnings.filterwarnings(\"ignore\")"
   ]
  },
  {
   "cell_type": "markdown",
   "metadata": {},
   "source": [
    "## 빌트인 도구(built-in tools)\n",
    "\n",
    "랭체인에서 제공하는 사전에 정의된 도구(tool) 와 툴킷(toolkit) 을 사용할 수 있습니다.\n",
    "\n",
    "tool 은 단일 도구를 의미하며, toolkit 은 여러 도구를 묶어서 하나의 도구로 사용할 수 있습니다.\n",
    "\n",
    "관련 도구는 아래의 링크에서 참고하실 수 있습니다.\n",
    "\n",
    "**참고**\n",
    "- [LangChain Tools/Toolkits](https://python.langchain.com/docs/integrations/tools/)"
   ]
  },
  {
   "cell_type": "markdown",
   "metadata": {},
   "source": [
    "### Python REPL 도구\n",
    "\n",
    "이 도구는 Python 코드를 REPL(Read-Eval-Print Loop) 환경에서 실행하기 위한 클래스를 제공합니다\n",
    "\n",
    "문자열로 이루어진 코드를 실행까지 가능한 코드로 변환해줌\n",
    "\n",
    "- PythonREPLTool\n",
    "\n",
    "**설명**\n",
    "\n",
    "- Python 셸 환경을 제공합니다.\n",
    "- 유효한 Python 명령어를 입력으로 받아 실행합니다.\n",
    "- 결과를 보려면 print(...) 함수를 사용해야 합니다.\n",
    "\n",
    "**주요 특징**\n",
    "\n",
    "- sanitize_input: 입력을 정제하는 옵션 (기본값: True)\n",
    "- python_repl: PythonREPL 인스턴스 (기본값: 전역 범위에서 실행)\n",
    "\n",
    "**사용 방법**\n",
    "\n",
    "- PythonREPLTool 인스턴스 생성\n",
    "- run 또는 arun, invoke 메서드를 사용하여 Python 코드 실행\n",
    "\n",
    "**입력 정제**\n",
    "\n",
    "- 입력 문자열에서 불필요한 공백, 백틱, 'python' 키워드 등을 제거합니다."
   ]
  },
  {
   "cell_type": "code",
   "execution_count": 4,
   "metadata": {},
   "outputs": [],
   "source": [
    "from langchain_experimental.tools import PythonREPLTool\n",
    "\n",
    "# 파이썬 코드를 실행하는 도구를 생성합니다.\n",
    "python_tool = PythonREPLTool()"
   ]
  },
  {
   "cell_type": "code",
   "execution_count": 5,
   "metadata": {},
   "outputs": [
    {
     "name": "stderr",
     "output_type": "stream",
     "text": [
      "Python REPL can execute arbitrary code. Use with caution.\n"
     ]
    },
    {
     "name": "stdout",
     "output_type": "stream",
     "text": [
      "300\n",
      "\n"
     ]
    }
   ],
   "source": [
    "# 파이썬 코드를 실행하고 결과를 반환합니다.\n",
    "print(python_tool.invoke(\"print(100 + 200)\"))"
   ]
  },
  {
   "cell_type": "markdown",
   "metadata": {},
   "source": [
    "아래는 LLM 에게 파이썬 코드를 작성하도록 요청하고 결과를 반환하는 예제입니다.\n",
    "\n",
    "**흐름 정리**\n",
    "1. LLM 모델에게 특정 작업을 수행하는 Python 코드를 작성하도록 요청합니다.\n",
    "2. 작성된 코드를 실행하여 결과를 얻습니다.\n",
    "3. 결과를 출력합니다.\n"
   ]
  },
  {
   "cell_type": "code",
   "execution_count": 8,
   "metadata": {},
   "outputs": [],
   "source": [
    "from langchain_openai import ChatOpenAI\n",
    "from langchain_core.prompts import ChatPromptTemplate\n",
    "from langchain_core.output_parsers import StrOutputParser\n",
    "from langchain_core.runnables import RunnableLambda\n",
    "\n",
    "\n",
    "# 파이썬 코드를 실행하고 중간 과정을 출력하고 도구 실행 결과를 반환하는 함수\n",
    "def print_and_execute(code, debug=False):\n",
    "    if debug:\n",
    "        print(\"CODE:\")\n",
    "        print(code)\n",
    "    return python_tool.invoke(code)  # 실행 후 결과를 반환\n",
    "\n",
    "\n",
    "# 파이썬 코드를 작성하도록 요청하는 프롬프트\n",
    "prompt = ChatPromptTemplate.from_messages(\n",
    "    [\n",
    "        (\n",
    "            \"system\",\n",
    "            \"You are Raymond Hetting, an expert python programmer, well versed in meta-programming and elegant, concise and short but well documented code. You follow the PEP8 style guide. \"\n",
    "            \"Return only the code, no intro, no explanation, no chatty, no markdown, no code block, no nothing. Just the code.\",\n",
    "        ),\n",
    "        (\"human\", \"{input}\"),\n",
    "    ]\n",
    ")\n",
    "# LLM 모델 생성\n",
    "llm = ChatOpenAI(model=\"gpt-4o\", temperature=0)\n",
    "\n",
    "# 프롬프트와 LLM 모델을 사용하여 체인 생성\n",
    "chain = prompt | llm | StrOutputParser()  # | RunnableLambda(print_and_execute)"
   ]
  },
  {
   "cell_type": "code",
   "execution_count": 9,
   "metadata": {},
   "outputs": [
    {
     "name": "stdout",
     "output_type": "stream",
     "text": [
      "import random\n",
      "\n",
      "def generate_lotto_numbers():\n",
      "    return sorted(random.sample(range(1, 46), 6))\n",
      "\n",
      "print(generate_lotto_numbers())\n"
     ]
    }
   ],
   "source": [
    "# 결과 출력\n",
    "print(chain.invoke(\"로또 번호 생성기를 출력하는 코드를 작성하세요.\"))"
   ]
  },
  {
   "cell_type": "markdown",
   "metadata": {},
   "source": [
    "### 검색 API 도구\n",
    "\n",
    "Tavily 검색 API를 활용하여 검색 기능을 구현하는 도구입니다. 이 도구는 두 가지 주요 클래스를 제공합니다: \n",
    "\n",
    "`TavilySearchResults`와 `TavilyAnswer`.\n",
    "\n",
    "**API 키 발급 주소**\n",
    "- https://app.tavily.com/\n",
    "\n",
    "발급한 API 키를 환경변수에 설정합니다.\n",
    "\n",
    "`.env` 파일에 아래와 같이 설정합니다.\n",
    "\n",
    "```\n",
    "TAVILY_API_KEY=tvly-abcdefghijklmnopqrstuvwxyz\n",
    "```\n",
    "\n",
    "### TavilySearchResults\n",
    "\n",
    "**설명**\n",
    "- Tavily 검색 API를 쿼리하고 JSON 형식의 결과를 반환합니다.\n",
    "- 포괄적이고 정확하며 신뢰할 수 있는 결과에 최적화된 검색 엔진입니다.\n",
    "- 현재 이벤트에 대한 질문에 답변할 때 유용합니다.\n",
    "\n",
    "**주요 매개변수**\n",
    "- `max_results` (int): 반환할 최대 검색 결과 수 (기본값: 5)\n",
    "- `search_depth` (str): 검색 깊이 (\"basic\" 또는 \"advanced\")\n",
    "- `include_domains` (List[str]): 검색 결과에 포함할 도메인 목록\n",
    "- `exclude_domains` (List[str]): 검색 결과에서 제외할 도메인 목록\n",
    "- `include_answer` (bool): 원본 쿼리에 대한 짧은 답변 포함 여부\n",
    "- `include_raw_content` (bool): 각 사이트의 정제된 HTML 콘텐츠 포함 여부\n",
    "- `include_images` (bool): 쿼리 관련 이미지 목록 포함 여부\n",
    "\n",
    "**반환 값**\n",
    "- 검색 결과를 포함하는 JSON 형식의 문자열(url, content)"
   ]
  },
  {
   "cell_type": "markdown",
   "metadata": {},
   "source": [
    "혹은 아래의 주석을 해제하고 발급받은 API 키를 입력합니다."
   ]
  },
  {
   "cell_type": "code",
   "execution_count": 10,
   "metadata": {},
   "outputs": [],
   "source": [
    "# import os\n",
    "\n",
    "# os.environ[\"TAVILY_API_KEY\"] = \"TAVILY API 키 입력\""
   ]
  },
  {
   "cell_type": "code",
   "execution_count": 11,
   "metadata": {},
   "outputs": [],
   "source": [
    "from langchain_community.tools.tavily_search import TavilySearchResults\n",
    "\n",
    "# 도구 생성\n",
    "tool = TavilySearchResults(\n",
    "    max_results=6,\n",
    "    include_answer=True,\n",
    "    include_raw_content=True,\n",
    "    # include_images=True,\n",
    "    # search_depth=\"advanced\", # or \"basic\"\n",
    "    include_domains=[\n",
    "        \"github.io\",\n",
    "        \"wikidocs.net\",\n",
    "    ],  # 리스트가 비워져있다면 모든 사이트에서 검색.\n",
    "    # exclude_domains = []\n",
    ")"
   ]
  },
  {
   "cell_type": "code",
   "execution_count": 12,
   "metadata": {},
   "outputs": [
    {
     "data": {
      "text/plain": [
       "[{'url': 'https://teddylee777.github.io/langchain/langchain-agent/',\n",
       "  'content': '🔥알림🔥 ① 테디노트 유튜브 - 구경하러 가기! ② LangChain 한국어 튜토리얼 바로가기 👀 ③ 랭체인 노트 무료 전자책(wikidocs) 바로가기 🙌 ④ RAG 비법노트 LangChain 강의오픈 바로가기 🙌 ⑤ 서울대 PyTorch 딥러닝 강의 바로가기 🙌 [LangChain] 에이전트(Agent)와 도구(tools)를 활용한 지능형 검색 시스템'},\n",
       " {'url': 'https://tryagi.github.io/LangChain/cli/',\n",
       "  'content': 'dotnet tool install --global langchain.cli --prerelease langchain auth openai OPENAI_API_KEY # Default model - gpt-3.5-turbo, you can specify another model using --model parameter langchain summarize --input-file README.md --output-file SUMMARY.md langchain generate --input \"Give me random word\" # It will output a random word to console # Smart task langchain model gpt-4-turbo langchain'},\n",
       " {'url': 'https://gityeop.github.io/machine-learning/LangChain-Tutorial.md/',\n",
       "  'content': '1. LangChain 소개. LangChain은 언어 모델(LLM)을 활용한 애플리케이션 개발을 위한 프레임워크다. 다양한 LLM을 쉽게 통합하고, 체인과 에이전트를 구성하여 복잡한 작업을 수행할 수 있도록 도와준다. 2. 기본 구성 요소 2.1 LLM/Chat Models Groq 사용'},\n",
       " {'url': 'https://ncsoft.github.io/ncresearch/f4a00ed849299e3c91fb3244e74ea7f9b974ebb7',\n",
       "  'content': 'Langchain을 통해 LLM(Large Language Model)을 이용한 애플리케이션을 더 쉽게 만듭니다.'},\n",
       " {'url': 'https://tryagi.github.io/LangChain/',\n",
       "  'content': 'C# implementation of LangChain. We try to be as close to the original as possible in terms of abstractions, but are open to new entities. While the SemanticKernel is good and we will use it wherever possible, we believe that it has many limitations and based on Microsoft technologies. We proceed from the position of the maximum choice of'},\n",
       " {'url': 'https://tmc.github.io/langchaingo/docs/',\n",
       "  'content': 'The LangChain framework is designed with the above principles in mind. Getting Started Note: These docs are for LangChainGo. For documentation on the Python version, head here. Checkout the guide below for a walkthrough of how to get started using LangChain to create a Language Model application. Quickstart, using Ollama; Quickstart, using OpenAI'}]"
      ]
     },
     "execution_count": 12,
     "metadata": {},
     "output_type": "execute_result"
    }
   ],
   "source": [
    "# 도구 실행\n",
    "tool.invoke({\"query\": \"LangChain Tools 에 대해서 알려주세요\"})"
   ]
  },
  {
   "cell_type": "markdown",
   "metadata": {},
   "source": [
    "### Image 생성 도구 (DALL-E)\n",
    "\n",
    "- `DallEAPIWrapper 클래스`: OpenAI의 DALL-E 이미지 생성기를 위한 래퍼(wrapper)입니다.\n",
    "\n",
    "이 도구를 사용하면 DALL-E API를 쉽게 통합하여 텍스트 기반 이미지 생성 기능을 구현할 수 있습니다.\n",
    "\n",
    "다양한 설정 옵션을 통해 유연하고 강력한 이미지 생성 도구로 활용할 수 있습니다.\n",
    "\n",
    "**주요 속성**\n",
    "\n",
    "- `model`: 사용할 DALL-E 모델 이름 (기본값: \"dall-e-2\", \"dall-e-3\")\n",
    "\n",
    "- `n`: 생성할 이미지 수 (기본값: 1)\n",
    "\n",
    "- `size`: 생성할 이미지 크기\n",
    "  - \"dall-e-2\": \"1024x1024\", \"512x512\", \"256x256\"\n",
    "  - \"dall-e-3\": \"1024x1024\", \"1792x1024\", \"1024x1792\"\n",
    "\n",
    "- `style`: 생성될 이미지의 스타일 (기본값: \"natural\", \"vivid\")\n",
    "\n",
    "- `quality`: 생성될 이미지의 품질 (기본값: \"standard\", \"hd\")\n",
    "\n",
    "- `max_retries`: 생성 시 최대 재시도 횟수\n",
    "\n",
    "**주요 기능**\n",
    "- DALL-E API를 사용하여 텍스트 설명에 기반한 이미지 생성"
   ]
  },
  {
   "cell_type": "markdown",
   "metadata": {},
   "source": [
    "**흐름 정리**\n",
    "\n",
    "다음은 DALL-E Image Generator 를 사용하여 이미지를 생성하는 예제입니다.\n",
    "\n",
    "이번에는 `DallEAPIWrapper` 를 사용하여 이미지를 생성해 보겠습니다.\n",
    "\n",
    "이때 입력 프롬프트는 LLM 모델에게 이미지를 생성하는 프롬프트를 작성하도록 요청합니다."
   ]
  },
  {
   "cell_type": "markdown",
   "metadata": {},
   "source": [
    "LLM -> Dalle Prompt -> Prompt Result -> Dalle -> Image Result\n",
    "\n",
    "- 이미지 프롬프트는 조도 등 다양한 부분에서 설정이 필요하다."
   ]
  },
  {
   "cell_type": "code",
   "execution_count": 13,
   "metadata": {},
   "outputs": [
    {
     "name": "stdout",
     "output_type": "stream",
     "text": [
      "Create a neo-classical painting that satirizes people looking at their smartphones. The scene should depict a diverse group of individuals, including men and women of various ages and ethnic backgrounds, all absorbed in their smartphones while seated on classical marble benches. Surround them with elements typical of neo-classical art, such as columns, draped fabrics, and sculptures in the background. The characters should be dressed in a mix of modern and classical attire, blending contemporary fashion with toga-like garments. Use soft, natural lighting to give the scene a serene yet ironic atmosphere, highlighting the contrast between technology and classical beauty. The expressions on their faces should convey a range of emotions, from distraction to amusement, emphasizing the absurdity of their focus on digital devices in a traditionally artistic setting.\n"
     ]
    }
   ],
   "source": [
    "from langchain_core.output_parsers import StrOutputParser\n",
    "from langchain_core.prompts import PromptTemplate\n",
    "from langchain_openai import ChatOpenAI\n",
    "\n",
    "# ChatOpenAI 모델 초기화\n",
    "llm = ChatOpenAI(model=\"gpt-4o-mini\", temperature=0.9, max_tokens=1000)\n",
    "\n",
    "# DALL-E 이미지 생성을 위한 프롬프트 템플릿 정의\n",
    "prompt = PromptTemplate.from_template(\n",
    "    \"Generate a detailed IMAGE GENERATION prompt for DALL-E based on the following description. \"\n",
    "    \"Return only the prompt, no intro, no explanation, no chatty, no markdown, no code block, no nothing. Just the prompt\"\n",
    "    \"Output should be less than 1000 characters. Write in English only.\"\n",
    "    \"Image Description: \\n{image_desc}\",\n",
    ")\n",
    "\n",
    "# 프롬프트, LLM, 출력 파서를 연결하는 체인 생성\n",
    "chain = prompt | llm | StrOutputParser()\n",
    "\n",
    "# 체인 실행\n",
    "image_prompt = chain.invoke(\n",
    "    {\"image_desc\": \"스마트폰을 바라보는 사람들을 풍자한 neo-classicism painting\"}\n",
    ")\n",
    "\n",
    "# 이미지 프롬프트 출력\n",
    "print(image_prompt)"
   ]
  },
  {
   "cell_type": "markdown",
   "metadata": {},
   "source": [
    "그럼, 이전에 생성한 이미지 프롬프트를 `DallEAPIWrapper` 에 입력하여 이미지를 생성해 보겠습니다."
   ]
  },
  {
   "cell_type": "markdown",
   "metadata": {},
   "source": [
    "**`DallEAPIWrapper` 에 대한 임시 버그 안내사항** (작성일: 2024-10-13)\n",
    "\n",
    "- 현재 langchain 0.3.x 이상 버전에서 `DallEAPIWrapper` 에 대한 임시 버그가 있습니다. (`401 오류: invalid API key`)\n",
    "\n",
    "따라서, 아래의 코드를 오류 없이 실행하기 위해서는 LangChain 버전을 0.2.16 으로 변경해야 합니다.\n",
    "\n",
    "아래의 주석을 해제하고 실행하면 LangChain 버전을 0.2.16 으로 변경됩니다.\n",
    "\n",
    "하지만, 이후 내용에서는 LangChain 버전을 0.3.x 이상으로 변경하여 사용하기 때문에\n",
    "\n",
    "`poetry shell` 명령어를 통해 다시 최신 langchain 버전으로 변경해야 합니다.\n",
    "\n",
    "이 과정이 번거로운 분들은 일단 `DallEAPIWrapper` 를 사용하지 않고 진행하셔도 무방합니다.\n",
    "\n",
    "**업그레이드/다운그레이드** 후에는 반드시 상단 메뉴의 \"Restart\" 버튼을 클릭한 뒤 진행해야 합니다."
   ]
  },
  {
   "cell_type": "code",
   "execution_count": null,
   "metadata": {},
   "outputs": [],
   "source": [
    "# 임시 버전 다운그레이드 명령어 (실행 후 restart)\n",
    "# !pip install langchain==0.2.16 langchain-community==0.2.16 langchain-text-splitters==0.2.4 langchain-experimental==0.0.65 langchain-openai==0.1.20"
   ]
  },
  {
   "cell_type": "code",
   "execution_count": 14,
   "metadata": {},
   "outputs": [
    {
     "data": {
      "text/html": [
       "<img src=\"https://oaidalleapiprodscus.blob.core.windows.net/private/org-LuWq9SvZrgkzzmn6K0S7W4rt/user-5wc39CmUour9RldsVbVW1iKY/img-nf43w9GZFNMTmG1uUwTHQeNu.png?st=2025-01-14T05%3A16%3A27Z&se=2025-01-14T07%3A16%3A27Z&sp=r&sv=2024-08-04&sr=b&rscd=inline&rsct=image/png&skoid=d505667d-d6c1-4a0a-bac7-5c84a87759f8&sktid=a48cca56-e6da-484e-a814-9c849652bcb3&skt=2025-01-13T23%3A17%3A33Z&ske=2025-01-14T23%3A17%3A33Z&sks=b&skv=2024-08-04&sig=ywkwuc43CJRhVOYDCOVsvIm/U%2BNe0g8Lw/dFhOloCKU%3D\" width=\"500\"/>"
      ],
      "text/plain": [
       "<IPython.core.display.Image object>"
      ]
     },
     "execution_count": 14,
     "metadata": {},
     "output_type": "execute_result"
    }
   ],
   "source": [
    "# DALL-E API 래퍼 가져오기\n",
    "from langchain_community.utilities.dalle_image_generator import DallEAPIWrapper\n",
    "from IPython.display import Image\n",
    "import os\n",
    "\n",
    "# DALL-E API 래퍼 초기화\n",
    "# model: 사용할 DALL-E 모델 버전\n",
    "# size: 생성할 이미지 크기\n",
    "# quality: 이미지 품질\n",
    "# n: 생성할 이미지 수\n",
    "dalle = DallEAPIWrapper(\n",
    "    model=\"dall-e-3\",\n",
    "    size=\"1024x1024\",\n",
    "    quality=\"standard\",\n",
    "    n=1,\n",
    ")\n",
    "\n",
    "# 질문\n",
    "query = \"스마트폰을 바라보는 사람들을 풍자한 neo-classicism painting\"\n",
    "\n",
    "# 이미지 생성 및 URL 받기\n",
    "# chain.invoke()를 사용하여 이미지 설명을 DALL-E 프롬프트로 변환\n",
    "# dalle.run()을 사용하여 실제 이미지 생성\n",
    "image_url = dalle.run(chain.invoke({\"image_desc\": query}))\n",
    "\n",
    "# 생성된 이미지를 표시합니다.\n",
    "Image(url=image_url, width=500)"
   ]
  },
  {
   "cell_type": "markdown",
   "metadata": {},
   "source": [
    "## 사용자 정의 도구(Custom Tool)\n",
    "\n",
    "LangChain 에서 제공하는 빌트인 도구 외에도 사용자가 직접 도구를 정의하여 사용할 수 있습니다.\n",
    "\n",
    "이를 위해서는 `langchain.tools` 모듈에서 제공하는 `tool` 데코레이터를 사용하여 함수를 도구로 변환합니다.\n",
    "\n",
    "### @tool 데코레이터\n",
    "\n",
    "이 데코레이터는 함수를 도구로 변환하는 기능을 제공합니다. 다양한 옵션을 통해 도구의 동작을 커스터마이즈할 수 있습니다.\n",
    "\n",
    "**사용 방법**\n",
    "1. 함수 위에 `@tool` 데코레이터 적용\n",
    "2. 필요에 따라 데코레이터 매개변수 설정\n",
    "\n",
    "이 데코레이터를 사용하면 일반 Python 함수를 강력한 도구로 쉽게 변환할 수 있으며, 자동화된 문서화와 유연한 인터페이스 생성이 가능합니다."
   ]
  },
  {
   "cell_type": "markdown",
   "metadata": {},
   "source": [
    "- doc string을 통해 어떤 상황에서 호출해야하는지 명시해야함.\n",
    "    - 한글 보다는 영어로 작성"
   ]
  },
  {
   "cell_type": "code",
   "execution_count": 15,
   "metadata": {},
   "outputs": [],
   "source": [
    "from langchain.tools import tool\n",
    "\n",
    "\n",
    "# 데코레이터를 사용하여 함수를 도구로 변환합니다.\n",
    "@tool\n",
    "def add_numbers(a: int, b: int) -> int:\n",
    "    \"\"\"Add two numbers\"\"\"\n",
    "    return a + b\n",
    "\n",
    "\n",
    "@tool\n",
    "def multiply_numbers(a: int, b: int) -> int:\n",
    "    \"\"\"Multiply two numbers\"\"\"\n",
    "    return a * b"
   ]
  },
  {
   "cell_type": "code",
   "execution_count": 16,
   "metadata": {},
   "outputs": [
    {
     "data": {
      "text/plain": [
       "7"
      ]
     },
     "execution_count": 16,
     "metadata": {},
     "output_type": "execute_result"
    }
   ],
   "source": [
    "# 도구 실행\n",
    "add_numbers.invoke({\"a\": 3, \"b\": 4})"
   ]
  },
  {
   "cell_type": "code",
   "execution_count": 17,
   "metadata": {},
   "outputs": [
    {
     "data": {
      "text/plain": [
       "12"
      ]
     },
     "execution_count": 17,
     "metadata": {},
     "output_type": "execute_result"
    }
   ],
   "source": [
    "# 도구 실행\n",
    "multiply_numbers.invoke({\"a\": 3, \"b\": 4})"
   ]
  },
  {
   "cell_type": "markdown",
   "metadata": {},
   "source": [
    "### 구글 뉴스기사 검색 도구\n",
    "\n",
    "`langchain-teddynote` 패키지에서 제공하는 `GoogleNews` 도구를 사용하여 구글 뉴스기사를 검색하는 도구입니다.\n",
    "\n",
    "**참고**\n",
    "- API 키가 필요하지 않습니다. (RSS 피드를 사용하기 때문)\n",
    "\n",
    "news.google.com 에서 제공하는 뉴스기사를 검색하는 도구입니다.\n",
    "\n",
    "**설명**\n",
    "- 구글 뉴스 검색 API를 사용하여 최신 뉴스를 검색합니다.\n",
    "- 키워드를 기반으로 뉴스를 검색할 수 있습니다.\n",
    "- 최신 뉴스를 검색할 수 있습니다.\n",
    "\n",
    "**주요 매개변수**\n",
    "- `k` (int): 반환할 최대 검색 결과 수 (기본값: 5)\n"
   ]
  },
  {
   "cell_type": "markdown",
   "metadata": {},
   "source": [
    "사용하기 전 패키지를 업데이트 해주세요."
   ]
  },
  {
   "cell_type": "code",
   "execution_count": 5,
   "metadata": {},
   "outputs": [],
   "source": [
    "# !pip install -qU langchain-teddynote"
   ]
  },
  {
   "cell_type": "code",
   "execution_count": 18,
   "metadata": {},
   "outputs": [],
   "source": [
    "from langchain_teddynote.tools import GoogleNews\n",
    "\n",
    "# 도구 생성\n",
    "news_tool = GoogleNews()"
   ]
  },
  {
   "cell_type": "code",
   "execution_count": 19,
   "metadata": {},
   "outputs": [
    {
     "data": {
      "text/plain": [
       "[{'url': 'https://news.google.com/rss/articles/CBMickFVX3lxTFBfclYzdVc4cVBjaXZULV9taWV1cXdIVFNvcmNSNTZMcG5YZ3BMbkt2ZmNZRVRENHB2elk4dVZrOC0xZmJHVUhHUHc2ZDFrVkFiczRQMnhObVZfR0VmdGg4aVJEYjluT1lWU3d5OG1zX1hVdw?oc=5',\n",
       "  'content': '경찰·공수처·경호처 3자 회동 ‘빈손’…영장 집행 합의 못해 - 한겨레'},\n",
       " {'url': 'https://news.google.com/rss/articles/CBMihwFBVV95cUxOSERmOGRCT3NuVHdzcklsX1NiSFhzNmRfOEpWNEh5QmpYLXpvMFBaSkVNQUswMTBvc0FndVc1R3Q3c1gxbkxIQXJVeGswYlRGcGFmR2JEYXB3OGVvRzFxOWF3eVdNT0NEWXlkd2hGXzVnLVRMRDFLaDFZUVhJcGFGQkpDTXRDa00?oc=5',\n",
       "  'content': '[속보] 헌재 \"오후 2시 尹 탄핵 심판 전, 정계선 재판관 기피 결론 예상\" - 조선일보'},\n",
       " {'url': 'https://news.google.com/rss/articles/CBMid0FVX3lxTE5yNEJyaTZiZ3pfc1pDVE1INFI3cHNIZzBjZjhoM0FuQ2NEYUE4bDVzQkJnVUFKVjRBOVVRRC10MHdyVXM3Mm9McVRsYTljYy1WbTZXVGZTdE9OWi13LTQ0X0ZudUhyZW5UdHJBSVVhdFhqQk9vUWh30gFmQVVfeXFMTjljQk56d3ZrQldMX3dHZERuczZnRmJUdVBhX3p2US1lc01NT2lmb0xLTFFiRHdqU2pSbm9XR0JDSFFBa09QaGdLd2VBNnlYRDAxYy1qaTgtQUNOZjZPXzdVT3pDY0V3?oc=5',\n",
       "  'content': '정진석 “尹을 마약갱단 다루듯…자기방어권 보장해야” - 동아일보'},\n",
       " {'url': 'https://news.google.com/rss/articles/CBMickFVX3lxTFBXbmJyaXNzenB4MDZYWG1iVkF3bGd1N3VmclpiLXZVdF9LRWpxNnFBcFVISjFzZTBVSEVISVY1eHJUODhQeEpLSEV1d2VKTjVFb1dMYzJtT2pfZmdfTTRnMXlNUTlXR19fQVVfOTRfbE0tZw?oc=5',\n",
       "  'content': '[속보] 법원, ‘윤석열 체포 방해’ 김성훈 경호차장 체포영장 발부 - 한겨레'},\n",
       " {'url': 'https://news.google.com/rss/articles/CBMiWkFVX3lxTE9IcFhheVpjS2J0czR3cTRNN25QRVJWNFNiSVRRLXlUaEx5Y3RqUm5TN0ZmamZGZ1hzOFFrSGpQb2djejBFbHZnQmFySnVWVHBnV3RIVEt1WVR2dw?oc=5',\n",
       "  'content': '곽종근 “계엄 반대하자 김용현이 ‘대통령이 강하수당 올려주라 했다’ 말해” - 경향신문'}]"
      ]
     },
     "execution_count": 19,
     "metadata": {},
     "output_type": "execute_result"
    }
   ],
   "source": [
    "# 최신 뉴스 검색\n",
    "news_tool.search_latest(k=5)"
   ]
  },
  {
   "cell_type": "code",
   "execution_count": 20,
   "metadata": {},
   "outputs": [
    {
     "data": {
      "text/plain": [
       "[{'url': 'https://news.google.com/rss/articles/CBMiggFBVV95cUxNcmxoYUI0ZjN1NXR3d0xoM0N1SzQ2aXFhSDZtejNOVWR0RWpQc0JiVXVNLUMyVlRCVC1pMTIyY01FNFFyVXRPeE5TMU95Qk5MMVRLZGNhb3VEcU9DMENGTnZWMlI0WE8zMmtGSWNickktTV9ONnFXdW5iRFFfSHFOMnNn0gGWAUFVX3lxTE1kSnhXQS1rdkk2TGg5MG9wZVd5R0xMRmx3Z1FIVGhEU0preXIwWG12RmVHYTMyRjBJcjdnYUhLUkYzcVIwSU9mTHFRd0pqY3AxM3lQZFdwb2c3bWgxalFuSDQ1bjA4Q0xQY2VNaXZTc2l0YXNsSFdQNTA3OGFkSEFoal9sNGRCWGZzOTBoSTdFdExZeEFKZw?oc=5',\n",
       "  'content': '오픈AI “AI 경쟁에서 중국 앞서려면 외부 투자·지원 규정 필요” - 조선비즈 - 조선비즈'},\n",
       " {'url': 'https://news.google.com/rss/articles/CBMiTkFVX3lxTFBrc0NaX3VUcFFrNmI1QmZLNUxEblRhYWdjUlZFV2E3ZUNONlk4bTBpM3hNTmxtOG5maE5lUldoMXBmU1JvX2NiWWdNbllMQQ?oc=5',\n",
       "  'content': '“美, AI 전략 자산화…대규모 자본·인프라 투자 시급” 민주당 AI진흥 TF - 전자신문'},\n",
       " {'url': 'https://news.google.com/rss/articles/CBMiiAFBVV95cUxPZVZNVi05aWxZUFpsbDB0X0dEZDlWSUdXTGhtQ2I1TDh2NWVGTENsZERoeVVVWU5Va1hLVEZCcnlyY3NIUjU1N0pZNm15OVV2X2tpWk5Gd0p4enFoSkNvNUdORWxkLWM4dUZvWGNfZXdEMEpneXkyclAwUUNvUDFVbzVXcnMyWVEw?oc=5',\n",
       "  'content': \"세계 반도체 투자, AI 쏠림 가속...전통 수요는 '빨간불' - 글로벌이코노믹\"}]"
      ]
     },
     "execution_count": 20,
     "metadata": {},
     "output_type": "execute_result"
    }
   ],
   "source": [
    "# 키워드로 뉴스 검색\n",
    "news_tool.search_by_keyword(\"AI 투자\", k=3)"
   ]
  },
  {
   "cell_type": "code",
   "execution_count": 21,
   "metadata": {},
   "outputs": [],
   "source": [
    "from langchain_teddynote.tools import GoogleNews\n",
    "from langchain.tools import tool\n",
    "from typing import List, Dict\n",
    "\n",
    "\n",
    "# 키워드로 뉴스 검색하는 도구 생성\n",
    "@tool\n",
    "def search_keyword(query: str) -> List[Dict[str, str]]:\n",
    "    \"\"\"Look up news by keyword\"\"\"\n",
    "    print(query)\n",
    "    news_tool = GoogleNews()\n",
    "    return news_tool.search_by_keyword(query, k=5)"
   ]
  },
  {
   "cell_type": "code",
   "execution_count": 22,
   "metadata": {},
   "outputs": [
    {
     "name": "stdout",
     "output_type": "stream",
     "text": [
      "LangChain AI\n"
     ]
    },
    {
     "data": {
      "text/plain": [
       "[{'url': 'https://news.google.com/rss/articles/CBMibkFVX3lxTE1qMC1EYjRZOEpMNVBEVVpSNm1BX3A4a3FrdmEyOTdDNWdjMGR1ZEgzWlpHZnRFZ1pSUXdKa3JnOXBQZU5qU3dKS3Q5VUNwLVZxRFZmbG1SZzJVSUoyM2lJbnZRbzhYYUJJcnFHWmp3?oc=5',\n",
       "  'content': '랭체인 LangChain 이란 무엇인가? | 인사이트리포트 | 삼성SDS - Samsung SDS'},\n",
       " {'url': 'https://news.google.com/rss/articles/CBMizgJBVV95cUxQU1NSVHJ0eng3bzNVZWNibHBfV0txSkkxZDZvZXlsWXVhcHowWWlRVmwya1FnUm1Mc2FIWFFoSXdvdEY3WDVUbkprdnpDbFl2U1Fua3VjaEgtRHlZVnZlQjNIaTl6Um5NZ2dXenVQTjhMRUVDMzh2WUJjazloQUZmV1JfenBYT1EtWklqbkF2cEc2UFlwR1E0ek56Vjdqckc2Q0pESWd2NnlyYlQwcjBLNnpUem5CTzFaQUdWcTN4UUtROFJMV2ZvWXNrVm5hUDVLZ3cwTWZFT1lkZ2htWXl3LXZzQ25aeFI1SC02Ry1LQnU2aXZKTHEtNVZHazZnZHVBN1pSWEh6WFRoTGR2c19NOVBiXzFOUGNEQVRjSlRMRlBvY2lwaFlZcm1FOHNYZk1McVl5Unl3S1h0OHNadERXNVVuVU4yVVBsbV9HWG5n?oc=5',\n",
       "  'content': '대규모 AI 배포: NVIDIA NIM과 LangChain이 AI 통합 및 성능을 혁신하는 방법 - Unite.AI'},\n",
       " {'url': 'https://news.google.com/rss/articles/CBMiRkFVX3lxTE4xdkNSX1JPZ0FDM19neXJiNWR5Z0JYbENBY3AzR1daaW5CYTU2VEVaSDUxbjFOX0NfNkt0XzJodHQwS2lZSVE?oc=5',\n",
       "  'content': 'AI 5탄-3. 랭체인을 활용한 챗봇 업그레이드 - 브런치'},\n",
       " {'url': 'https://news.google.com/rss/articles/CBMilgFBVV95cUxNSU1sWjc2anZORGZoY3RRcDVhckhyMlFjdWJETmVJYndGVmRfRllCUEZ4THo2UFpCVWRDdTNiWlVJemU4QW5mM2dPYWxhTmNPRHJwNG51dWp2QkFOUk1NbzNWTmlJcjVZSktRZUg2TFQyOVdoaWwzS3dNYlJxTm9rQjFIQkpScU9wT09pU0FZRmlLVGUzeEE?oc=5',\n",
       "  'content': '랭체인 아키텍처 및 동작 메커니즘 분석 - 캐드앤그래픽스'},\n",
       " {'url': 'https://news.google.com/rss/articles/CBMigwJBVV95cUxOU1lKNGNjUklja0JoV2pyT0Vaakp0ekN4LVJGNm5heEdoR0xWaGZvNTRNRmtQWEZiTXNPRC1HM3gxblZfTjB3QW51YzBndXVBcFlMUnJQV2x4X1pjZUhxRW9iRTNMdVo3Q0theWFGZU5uc1lONkpXWHN4WDNtbjZoWHowRWdGOWZWeFpkc2NIMG1tNEdSQmVicTM2SUlxdWd0WUFabEwxU2hyS1o2STFVQm5QdDF4NjRNTGRYcjcydzcyYk01OVFsZW9EaFZ5TEQ0S0pWMERTOG8wZzBMTTg0TlZpLUVFXzY3NFFhR05pQmVlOXFfNEU1dE94cElWTUNSYzVZ?oc=5',\n",
       "  'content': 'LangServe 및 MinIO 통합을 통해 LangChain API를 손쉽게 실행 - HackerNoon'}]"
      ]
     },
     "execution_count": 22,
     "metadata": {},
     "output_type": "execute_result"
    }
   ],
   "source": [
    "# 실행 결과\n",
    "search_keyword.invoke({\"query\": \"LangChain AI\"})"
   ]
  }
 ],
 "metadata": {
  "kernelspec": {
   "display_name": "langchain-kr--Xj_wIV7-py3.11",
   "language": "python",
   "name": "python3"
  },
  "language_info": {
   "codemirror_mode": {
    "name": "ipython",
    "version": 3
   },
   "file_extension": ".py",
   "mimetype": "text/x-python",
   "name": "python",
   "nbconvert_exporter": "python",
   "pygments_lexer": "ipython3",
   "version": "3.11.11"
  }
 },
 "nbformat": 4,
 "nbformat_minor": 2
}
