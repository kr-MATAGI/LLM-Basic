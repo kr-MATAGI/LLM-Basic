{
 "cells": [
  {
   "cell_type": "markdown",
   "id": "d904ebb6",
   "metadata": {},
   "source": [
    "# Agentic RAG\n",
    "\n",
    "- agent를 활용한 RAG\n",
    "    - 상황에서 유동적으로 처리하는 것이 핵심\n",
    "- 현 프로젝트 -> retriever + 웹 검색 도구\n",
    "    - 검색해서 찾을 수 있는 내용 -> RAG\n",
    "    - 찾을 수 없는 내용 -> 웹 검색\n",
    "\n",
    "이번 챕터에서는 문서 검색을 통해 최신 정보에 접근하여 검색 결과를 가지고 답변을 생성하는 에이전트를 만들어 보겠습니다.\n",
    "\n",
    "질문에 따라 문서를 검색하여 답변하거나, 인터넷 검색 도구를 활용하여 답변하는 에이전트를 만들어 보겠습니다.\n",
    "\n",
    "**참고**\n",
    "\n",
    "- RAG 를 수행하되, Agent 를 활용하여 RAG 를 수행한다면 이를 **Agentic RAG** 라고 부릅니다.\n",
    "\n",
    "## 도구(Tools)\n",
    "\n",
    "Agent 가 활용할 도구를 정의하여 Agent 가 추론(reasoning)을 수행할 때 활용하도록 만들 수 있습니다.\n",
    "\n",
    "Tavily Search 는 그 중 대표적인 **검색 도구** 입니다. 검색을 통해 최신 정보에 접근하여 검색 결과를 가지고 답변을 생성할 수 있습니다.\n",
    "\n",
    "도구는 이처럼 검색 도구 뿐만아니라 Python 코드를 실행할 수 있는 도구, 직접 정의한 함수를 실행하는 도구 등 다양한 종류와 방법론을 제공합니다.\n"
   ]
  },
  {
   "cell_type": "markdown",
   "id": "27328084",
   "metadata": {},
   "source": [
    "### 웹 검색도구: Tavily Search\n",
    "\n",
    "LangChain에는 Tavily 검색 엔진을 도구로 쉽게 사용할 수 있는 내장 도구가 있습니다.\n",
    "\n",
    "Tavily Search 를 사용하기 위해서는 API KEY를 발급 받아야 합니다.\n",
    "\n",
    "- [Tavily Search API 발급받기](https://app.tavily.com/sign-in)\n",
    "\n",
    "발급 받은 API KEY 를 다음과 같이 환경변수에 등록 합니다.\n",
    "\n",
    "`.env` 파일에 다음과 같이 등록합니다.\n",
    "\n",
    "- `TAVILY_API_KEY=발급 받은 Tavily API KEY 입력`"
   ]
  },
  {
   "cell_type": "code",
   "execution_count": 1,
   "id": "c0bce178",
   "metadata": {},
   "outputs": [
    {
     "data": {
      "text/plain": [
       "True"
      ]
     },
     "execution_count": 1,
     "metadata": {},
     "output_type": "execute_result"
    }
   ],
   "source": [
    "# API 키를 환경변수로 관리하기 위한 설정 파일\n",
    "from dotenv import load_dotenv\n",
    "\n",
    "# API 키 정보 로드\n",
    "load_dotenv()"
   ]
  },
  {
   "cell_type": "code",
   "execution_count": 2,
   "id": "50d1b459",
   "metadata": {},
   "outputs": [
    {
     "name": "stdout",
     "output_type": "stream",
     "text": [
      "LangSmith 추적을 시작합니다.\n",
      "[프로젝트명]\n",
      "CH15-Agentic-RAG\n"
     ]
    }
   ],
   "source": [
    "# LangSmith 추적을 설정합니다. https://smith.langchain.com\n",
    "# !pip install -qU langchain-teddynote\n",
    "from langchain_teddynote import logging\n",
    "\n",
    "# 프로젝트 이름을 입력합니다.\n",
    "logging.langsmith(\"CH15-Agentic-RAG\")"
   ]
  },
  {
   "cell_type": "code",
   "execution_count": 3,
   "id": "9ecdb860",
   "metadata": {},
   "outputs": [],
   "source": [
    "# TavilySearchResults 클래스를 langchain_community.tools.tavily_search 모듈에서 가져옵니다.\n",
    "from langchain_community.tools.tavily_search import TavilySearchResults\n",
    "\n",
    "# TavilySearchResults 클래스의 인스턴스를 생성합니다\n",
    "# k=6은 검색 결과를 6개까지 가져오겠다는 의미입니다\n",
    "search = TavilySearchResults(k=6)"
   ]
  },
  {
   "cell_type": "markdown",
   "id": "2e659b03",
   "metadata": {},
   "source": [
    "`search.invoke` 함수는 주어진 문자열에 대한 검색을 실행합니다.\n",
    "\n",
    "`invoke()` 함수에 검색하고 싶은 검색어를 넣어 검색을 수행합니다.\n"
   ]
  },
  {
   "cell_type": "code",
   "execution_count": 4,
   "id": "7d65db4b",
   "metadata": {},
   "outputs": [
    {
     "data": {
      "text/plain": [
       "[{'url': 'https://blog.naver.com/PostView.naver?blogId=0_0hy&logNo=222982732699',\n",
       "  'content': '경기 성남시 분당구 판교역로 166 카카오판교아지트 1층 카카오프렌즈. 평일 10:00 - 21:00, 토일 12:00 - 20:00. 031-601-7225'},\n",
       " {'url': 'https://blog.naver.com/PostView.naver?blogId=mmno&logNo=223315998458',\n",
       "  'content': '경기도 성남시 분당구 판교역로 166 카카오판교아지트 1층 카카오프렌즈 판교역 맥주 짝꿍 먹태 제일호프 좋아요 저녁 먹어주고 맥주 한잔 마실때 배안부르게 자꾸만 손이가는 먹태 고소한 마요네즈 청양고추 간장 소스랑'},\n",
       " {'url': 'https://m.blog.naver.com/hj961030/222923648353',\n",
       "  'content': '직접 보면 더 예쁜 카카오프렌즈 판교 아지트점\\n\\u200b\\n모두 모두 카카오프렌즈 판교 아지트점에서 만나요-!\\n경기도 성남시 분당구 판교역로 166\\n\\u200b\\n♥n2u1_늘이의 여행일기♥\\n이 블로그\\n경기도\\n카테고리 글\\n카테고리\\n이 블로그\\n경기도\\n카테고리 글 8. 21:39\\n카카오프렌즈 판교 아지트점\\n문구, 펜시\\n\\u200b\\n주소 : 경기 성남시 분당구 판교역로 166 1층\\n시간 : 월 - 금 10:00 - 21:00 / 토 - 일 찍는 재미가 쏠쏠해요*-*\\n카운터 뒤 쪽으로 가면\\n카카오 프렌즈 골프도 있더라구요~!\\n귀여운 친구들이 골프복을 입고 있기도 하고\\n골프를 할 때 사용하는 다양한 용품도 있어요~!\\n 다 사버릴뻔 했지 뭐에요 ㅇ0ㅇ\\n벽면에 있던 거울도 너무 귀여워서 찰칵!\\n거울 뒤 쪽에 우연히 발견한 커다란 어피치\\n여기에서 혼자 낮잠을 자고 있나봐요 키키\\n들켜버렸어~!\\n 블로그\\n카테고리 이동\\n♥n2u1_늘이의 여행일기♥\\n카카오프렌즈 판교 아지트점 판교의 카카오프렌즈를 소개합니다.\\n2022.'},\n",
       " {'url': 'https://promenade7.tistory.com/entry/멋진-카카오-아지트-판교역-카카오-프렌즈샵-방문-후기',\n",
       "  'content': \"ì¹´ì¹´ì˜¤\\xa0ìº�ë¦\\xadí„°ê°€\\xa0ì•„ë§ˆë�„\\xa0LEDë¡œ\\xa0ë³´ì�´ëŠ”\\xa0ì\\xa0„ê´‘íŒ�ì—�\\xa0ê³„ì†�\\xa0ë‚˜ì˜µë‹ˆë‹¤. ì�´ëŸ°\\xa0ê±°\\xa0ë§Œë“œëŠ”\\xa0ì§�ì›�ë�„\\xa0ì°¸\\xa0ì‰½ì§€\\xa0ì•Šê²\\xa0ë„¤ìš”~\\nê³³ê³³ì—�\\xa0ìžˆëŠ”\\xa0ì¹´ì¹´ì˜¤\\xa0ìº�ë¦\\xadí„°ì™€\\xa0í•¨ê»˜\\xa0ì‚¬ì§„ë�„\\xa0ì°�ì�„\\xa0ìˆ˜\\xa0ìžˆìŠµë‹ˆë‹¤.\\nì˜¬ë�¼ê°€ë³´ì§€ëŠ”\\xa0ì•Šì•˜ì§€ë§Œ\\xa0ìƒ�ì¸µë¶€ë¡œë�„\\xa0ê³„ì†�\\xa0ì´ˆë¡�ìƒ‰ë“¤ì�´\\xa0ë³´ì�´ê³\\xa0 1ì¸µì—�ë�„\\xa0ì�´ë\\xa0‡ê²Œ\\xa0ë§ˆì¹˜\\xa0ì™¸ë¶€\\xa0ìž�ì—°ì�„\\xa0ì˜®ê²¨\\xa0ë†“ì�€\\xa0ë“¯í•œ\\xa0ì¡°ê²½ê³µê°„ì�´\\xa0ë§Žì•˜ìŠµë‹ˆë‹¤. ì‚\\xadë§‰í•\\xa0\\xa0ìˆ˜\\xa0ìžˆëŠ”\\xa0ë�„ì‹¬ì�˜\\xa0ì˜¤í”¼ìŠ¤\\xa0ë¹Œë”©\\xa0ë‚´ë¶€ì—�\\xa0ê·¸ëž˜ë�„\\xa0ìž�ì—°ì�„\\xa0ëŠ�ë‚„\\xa0ìˆ˜\\xa0ìžˆê²Œ\\xa0ìž˜\\xa0ë§Œë“¤ì–´ë†¨ë„¤ìš”.\\n ì˜¤í”¼ìŠ¤ ê±´ë¬¼ì�´ë�¼ ë‹¹ì—°ížˆ ëª»ì˜¬ë�¼ê°€ê²\\xa0ì£\\xa0.ì•ˆê·¸ëž˜ë�„ íšŒì‹�ë‚\\xa0ì�´ë‚˜ ì£¼ë³€ ì§€ë‚˜ê°€ë‹¤ ìž�ì£¼ íŒ�êµ� ì•„ì§€íŠ¸ ì˜†ì�„ ì§€ë‚˜ë‹¤ë‹ˆëŠ”ë�° ê±´ë¬¼\\xa01ì¸µì—�\\xa0ì¹´ì¹´ì˜¤í”„ë\\xa0Œì¦ˆìƒµì�´\\xa0ìžˆë‹¤ëŠ”ê²Œ\\xa0ìƒ�ê°�\\xa0ë‚¬ìŠµë‹ˆë‹¤. ì‹œê°„ì�´\\xa0ë§žì•„ì„œ\\xa0ì•„ì�´ë“¤ê³¼\\xa0í•¨ê»˜\\xa0ì£¼ë§�ì—�\\xa0ì‹¬ì§€ì–´\\xa0ì˜¤í”ˆëŸ°(?)ìœ¼ë¡œ\\xa0ê°€ë³´ê²Œ\\xa0ë�˜ì—ˆìŠµë‹ˆë‹¤. ë„“ì�€\\xa0ê³µê°„ì—�\\xa0ì•„ê¸°ìž�ê¸°í•œ\\xa0ì�¸í…Œë¦¬ì–´ê°€\\xa0ì�¸ìƒ�ì\\xa0�ì�´ê³\\xa0\\xa0ìž¬ë°Œê³\\xa0\\xa0ê·€ì—¬ìš´\\xa0ìƒ�í’ˆë“¤ì�´\\xa0ë§Žì•˜ìŠµë‹ˆë‹¤. ì¹´ì¹´ì˜¤í”„ë\\xa0Œì¦ˆìƒµ íŒ�êµ�ì•„ì§€íŠ¸ì\\xa0� í›„ê¸° ì�¨ë³´ê²\\xa0ìŠµë‹ˆë‹¤.\\n1_íŒ�êµ�ì—\\xad ì¹´ì¹´ì˜¤í”„ë\\xa0Œì¦ˆ íŒ�êµ�ì•„ì§€íŠ¸ì\\xa0� ìœ„ì¹˜, ì˜¤í”ˆì‹œê°„\\nì¹´ì¹´ì˜¤í”„ë\\xa0Œì¦ˆ íŒ�êµ�ì•„ì§€íŠ¸ì\\xa0�ì�€ íŒ�êµ�ì—\\xad 4ë²ˆì¶œêµ¬ Œì¦ˆ ê°“ìƒ� ë‹¤ì�´ì–´ë¦¬ ì‚´íŽ´ë³´ê¸°\\nì˜¤ëŠ˜ë¶€í„° ê°“ìƒ�! ì§€ë‚œë²ˆì—� ì˜¬ë\\xa0¸ë�˜ ë‹¤ì�´ì–´ë¦¬ ì„¸íŠ¸ê°€ ì§„ì—´ë�˜ì–´ ìžˆì—ˆì–´ìš”.ì\\xa0œ\\xa0ë‹¤ì�´ì–´ë¦¬\\xa0ì„¸íŠ¸ëŠ”\\xa0ì—†ëŠ”ë�°\\xa0ë‹¤ë¥¸\\xa0ë¯¼íŠ¸ìƒ‰\\xa0ë‹¤ì�´ì–´ë¦¬\\xa0ì„¸íŠ¸ëŠ”\\xa0ìžˆì—ˆì–´ìš”.ê°™ì�´ ì§„ì—´ë�˜ì–´ ìžˆëŠ” ë‹¬ë\\xa0¥ì�€ ì•„ë§ˆë�„ ì\\xa0œê°€ ë°›ì�€ê±°ì™€ ê°™ì•„ë³´ìž…ë‹ˆë‹¤.\\nêµ°ë�°êµ°ë�°\\xa0ìš”\\xa0ë¯¼íŠ¸ìƒ‰\\xa0ìœ„í�´ë¦¬\\xa0ë‹¤ì�´ì–´ë¦¬ì„¸íŠ¸ê°€\\xa0ì§„ì—´ë�˜ì–´\\xa0ìžˆì—ˆê³\\xa0 ì‹¤ë¬¼ë¡œ íŽ´ë³¼ ìˆ˜ ìžˆëŠ” ê³³ì�€ ì¶˜ì‹�'s ë£¸ì—� ìžˆì—ˆìŠµë‹ˆë‹¤.\\nì\\xa0œê°€ ë°›ì•˜ë�˜ ë‹¬ë\\xa0¥ì�´ ìžˆê³\\xa0 ìŠ¤í”„ë§� ë‹¤ì�´ì–´ë¦¬ë�„ ì§„ì—´ë�˜ì–´ ìžˆì—ˆì–´ìš”.\\n ì¦�ê¸°ë©° ê²½í—˜í•˜ê³\\xa0 ê¸°ë¡�í•˜ëŠ” ë¸”ë¡œê·¸\\në©‹ì§„ ì¹´ì¹´ì˜¤ ì•„ì§€íŠ¸ íŒ�êµ�ì—\\xad ì¹´ì¹´ì˜¤ í”„ë\\xa0Œì¦ˆìƒµ ë°©ë¬¸ í›„ê¸°\\në©‹ì§„ ì¹´ì¹´ì˜¤ ì•„ì§€íŠ¸ íŒ�êµ�ì—\\xad ì¹´ì¹´ì˜¤ í”„ë\\xa0Œì¦ˆìƒµ ë°©ë¬¸ í›„ê¸°\\nì�´ë²ˆ\\xa0í�¬ìŠ¤íŒ…ì�€\\xa0íŒ�êµ�ì—\\xadì—�\\xa0ìžˆëŠ”\\xa0ì¹´ì¹´ì˜¤í”„ë\\xa0Œì¦ˆìƒµ\\xa0íŒ�êµ�ì•„ì§€íŠ¸ì\\xa0�\\xa0ë°©ë¬¸\\xa0í›„ê¸°ìž…ë‹ˆë‹¤. ì–¼ë§ˆì\\xa0„ì—�\\xa0í�¬ìŠ¤íŒ…í•œ\\xa0ë‚´ìš©ìœ¼ë¡œ\\xa0ì—°ë§�ì—�\\xa0í‹°ìŠ¤í†\\xa0ë¦¬ì�˜\\xa0ëŒ“ê¸€\\xa0ì�´ë²¤íŠ¸ì—�\\xa0ì°¸ì—¬í•´ì„œ ì¹´ì¹´ì˜¤\\xa0í”„ë\\xa0Œì¦ˆ\\xa0ë¸”ëž™\\xa0ë‹¤ì�´ì–´ë¦¬\\xa0ì„¸íŠ¸ë¥¼\\xa0ë°›ì•˜ì—ˆì–´ìš”. ì�´ ë¸Œë¦\\xadë“¤ ë‹¤ë“¤ ì�´ì�˜ê³\\xa0 ìž¬ë°Œì–´ ë³´ì—¬ì„œ ì\\xa0€ë�„ ì§‘ì—� ê°€ì\\xa0¸ë‹¤ ë†“ê³\\xa0 ì‹¶ì—ˆì–´ìš”.ã…\\në§Œë“¤ì–´ì\\xa0¸ ìžˆëŠ” ëª¨ìŠµì—�ëŠ” ì—†ì§€ë§Œ ìŠ¤í•‘í�¬ìŠ¤ í”¼ë�¼ë¯¸ë“œ ì\\xa0œí’ˆë�„ ìžˆì—ˆìŠµë‹ˆë‹¤.\\në‹¤ì�Œ ì½”ë„ˆë¡œ ë„˜ì–´ì˜¤ëŠ”ë�° ì�¸í˜•, ìš°ì‚°, ì\\xa0„ìž�ê¸°ê¸° ë“± ë§Žì�€ ì\\xa0œí’ˆë“¤ì�´ ìžˆì—ˆìŠµë‹ˆë‹¤.\\nì�¸í˜•ì\\xa0œí’ˆë�„ ë§Žì�€ë�°..ì\\xa0„ìž�ì\\xa0œí’ˆë¥˜ë�„ ë§Žì�´ ìžˆìŠµë‹ˆë‹¤.\\nìº�ë¦\\xadí„° ì�´ë¦„ì�€ ëª¨ë¥´ì§€ë§Œ ê°™ì�´ ì‚¬ì§„ì�„ ì°�ì�„ ìˆ˜ ìžˆê²Œ í�¬í†\\xa0ì¡´ë�„ ìžˆì—ˆì–´ìš”.\\n\"},\n",
       " {'url': 'https://sshong.kr/1641',\n",
       "  'content': \"ss's log 카카오본사가 있는 판교역의 판교아지트 건물 1층에 카카오프렌즈샵이 오픈했다. 크루가 할인받을 수 있는 오프라인매장이 큰게 별로 없었던 것 같은데.. 여긴 본사 건물 내에 있는 매장이라 그런지 꽤 크게 잘 만들어놨다. 게시글 관리 ss's log '생활정보' 카테고리의 다른 글 고척스카이돔 경기장 근처 유료주차장 - 귀뚜라미 크린테니스코트 주차장 (일주차 18000원)\\xa0\\xa0(0)2022.11.28LG 올레드TV (OLED77C1KNB) 무상수리 만료전 전체점검 & 매직리모콘 불량으로 교환받음\\xa0\\xa0(0)2022.11.19홍천 장원막국수 비빔막국수 / 서현 장원막국수 들기름막국수\\xa0\\xa0(0)2022.11.19내가 쓰는 영양제 약통\\xa0\\xa0(0)2022.09.28타이어 펑크 발생해서 보험사 긴급출동 처리 (KB손해보험)\\xa0\\xa0(0)2022.09.27삼성카드 링크혜택 떴다 - 9월 지방세/국세 30만원 이상 결제시 스벅커피 2잔\\xa0\\xa0(0)2022.09.22여러 킥보드앱 가입 없이 편하게 킥보드 이용이 가능한 티맵과 카카오T\\xa0\\xa0(0)2022.09.21 수영,다이빙 상해,싱가폴,발리.2016 베이징,싱가폴.2013 싱가폴.2010 내 블로그 - 관리자 홈 전환QQ새 글 쓰기WW 블로그 게시글 글 수정 (권한 있는 경우)EE댓글 영역으로 이동CC\"}]"
      ]
     },
     "execution_count": 4,
     "metadata": {},
     "output_type": "execute_result"
    }
   ],
   "source": [
    "# 검색 결과를 가져옵니다.\n",
    "search.invoke(\"판교 카카오 프렌즈샵 아지트점의 전화번호는 무엇인가요?\")"
   ]
  },
  {
   "cell_type": "markdown",
   "id": "eb5d738f",
   "metadata": {},
   "source": [
    "### 문서 기반 문서 검색 도구: Retriever\n",
    "\n",
    "우리의 데이터에 대해 조회를 수행할 retriever도 생성합니다.\n",
    "\n",
    "**실습에 활용한 문서**\n",
    "\n",
    "소프트웨어정책연구소(SPRi) - 2023년 12월호\n",
    "\n",
    "- 저자: 유재흥(AI정책연구실 책임연구원), 이지수(AI정책연구실 위촉연구원)\n",
    "- 링크: https://spri.kr/posts/view/23669\n",
    "- 파일명: `SPRI_AI_Brief_2023년12월호_F.pdf`\n",
    "\n",
    "_실습을 위해 다운로드 받은 파일을 `data` 폴더로 복사해 주시기 바랍니다_\n"
   ]
  },
  {
   "cell_type": "markdown",
   "id": "f63d9f73",
   "metadata": {},
   "source": [
    "이 코드는 웹 기반 문서 로더, 문서 분할기, 벡터 저장소, 그리고 OpenAI 임베딩을 사용하여 문서 검색 시스템을 구축합니다.\n",
    "\n",
    "여기서는 PDF 문서를 `FAISS` DB 에 저장하고 조회하는 retriever 를 생성합니다.\n"
   ]
  },
  {
   "cell_type": "code",
   "execution_count": 5,
   "id": "68f2a3c9",
   "metadata": {},
   "outputs": [],
   "source": [
    "from langchain.text_splitter import RecursiveCharacterTextSplitter\n",
    "from langchain_community.vectorstores import FAISS\n",
    "from langchain_openai import OpenAIEmbeddings\n",
    "from langchain.document_loaders import PyPDFLoader\n",
    "\n",
    "# PDF 파일 로드. 파일의 경로 입력\n",
    "loader = PyPDFLoader(\"data/SPRI_AI_Brief_2023년12월호_F.pdf\")\n",
    "\n",
    "# 텍스트 분할기를 사용하여 문서를 분할합니다.\n",
    "text_splitter = RecursiveCharacterTextSplitter(chunk_size=1000, chunk_overlap=100)\n",
    "\n",
    "# 문서를 로드하고 분할합니다.\n",
    "split_docs = loader.load_and_split(text_splitter)\n",
    "\n",
    "# VectorStore를 생성합니다.\n",
    "vector = FAISS.from_documents(split_docs, OpenAIEmbeddings())\n",
    "\n",
    "# Retriever를 생성합니다.\n",
    "retriever = vector.as_retriever()"
   ]
  },
  {
   "cell_type": "markdown",
   "id": "458a2b03",
   "metadata": {},
   "source": [
    "이 함수는 `retriever` 객체의 `invoke()` 를 사용하여 사용자의 질문에 대한 가장 **관련성 높은 문서** 를 찾는 데 사용됩니다.\n"
   ]
  },
  {
   "cell_type": "code",
   "execution_count": 6,
   "id": "2dab83e0",
   "metadata": {},
   "outputs": [
    {
     "data": {
      "text/plain": [
       "[Document(id='9bab928a-2615-4e12-bca5-0fd1ea98516f', metadata={'source': 'data/SPRI_AI_Brief_2023년12월호_F.pdf', 'page': 12}, page_content='SPRi AI Brief |  \\n2023-12 월호\\n10삼성전자 , 자체 개발 생성 AI ‘삼성 가우스 ’ 공개\\nn삼성전자가 온디바이스에서 작동 가능하며 언어, 코드, 이미지의 3개 모델로 구성된 자체 개발 생성 \\nAI 모델 ‘삼성 가우스 ’를 공개\\nn삼성전자는 삼성 가우스를 다양한 제품에 단계적으로 탑재할 계획으로 , 온디바이스 작동이 가능한 \\n삼성 가우스는 외부로 사용자 정보가 유출될 위험이 없다는 장점을 보유KEY Contents\\n£언어, 코드, 이미지의 3개 모델로 구성된 삼성 가우스 , 온디바이스 작동 지원\\nn삼성전자가 2023 년 11월 8일 열린 ‘삼성 AI 포럼 2023’ 행사에서 자체 개발한 생성 AI 모델 \\n‘삼성 가우스 ’를 최초 공개\\n∙정규분포 이론을 정립한 천재 수학자 가우스 (Gauss) 의 이름을 본뜬 삼성 가우스는 다양한 상황에 \\n최적화된 크기의 모델 선택이 가능\\n∙삼성 가우스는 라이선스나 개인정보를 침해하지 않는 안전한 데이터를 통해 학습되었으며 , \\n온디바이스에서 작동하도록 설계되어 외부로 사용자의 정보가 유출되지 않는 장점을 보유\\n∙삼성전자는 삼성 가우스를 활용한 온디바이스 AI 기술도 소개했으며 , 생성 AI 모델을 다양한 제품에 \\n단계적으로 탑재할 계획\\nn삼성 가우스는 △텍스트를 생성하는 언어모델 △코드를 생성하는 코드 모델 △이미지를 생성하는  \\n이미지 모델의 3개 모델로 구성\\n∙언어 모델은 클라우드와 온디바이스 대상 다양한 모델로 구성되며 , 메일 작성, 문서 요약, 번역 업무의 \\n처리를 지원\\n∙코드 모델 기반의 AI 코딩 어시스턴트 ‘코드아이 (code.i)’ 는 대화형 인터페이스로 서비스를 제공하며 \\n사내 소프트웨어 개발에 최적화\\n∙이미지 모델은 창의적인 이미지를 생성하고 기존 이미지를 원하는 대로 바꿀 수 있도록 지원하며 \\n저해상도 이미지의 고해상도 전환도 지원\\nnIT 전문지 테크리퍼블릭 (TechRepublic) 은 온디바이스 AI가 주요 기술 트렌드로 부상했다며 ,'),\n",
       " Document(id='5852ce54-a14a-47c9-b867-a79f6fe10ab4', metadata={'source': 'data/SPRI_AI_Brief_2023년12월호_F.pdf', 'page': 12}, page_content='저해상도 이미지의 고해상도 전환도 지원\\nnIT 전문지 테크리퍼블릭 (TechRepublic) 은 온디바이스 AI가 주요 기술 트렌드로 부상했다며 , \\n2024 년부터 가우스를 탑재한 삼성 스마트폰이 메타의 라마(Llama)2 를 탑재한 퀄컴 기기 및 구글 \\n어시스턴트를 적용한 구글 픽셀(Pixel) 과 경쟁할 것으로 예상\\n☞ 출처 : 삼성전자 , ‘삼성 AI 포럼’서 자체 개발 생성형 AI ‘삼성 가우스 ’ 공개, 2023.11.08.\\n삼성전자 , ‘삼성 개발자 콘퍼런스 코리아 2023’ 개최, 2023.11.14.\\nTechRepublic, Samsung Gauss: Samsung Research Reveals Generative AI, 2023.11.08.'),\n",
       " Document(id='fd80a78a-9c9c-4634-b251-3785d29e081e', metadata={'source': 'data/SPRI_AI_Brief_2023년12월호_F.pdf', 'page': 1}, page_content='2023 년 12월호\\nⅠ. 인공지능 산업 동향 브리프\\n 1. 정책/법제 \\n   ▹ 미국, 안전하고 신뢰할 수 있는 AI 개발과 사용에 관한 행정명령 발표  ························· 1\\n   ▹ G7, 히로시마 AI 프로세스를 통해 AI 기업 대상 국제 행동강령에 합의··························· 2\\n   ▹ 영국 AI 안전성 정상회의에 참가한 28개국, AI 위험에 공동 대응 선언··························· 3\\n   ▹ 미국 법원, 예술가들이 생성 AI 기업에 제기한 저작권 소송 기각····································· 4\\n   ▹ 미국 연방거래위원회 , 저작권청에 소비자 보호와 경쟁 측면의 AI 의견서 제출················· 5\\n   ▹ EU AI 법 3자 협상, 기반모델 규제 관련 견해차로 난항··················································· 6\\n \\n 2. 기업/산업 \\n   ▹ 미국 프런티어 모델 포럼, 1,000 만 달러 규모의 AI 안전 기금 조성································ 7\\n   ▹ 코히어 , 데이터 투명성 확보를 위한 데이터 출처 탐색기 공개  ······································· 8\\n   ▹ 알리바바 클라우드 , 최신 LLM ‘통이치엔원 2.0’ 공개 ······················································ 9\\n   ▹ 삼성전자 , 자체 개발 생성 AI ‘삼성 가우스 ’ 공개 ··························································· 10\\n   ▹ 구글, 앤스로픽에 20억 달러 투자로 생성 AI 협력 강화 ················································ 11'),\n",
       " Document(id='5444ba60-b009-461a-ae59-798ac0ee0156', metadata={'source': 'data/SPRI_AI_Brief_2023년12월호_F.pdf', 'page': 15}, page_content='1. 정책/법제  2. 기업/산업 3. 기술/연구  4. 인력/교육\\n빌 게이츠 , AI 에이전트로 인한 컴퓨터 사용의 패러다임 변화 전망\\nn빌 게이츠가 5년 내 일상언어로 모든 작업을 처리할 수 있는 AI 에이전트가 보급되며 컴퓨터를 \\n사용하는 방식이 완전히 바뀔 것으로 예상\\nn에이전트의 보급은 컴퓨터 분야를 넘어 산업 전 영역에 영향을 미칠 전망으로 특히 의료와 \\n교육, 생산성 , 엔터테인먼트 ·쇼핑 영역에서 고가로 제공되던 서비스가 대중화될 전망KEY Contents\\n£5년 내 기기에 일상언어로 말하기만 하면 되는 AI 에이전트의 보급 예상\\nn빌 게이츠 마이크로소프트 창업자가 2023 년 11월 9일 공식 블로그를 통해 AI 에이전트가 컴퓨터  \\n사용방식과 소프트웨어 산업을 완전히 변화시킬 것이라는 전망을 제시\\n∙자연어에 반응하고 사용자에 대한 지식을 바탕으로 다양한 작업을 수행하는 소프트웨어를 의미하는 \\n에이전트는 컴퓨터 사용방식이 키보드 입력에서 아이콘 클릭으로 바뀐 이후 최대의 컴퓨팅 혁명을 \\n가져올 전망\\n∙현재는 컴퓨터 작업 시 작업 내용에 따라 각각 다른 앱을 사용해야 하지만 5년 내 에이전트의 발전으로 \\n기기에 일상언어로 말하기만 하면 되는 미래가 도래할 것\\n∙온라인에 접속하는 모든 사람이 AI 기반의 개인 비서를 사용할 수 있게 되며, 에이전트는 사용자에 대한 \\n풍부한 지식을 바탕으로 맞춤화된 대응이 가능하며 시간이 지날수록 개선됨\\n∙일례로 여행 계획 수립 시 AI 챗봇이 예산에 맞는 호텔을 제안하는데 머문다면 , 에이전트는 사용자의 여행 \\n패턴을 분석해 여행지를 제안하고 관심사에 따른 활동을 추천하며 선호하는 스타일의 레스토랑 예약도 가능  \\n£AI 에이전트가 의료와 교육, 생산성 , 엔터테인먼트 ·쇼핑 영역의 서비스 대중화를 주도할 것\\nn에이전트로 인해 주목할 만한 변화는 고비용 서비스의 대중화로 특히 △의료 △교육 △생산성 △\\n엔터테인먼트 ·쇼핑의 4개 영역에서 대규모 변화 예상')]"
      ]
     },
     "execution_count": 6,
     "metadata": {},
     "output_type": "execute_result"
    }
   ],
   "source": [
    "# 문서에서 관련성 높은 문서를 가져옵니다.\n",
    "retriever.invoke(\"삼성전자가 개발한 생성형 AI 관련 내용을 문서에서 찾아줘\")"
   ]
  },
  {
   "cell_type": "markdown",
   "id": "98528482",
   "metadata": {},
   "source": [
    "이제 우리가 검색을 수행할 인덱스를 채웠으므로, 이를 에이전트가 제대로 사용할 수 있는 도구로 쉽게 변환할 수 있습니다.\n"
   ]
  },
  {
   "cell_type": "markdown",
   "id": "6006cbc9",
   "metadata": {},
   "source": [
    "`create_retriever_tool` 함수로 `retriever` 를 도구로 변환합니다."
   ]
  },
  {
   "cell_type": "code",
   "execution_count": 9,
   "id": "683b1878",
   "metadata": {},
   "outputs": [],
   "source": [
    "from langchain.tools.retriever import create_retriever_tool\n",
    "\n",
    "# retriever를 도구화 시킴\n",
    "# name & description은 필수\n",
    "# description은 언제 사용해야할지 기입\n",
    "retriever_tool = create_retriever_tool(\n",
    "    retriever,\n",
    "    name=\"pdf_search\",  # 도구의 이름을 입력합니다.\n",
    "    description=\"use this tool to search information from the PDF document\",  # 도구에 대한 설명을 자세히 기입해야 합니다!!\n",
    ")"
   ]
  },
  {
   "cell_type": "markdown",
   "id": "24519b31",
   "metadata": {},
   "source": [
    "### Agent 가 사용할 도구 목록 정의\n",
    "\n",
    "이제 두 가지를 모두 만들었으므로, Agent 가 사용할 도구 목록을 만들 수 있습니다.\n",
    "\n",
    "`tools` 리스트는 `search`와 `retriever_tool`을 포함합니다. "
   ]
  },
  {
   "cell_type": "code",
   "execution_count": 10,
   "id": "1984dd66",
   "metadata": {},
   "outputs": [],
   "source": [
    "# tools 리스트에 search와 retriever_tool을 추가합니다.\n",
    "tools = [search, retriever_tool]"
   ]
  },
  {
   "cell_type": "markdown",
   "id": "e7891219",
   "metadata": {},
   "source": [
    "## Agent 생성\n",
    "\n",
    "이제 도구를 정의했으니 에이전트를 생성할 수 있습니다. \n",
    "\n",
    "먼저, Agent 가 활용할 LLM을 정의하고, Agent 가 참고할 Prompt 를 정의합니다.\n",
    "\n",
    "**참고**\n",
    "- 멀티턴 대화를 지원하지 않는다면 \"chat_history\" 를 제거해도 좋습니다."
   ]
  },
  {
   "cell_type": "code",
   "execution_count": 11,
   "id": "f6e6cbfd",
   "metadata": {},
   "outputs": [],
   "source": [
    "from langchain_openai import ChatOpenAI\n",
    "from langchain_core.prompts import ChatPromptTemplate\n",
    "\n",
    "# LLM 정의\n",
    "llm = ChatOpenAI(model=\"gpt-4o-mini\", temperature=0)\n",
    "\n",
    "# Prompt 정의\n",
    "prompt = ChatPromptTemplate.from_messages(\n",
    "    [\n",
    "        (\n",
    "            \"system\",\n",
    "            \"You are a helpful assistant. \"\n",
    "            \"Make sure to use the `pdf_search` tool for searching information from the PDF document. \"\n",
    "            \"If you can't find the information from the PDF document, use the `search` tool for searching information from the web.\",\n",
    "        ),\n",
    "        (\"placeholder\", \"{chat_history}\"),\n",
    "        (\"human\", \"{input}\"),\n",
    "        (\"placeholder\", \"{agent_scratchpad}\"),\n",
    "    ]\n",
    ")"
   ]
  },
  {
   "cell_type": "markdown",
   "id": "25a7a1d0",
   "metadata": {},
   "source": [
    "다음으로는 Tool Calling Agent 를 생성합니다."
   ]
  },
  {
   "cell_type": "code",
   "execution_count": 12,
   "id": "ce2cdda8",
   "metadata": {},
   "outputs": [],
   "source": [
    "from langchain.agents import create_tool_calling_agent\n",
    "\n",
    "# tool calling agent 생성\n",
    "agent = create_tool_calling_agent(llm, tools, prompt)"
   ]
  },
  {
   "cell_type": "markdown",
   "id": "5592f1b3",
   "metadata": {},
   "source": [
    "마지막으로, 생성한 `agent` 를 실행하는 `AgentExecutor` 를 생성합니다.\n",
    "\n",
    "**참고**\n",
    "\n",
    "- `verbose=False` 로 설정하여 중간 단계 출력을 생략하였습니다."
   ]
  },
  {
   "cell_type": "code",
   "execution_count": 13,
   "id": "88bb3aab",
   "metadata": {},
   "outputs": [],
   "source": [
    "from langchain.agents import AgentExecutor\n",
    "\n",
    "# AgentExecutor 생성\n",
    "agent_executor = AgentExecutor(agent=agent, tools=tools, verbose=False)"
   ]
  },
  {
   "cell_type": "markdown",
   "id": "614375b3",
   "metadata": {},
   "source": [
    "## 에이전트 실행하기\n",
    "\n",
    "이제 몇 가지 질의에 대해 에이전트를 실행할 수 있습니다!\n",
    "\n",
    "현재 이러한 모든 질의는 **상태(Stateless) 가 없는** 질의입니다(이전 상호작용을 기억하지 않습니다).\n"
   ]
  },
  {
   "cell_type": "markdown",
   "id": "d8120a9e",
   "metadata": {},
   "source": [
    "`agent_executor` 객체의 `invoke` 메소드는 딕셔너리 형태의 인자를 받아 처리합니다. 이 예제에서는 `input` 키에 `hi!` 값을 할당한 딕셔너리를 인자로 전달하고 있습니다. 이는 일반적으로 AI 에이전트, 함수 실행기, 또는 명령 처리기 등의 객체에서 입력을 처리하기 위해 사용됩니다.\n"
   ]
  },
  {
   "cell_type": "code",
   "execution_count": 14,
   "id": "40529899",
   "metadata": {},
   "outputs": [],
   "source": [
    "from langchain_teddynote.messages import AgentStreamParser\n",
    "\n",
    "# 각 단계별 출력을 위한 파서 생성\n",
    "agent_stream_parser = AgentStreamParser()"
   ]
  },
  {
   "cell_type": "code",
   "execution_count": 15,
   "id": "9cfbad15",
   "metadata": {},
   "outputs": [
    {
     "name": "stdout",
     "output_type": "stream",
     "text": [
      "[도구 호출]\n",
      "Tool: tavily_search_results_json\n",
      "query: 2024년 프로야구 플레이오프 진출 팀\n",
      "Log: \n",
      "Invoking: `tavily_search_results_json` with `{'query': '2024년 프로야구 플레이오프 진출 팀'}`\n",
      "\n",
      "\n",
      "\n",
      "[관찰 내용]\n",
      "Observation: [{'url': 'https://allgreat.tistory.com/321', 'content': '2024 프로야구 한국시리즈 포스트시즌 일정 진출팀 / 5위 결정전 경기 타이브레이크, 플레이오프 날짜 순위 위 프로야구 순위는 2024년 9월 29일 기준이다. 6.(일) 준플레이오프 2차전 준플레이오프(준PO) 1~2차전은 정규리그 3위 팀인 LG(엘지)의 홈구장인 잠실야구장에서 열린다. 1차전 : 2024년 10월 13일(일) 2차전 : 2024년 10월 14일(월) 3차전 : 2024년 10월 16일(수) 4차전 : 2024년 10월 17일(목) 5차전 : 2024년 10월 19일(토) 5판 3선승제로 치러지는 프로야구 플레이오프(준결승전) 1~2차전은 정규리그 2위팀인 삼성 라이온즈의 홈구장인 대구 라이온즈파크에서 열린다. 1차전 : 10월 21일(월)\\xa0 3차전 : 10월 24일(목) 4차전 : 10월 25일(금) 5차전 : 10월 27일(일) 6차전 : 10월 28일(월) 7차전 : 10월 29일(화) 한국시리즈(코리아시리즈 결승전)는 7전 4선승제로 치러지며, 정규리그 1위팀 기아와 플레이오프 승리팀이 마지막 우승을 놓고 치열한 경기가 펼쳐질 예정이다.'}, {'url': 'https://narooya.com/entry/2024-프로야구-포스트시즌-일정-티켓-예매-플레이오프-일정-총정리', 'content': '2024 프로야구 포스트시즌 일정 티켓 예매 플레이오프 일정 총정리 2024 프로야구 포스트시즌 일정 티켓 예매 플레이오프 일정 총정리 2024 프로야구 포스트시즌 일정 티켓 예매 플레이오프 일정 총정리 2024 프로야구 플레이오프 일정 팀별 정보 티켓 예매 방법 정보 총정 이번 포스팅에서는 2024 KBO 포스트시즌 일정과 티켓 예매 정보, 와일드카드, 준플레이오프, 플레이오프, 한국시리즈 일정을 표로 정리하여 알아보겠습니다. 서울세계불꽃축제 2024 티켓 예매 일정 생중계 바로보기 서울세계불꽃축제 티켓예매 명당자리 꿀팁 공연시간 생중계 바로보기 정보 까지 총정리2024년 10월 5일 토요일, 서울 여의도 한강공원에서 한화그룹이 주최하는 서울 세계불꽃축제가 화려하게 narooya.com 경기 팀: LG 트윈스(정규 3위) vs 와일드카드 승리팀 2024 프로야구 포스트시즌 준플레이오프는 10월 5일부터 LG 트윈스와 와일드카드 승리팀 간의 경기가 펼쳐지며, 5전 3선승제로 진행됩니다. 경기 팀: 삼성 라이온즈(정규 2위) vs 준플레이오프 승리팀 경기 팀: 기아 타이거즈(정규 1위) vs 플레이오프 승리팀'}, {'url': 'https://m.blog.naver.com/twins2346/223603897496', 'content': '2024 KBO 프로 야구 포스트시즌 진출팀, 경기 일정, 경기 방식, 예매 방법 총정리 : 네이버 블로그 2024 KBO 프로 야구 포스트시즌 진출팀, 경기 일정, 경기 방식, 예매 방법 총정리 오늘은 2024년 KBO 프로 야구 포스트 시즌 진출팀과 경기 일정, 방식에 대해 상위권 다섯 팀은 가을 야구를 하게 됩니다 ㅎㅎ ⚾️ 포스트 시즌 진출팀 팬들의 가을 야구 꿈을 이뤄 준 포스트 시즌 진출팀은 정규 시즌 최종 순위는 1위 기아 타이거즈, 2위 삼성 라이온즈, 3위 엘지 트윈스, 와일드카드 경기는 5위 팀인 KT 위즈와 4위 팀인 두산 베어스가 참여하게 됩니다 이 때 4위 팀인 두산 베어스가 1승을 먼저 챙기고 시작하며, 정규리그 3위 팀인 엘지 트윈스와 여기서 승리한 팀이 KBO 한국시리즈에 진출하게 됩니다! {\"title\":\"2024 KBO 프로 야구 포스트시즌 진출팀, 경기 일정, 경기 방식, 예매 방법 총정리\",\"source\":\"https://blog.naver.com/twins2346/223603897496\",\"blogName\":\"소담소담 ..\",\"blogId\":\"twins2346\",\"domainIdOrBlogId\":\"twins2346\",\"nicknameOrBlogId\":\"밍스\",\"logNo\":223603897496,\"smartEditorVersion\":4,\"lineDisplay\":true,\"outsideDisplay\":false,\"cafeDisplay\":true,\"blogDisplay\":true,\"meDisplay\":true}'}, {'url': 'https://realjace.tistory.com/entry/2024-프로야구-포스트시즌-플레이오프-한국시리즈-일정-총정리', 'content': \"2024 프로야구 포스트시즌 플레이오프 한국시리즈 일정 총정리 2024 프로야구 포스트시즌 플레이오프 한국시리즈 일정 총정리 2024 프로야구 포스트시즌 경기방식 2024 프로야구 포스트시즌 일정 2024 프로야구 포스트시즌 경기방식 와일드카드 결정전에서 승리한 팀과 정규시즌 3위 팀이 맞붙습니다. 준플레이오프에서 승리한 팀과 정규시즌 2위 팀이 경기를 펼치게 됩니다. 플레이오프 승리팀과 정규시즌 1위 팀이 7전 4선 승제로 경기를 펼치게 됩니다. 2024 프로야구 포스트시즌 진출팀 특히 4위부터 6위까지 승차가 거의 없기 때문에 마지막까지 흥미진진할 것으로 보이는데요, 각 팀이 144경기를 소화해야 하며 9월 28일까지 정규시즌이 마무리될 것으로 보입니다. 2024 프로야구 포스트시즌 일정 플레이오프 1차전 플레이오프 2차전 플레이오프 3차전 플레이오프 4차전 '스포츠&게임 정보' 카테고리의 다른 글 2024 프로야구 포스트시즌 티켓 예매방법\\xa0\\xa0(3) 2024 프로야구 올스타전 투표결과 경기일정 티켓 예매방법 가격 총정리\\xa0\\xa0(0) 2024 프로야구 포스트시즌 티켓 예매방법 티스토리 홈 이동\"}, {'url': 'https://challenge202402.tistory.com/entry/2024-프로야구-플레이오프-일정-예매-방법-선수-명단', 'content': '2024 프로야구 플레이오프 일정 예매 방법 선수 명단 2024 프로야구 플레이오프가 10월 13일부터 삼성 대 LG의 경기로 펼쳐졌습니다. 이 글에서는 프로야구 플레이오프 일정, 예매 방법, 참가 선수 명단에 대해 알아보겠습니다. 2024\\xa0프로야구 플레이오프 일정 2024 프로야구 삼성라이온즈 대 LG트윈스의 플레이오프 경기는 10월 13일부터 5전 3선승제로 진행됩니다. 프로야구 플레이오프 일정 갤럭시 탭 S10 울트라 출시일 디자인 스펙 가격 2024\\xa0프로야구 플레이오프 예매\\xa0 2024 프로야구 플레이오프 예매 일정은 10월 12일(토) 2시부터 시작됩니다. 2024 프로야구 플레이오프 입장권 예매 방법은 인터파크 홈페이지에서 온라인으로 예매하시면 됩니다. 2024 프로야구 플레이오프 입장권 가격은 경기장마다 차이가 있으니 아래 가격표를 참고하시기 바랍니다. 2024\\xa0프로야구 플레이오프 참가 선수 명단 2024 프로야구 플레이오프 참가 선수는 각 팀별 코칭스태프를 포함하여 40명입니다. 지금까지 2024 프로야구 플레이오프 삼성라이온즈 대 LG트윈스 경기의 일정, 예매 방법, 참가 선수 명단에 대해 알아보았습니다.'}]\n",
      "[최종 답변]\n",
      "2024년 프로야구 플레이오프에 진출한 팀은 다음과 같습니다:\n",
      "\n",
      "1. **기아 타이거즈** (정규 시즌 1위)\n",
      "2. **삼성 라이온즈** (정규 시즌 2위)\n",
      "3. **LG 트윈스** (정규 시즌 3위)\n",
      "4. **두산 베어스** (정규 시즌 4위)\n",
      "5. **KT 위즈** (와일드카드 결정전 참가)\n",
      "\n",
      "플레이오프는 정규 시즌 1위 팀인 기아 타이거즈와 플레이오프 승리팀이 맞붙는 형식으로 진행됩니다.\n"
     ]
    }
   ],
   "source": [
    "# 질의에 대한 답변을 스트리밍으로 출력 요청\n",
    "result = agent_executor.stream(\n",
    "    {\"input\": \"2024년 프로야구 플레이오프 진출한 5개 팀을 검색하여 알려주세요.\"}\n",
    ")\n",
    "\n",
    "for step in result:\n",
    "    # 중간 단계를 parser 를 사용하여 단계별로 출력\n",
    "    agent_stream_parser.process_agent_steps(step)"
   ]
  },
  {
   "cell_type": "markdown",
   "id": "604b2a9c",
   "metadata": {},
   "source": [
    "`agent_executor` 객체의 `invoke` 메소드를 사용하여, 질문을 입력으로 제공합니다.\n"
   ]
  },
  {
   "cell_type": "code",
   "execution_count": 16,
   "id": "4a0582ab",
   "metadata": {},
   "outputs": [
    {
     "name": "stdout",
     "output_type": "stream",
     "text": [
      "[도구 호출]\n",
      "Tool: pdf_search\n",
      "query: 삼성전자 생성형 AI\n",
      "Log: \n",
      "Invoking: `pdf_search` with `{'query': '삼성전자 생성형 AI'}`\n",
      "\n",
      "\n",
      "\n",
      "[관찰 내용]\n",
      "Observation: SPRi AI Brief |  \n",
      "2023-12 월호\n",
      "10삼성전자 , 자체 개발 생성 AI ‘삼성 가우스 ’ 공개\n",
      "n삼성전자가 온디바이스에서 작동 가능하며 언어, 코드, 이미지의 3개 모델로 구성된 자체 개발 생성 \n",
      "AI 모델 ‘삼성 가우스 ’를 공개\n",
      "n삼성전자는 삼성 가우스를 다양한 제품에 단계적으로 탑재할 계획으로 , 온디바이스 작동이 가능한 \n",
      "삼성 가우스는 외부로 사용자 정보가 유출될 위험이 없다는 장점을 보유KEY Contents\n",
      "£언어, 코드, 이미지의 3개 모델로 구성된 삼성 가우스 , 온디바이스 작동 지원\n",
      "n삼성전자가 2023 년 11월 8일 열린 ‘삼성 AI 포럼 2023’ 행사에서 자체 개발한 생성 AI 모델 \n",
      "‘삼성 가우스 ’를 최초 공개\n",
      "∙정규분포 이론을 정립한 천재 수학자 가우스 (Gauss) 의 이름을 본뜬 삼성 가우스는 다양한 상황에 \n",
      "최적화된 크기의 모델 선택이 가능\n",
      "∙삼성 가우스는 라이선스나 개인정보를 침해하지 않는 안전한 데이터를 통해 학습되었으며 , \n",
      "온디바이스에서 작동하도록 설계되어 외부로 사용자의 정보가 유출되지 않는 장점을 보유\n",
      "∙삼성전자는 삼성 가우스를 활용한 온디바이스 AI 기술도 소개했으며 , 생성 AI 모델을 다양한 제품에 \n",
      "단계적으로 탑재할 계획\n",
      "n삼성 가우스는 △텍스트를 생성하는 언어모델 △코드를 생성하는 코드 모델 △이미지를 생성하는  \n",
      "이미지 모델의 3개 모델로 구성\n",
      "∙언어 모델은 클라우드와 온디바이스 대상 다양한 모델로 구성되며 , 메일 작성, 문서 요약, 번역 업무의 \n",
      "처리를 지원\n",
      "∙코드 모델 기반의 AI 코딩 어시스턴트 ‘코드아이 (code.i)’ 는 대화형 인터페이스로 서비스를 제공하며 \n",
      "사내 소프트웨어 개발에 최적화\n",
      "∙이미지 모델은 창의적인 이미지를 생성하고 기존 이미지를 원하는 대로 바꿀 수 있도록 지원하며 \n",
      "저해상도 이미지의 고해상도 전환도 지원\n",
      "nIT 전문지 테크리퍼블릭 (TechRepublic) 은 온디바이스 AI가 주요 기술 트렌드로 부상했다며 ,\n",
      "\n",
      "저해상도 이미지의 고해상도 전환도 지원\n",
      "nIT 전문지 테크리퍼블릭 (TechRepublic) 은 온디바이스 AI가 주요 기술 트렌드로 부상했다며 , \n",
      "2024 년부터 가우스를 탑재한 삼성 스마트폰이 메타의 라마(Llama)2 를 탑재한 퀄컴 기기 및 구글 \n",
      "어시스턴트를 적용한 구글 픽셀(Pixel) 과 경쟁할 것으로 예상\n",
      "☞ 출처 : 삼성전자 , ‘삼성 AI 포럼’서 자체 개발 생성형 AI ‘삼성 가우스 ’ 공개, 2023.11.08.\n",
      "삼성전자 , ‘삼성 개발자 콘퍼런스 코리아 2023’ 개최, 2023.11.14.\n",
      "TechRepublic, Samsung Gauss: Samsung Research Reveals Generative AI, 2023.11.08.\n",
      "\n",
      "1. 정책/법제  2. 기업/산업 3. 기술/연구  4. 인력/교육\n",
      "빌 게이츠 , AI 에이전트로 인한 컴퓨터 사용의 패러다임 변화 전망\n",
      "n빌 게이츠가 5년 내 일상언어로 모든 작업을 처리할 수 있는 AI 에이전트가 보급되며 컴퓨터를 \n",
      "사용하는 방식이 완전히 바뀔 것으로 예상\n",
      "n에이전트의 보급은 컴퓨터 분야를 넘어 산업 전 영역에 영향을 미칠 전망으로 특히 의료와 \n",
      "교육, 생산성 , 엔터테인먼트 ·쇼핑 영역에서 고가로 제공되던 서비스가 대중화될 전망KEY Contents\n",
      "£5년 내 기기에 일상언어로 말하기만 하면 되는 AI 에이전트의 보급 예상\n",
      "n빌 게이츠 마이크로소프트 창업자가 2023 년 11월 9일 공식 블로그를 통해 AI 에이전트가 컴퓨터  \n",
      "사용방식과 소프트웨어 산업을 완전히 변화시킬 것이라는 전망을 제시\n",
      "∙자연어에 반응하고 사용자에 대한 지식을 바탕으로 다양한 작업을 수행하는 소프트웨어를 의미하는 \n",
      "에이전트는 컴퓨터 사용방식이 키보드 입력에서 아이콘 클릭으로 바뀐 이후 최대의 컴퓨팅 혁명을 \n",
      "가져올 전망\n",
      "∙현재는 컴퓨터 작업 시 작업 내용에 따라 각각 다른 앱을 사용해야 하지만 5년 내 에이전트의 발전으로 \n",
      "기기에 일상언어로 말하기만 하면 되는 미래가 도래할 것\n",
      "∙온라인에 접속하는 모든 사람이 AI 기반의 개인 비서를 사용할 수 있게 되며, 에이전트는 사용자에 대한 \n",
      "풍부한 지식을 바탕으로 맞춤화된 대응이 가능하며 시간이 지날수록 개선됨\n",
      "∙일례로 여행 계획 수립 시 AI 챗봇이 예산에 맞는 호텔을 제안하는데 머문다면 , 에이전트는 사용자의 여행 \n",
      "패턴을 분석해 여행지를 제안하고 관심사에 따른 활동을 추천하며 선호하는 스타일의 레스토랑 예약도 가능  \n",
      "£AI 에이전트가 의료와 교육, 생산성 , 엔터테인먼트 ·쇼핑 영역의 서비스 대중화를 주도할 것\n",
      "n에이전트로 인해 주목할 만한 변화는 고비용 서비스의 대중화로 특히 △의료 △교육 △생산성 △\n",
      "엔터테인먼트 ·쇼핑의 4개 영역에서 대규모 변화 예상\n",
      "\n",
      "SPRi AI Brief |  \n",
      "2023-12 월호\n",
      "4미국 법원, 예술가들이 생성 AI 기업에 제기한 저작권 소송 기각\n",
      "n미국 캘리포니아 북부지방법원은 미드저니 , 스태빌리티 AI, 디비언트아트를 대상으로 예술가 \n",
      "3인이 제기한 저작권 침해 소송을 기각\n",
      "n법원은 기각 이유로 고소장에 제시된 상당수 작품이 저작권청에 등록되지 않았으며 , AI로 \n",
      "생성된 이미지와 특정 작품 간 유사성을 입증하기 어렵다는 점을 제시 KEY Contents\n",
      "£예술가들의 AI 저작권 침해 소송, 저작권 미등록과 증거불충분으로 기각\n",
      "n미국 캘리포니아 북부지방법원의 윌리엄 오릭(W illiam Orrick) 판사는 2023년 10월 30일 미드저니\n",
      "(M idjourney),  스태빌리티 AI(Stability AI), 디비언트아트 (DeviantArt) 에 제기된 저작권 침해 소송을 기각 \n",
      "∙2023 년 1월 예술가 사라 앤더슨 (Sarah Anderson), 캘리 맥커넌 (Kelly McKernan), 칼라 \n",
      "오르티즈 (Karla Ortiz) 는 이미지 생성 AI 서비스를 개발한 3개 기업을 상대로 저작권 침해 소송을 제기\n",
      "∙예술가들은 3개 기업이 AI 모델을 학습시키기 위해 원작자 동의 없이 작품을 학습 데이터셋에 \n",
      "포함하여 저작권을 침해했다고 주장했으며 , 법원은 지난 4월 피소 기업들이 제출한 기각 신청을 \n",
      "수용해 소송을 기각 \n",
      "n오릭 판사는 판결문에서 소송을 기각한 핵심 이유로 예술가들의 저작권 미등록을 제시\n",
      "∙판결문은 소송을 제기한 캘리 맥커넌과 칼라 오르티즈가 미국 저작권청에 예술 작품에 대한 저작권을 \n",
      "제출하지 않았다는 점을 지적했으며 , 사라 앤더슨은 고소장에 인용된 수백 개의 작품 중 16개 작품에 \n",
      "대해서만 저작권을 보유\n",
      "n판결문은 또한 생성 AI 모델 훈련에 사용된 모든 이미지에 저작권이 있다거나 , 생성 AI로 만든 \n",
      "이미지가 저작물을 이용해 훈련되었으므로 저작물의 파생 이미지라는 주장은 개연성이  부족하다고  \n",
      "지적\n",
      "[최종 답변]\n",
      "삼성전자가 자체 개발한 생성형 AI 모델 '삼성 가우스'에 대한 정보는 다음과 같습니다:\n",
      "\n",
      "- **모델 구성**: 삼성 가우스는 언어, 코드, 이미지의 3개 모델로 구성되어 있습니다. \n",
      "  - **언어 모델**: 클라우드와 온디바이스에서 작동하며, 메일 작성, 문서 요약, 번역 등의 작업을 지원합니다.\n",
      "  - **코드 모델**: AI 코딩 어시스턴트 '코드아이(code.i)'를 통해 대화형 인터페이스로 서비스를 제공하며, 사내 소프트웨어 개발에 최적화되어 있습니다.\n",
      "  - **이미지 모델**: 창의적인 이미지를 생성하고 기존 이미지를 수정할 수 있으며, 저해상도 이미지를 고해상도로 변환하는 기능도 지원합니다.\n",
      "\n",
      "- **온디바이스 작동**: 삼성 가우스는 온디바이스에서 작동하도록 설계되어 있어, 사용자 정보가 외부로 유출될 위험이 없습니다. 이는 안전한 데이터로 학습되었음을 의미합니다.\n",
      "\n",
      "- **출시 계획**: 삼성전자는 삼성 가우스를 다양한 제품에 단계적으로 탑재할 계획을 가지고 있으며, 2023년 11월 8일 '삼성 AI 포럼 2023'에서 처음 공개되었습니다.\n",
      "\n",
      "- **경쟁 전망**: IT 전문지에 따르면, 2024년부터 삼성 가우스를 탑재한 스마트폰이 메타의 라마(Llama)2를 탑재한 퀄컴 기기 및 구글 어시스턴트를 적용한 구글 픽셀과 경쟁할 것으로 예상됩니다.\n",
      "\n",
      "이 정보는 2023년 12월호 SPRi AI Brief에서 발췌한 내용입니다.\n"
     ]
    }
   ],
   "source": [
    "# 질의에 대한 답변을 스트리밍으로 출력 요청\n",
    "result = agent_executor.stream(\n",
    "    {\"input\": \"삼성전자가 자체 개발한 생성형 AI 관련된 정보를 문서에서 찾아주세요.\"}\n",
    ")\n",
    "\n",
    "for step in result:\n",
    "    # 중간 단계를 parser 를 사용하여 단계별로 출력\n",
    "    agent_stream_parser.process_agent_steps(step)"
   ]
  },
  {
   "cell_type": "markdown",
   "id": "6d836bd5",
   "metadata": {},
   "source": [
    "## 이전 대화내용 기억하는 Agent\n",
    "\n",
    "이전의 대화내용을 기억하기 위해서는 `RunnableWithMessageHistory` 를 사용하여 `AgentExecutor` 를 감싸줍니다.\n",
    "\n",
    "`RunnableWithMessageHistory` 에 대한 자세한 내용은 아래 링크를 참고해 주세요.\n",
    "\n",
    "**참고**\n",
    "- [RunnableWithMessageHistory](https://wikidocs.net/254682)"
   ]
  },
  {
   "cell_type": "code",
   "execution_count": 15,
   "id": "39cc359c",
   "metadata": {},
   "outputs": [],
   "source": [
    "from langchain_community.chat_message_histories import ChatMessageHistory\n",
    "from langchain_core.runnables.history import RunnableWithMessageHistory\n",
    "\n",
    "# session_id 를 저장할 딕셔너리 생성\n",
    "store = {}\n",
    "\n",
    "\n",
    "# session_id 를 기반으로 세션 기록을 가져오는 함수\n",
    "def get_session_history(session_ids):\n",
    "    if session_ids not in store:  # session_id 가 store에 없는 경우\n",
    "        # 새로운 ChatMessageHistory 객체를 생성하여 store에 저장\n",
    "        store[session_ids] = ChatMessageHistory()\n",
    "    return store[session_ids]  # 해당 세션 ID에 대한 세션 기록 반환\n",
    "\n",
    "\n",
    "# 채팅 메시지 기록이 추가된 에이전트를 생성합니다.\n",
    "agent_with_chat_history = RunnableWithMessageHistory(\n",
    "    agent_executor,\n",
    "    # 대화 session_id\n",
    "    get_session_history,\n",
    "    # 프롬프트의 질문이 입력되는 key: \"input\"\n",
    "    input_messages_key=\"input\",\n",
    "    # 프롬프트의 메시지가 입력되는 key: \"chat_history\"\n",
    "    history_messages_key=\"chat_history\",\n",
    ")"
   ]
  },
  {
   "cell_type": "code",
   "execution_count": null,
   "id": "697c803f",
   "metadata": {},
   "outputs": [],
   "source": [
    "# 질의에 대한 답변을 스트리밍으로 출력 요청\n",
    "response = agent_with_chat_history.stream(\n",
    "    {\"input\": \"삼성전자가 개발한 생성형 AI 관련된 정보를 문서에서 찾아주세요.\"},\n",
    "    # session_id 설정\n",
    "    config={\"configurable\": {\"session_id\": \"abc123\"}},\n",
    ")\n",
    "\n",
    "# 출력 확인\n",
    "for step in response:\n",
    "    agent_stream_parser.process_agent_steps(step)"
   ]
  },
  {
   "cell_type": "code",
   "execution_count": null,
   "id": "7d96ac8e",
   "metadata": {},
   "outputs": [],
   "source": [
    "response = agent_with_chat_history.stream(\n",
    "    {\"input\": \"이전의 답변을 영어로 번역해 주세요.\"},\n",
    "    # session_id 설정\n",
    "    config={\"configurable\": {\"session_id\": \"abc123\"}},\n",
    ")\n",
    "\n",
    "# 출력 확인\n",
    "for step in response:\n",
    "    agent_stream_parser.process_agent_steps(step)"
   ]
  },
  {
   "cell_type": "markdown",
   "id": "a1970203",
   "metadata": {},
   "source": [
    "## Agent 템플릿\n",
    "\n",
    "다음은 전체 템플릿 코드 입니다.\n"
   ]
  },
  {
   "cell_type": "code",
   "execution_count": 18,
   "id": "4d261a21",
   "metadata": {},
   "outputs": [],
   "source": [
    "# 필요한 모듈 import\n",
    "from langchain_core.prompts import ChatPromptTemplate\n",
    "from langchain_community.tools.tavily_search import TavilySearchResults\n",
    "from langchain_community.vectorstores import FAISS\n",
    "from langchain_community.chat_message_histories import ChatMessageHistory\n",
    "from langchain.text_splitter import RecursiveCharacterTextSplitter\n",
    "from langchain_openai import OpenAIEmbeddings, ChatOpenAI\n",
    "from langchain.document_loaders import PyMuPDFLoader\n",
    "from langchain.tools.retriever import create_retriever_tool\n",
    "from langchain.agents import create_tool_calling_agent, AgentExecutor\n",
    "from langchain_core.runnables.history import RunnableWithMessageHistory\n",
    "from langchain_teddynote.messages import AgentStreamParser\n",
    "\n",
    "########## 1. 도구를 정의합니다 ##########\n",
    "\n",
    "### 1-1. Search 도구 ###\n",
    "# TavilySearchResults 클래스의 인스턴스를 생성합니다\n",
    "# k=6은 검색 결과를 6개까지 가져오겠다는 의미입니다\n",
    "search = TavilySearchResults(k=6)\n",
    "\n",
    "### 1-2. PDF 문서 검색 도구 (Retriever) ###\n",
    "# PDF 파일 로드. 파일의 경로 입력\n",
    "loader = PyMuPDFLoader(\"data/SPRI_AI_Brief_2023년12월호_F.pdf\")\n",
    "\n",
    "# 텍스트 분할기를 사용하여 문서를 분할합니다.\n",
    "text_splitter = RecursiveCharacterTextSplitter(chunk_size=1000, chunk_overlap=100)\n",
    "\n",
    "# 문서를 로드하고 분할합니다.\n",
    "split_docs = loader.load_and_split(text_splitter)\n",
    "\n",
    "# VectorStore를 생성합니다.\n",
    "vector = FAISS.from_documents(split_docs, OpenAIEmbeddings())\n",
    "\n",
    "# Retriever를 생성합니다.\n",
    "retriever = vector.as_retriever()\n",
    "\n",
    "retriever_tool = create_retriever_tool(\n",
    "    retriever,\n",
    "    name=\"pdf_search\",  # 도구의 이름을 입력합니다.\n",
    "    description=\"use this tool to search information from the PDF document\",  # 도구에 대한 설명을 자세히 기입해야 합니다!!\n",
    ")\n",
    "\n",
    "### 1-3. tools 리스트에 도구 목록을 추가합니다 ###\n",
    "# tools 리스트에 search와 retriever_tool을 추가합니다.\n",
    "tools = [search, retriever_tool]\n",
    "\n",
    "########## 2. LLM 을 정의합니다 ##########\n",
    "# LLM 모델을 생성합니다.\n",
    "llm = ChatOpenAI(model=\"gpt-4o\", temperature=0)\n",
    "\n",
    "########## 3. Prompt 를 정의합니다 ##########\n",
    "\n",
    "# Prompt 를 정의합니다 - 이 부분을 수정할 수 있습니다!\n",
    "# Prompt 정의\n",
    "prompt = ChatPromptTemplate.from_messages(\n",
    "    [\n",
    "        (\n",
    "            \"system\",\n",
    "            \"You are a helpful assistant. \"\n",
    "            \"Make sure to use the `pdf_search` tool for searching information from the PDF document. \"\n",
    "            \"If you can't find the information from the PDF document, use the `search` tool for searching information from the web.\",\n",
    "        ),\n",
    "        (\"placeholder\", \"{chat_history}\"),\n",
    "        (\"human\", \"{input}\"),\n",
    "        (\"placeholder\", \"{agent_scratchpad}\"),\n",
    "    ]\n",
    ")\n",
    "\n",
    "########## 4. Agent 를 정의합니다 ##########\n",
    "\n",
    "# 에이전트를 생성합니다.\n",
    "# llm, tools, prompt를 인자로 사용합니다.\n",
    "agent = create_tool_calling_agent(llm, tools, prompt)\n",
    "\n",
    "########## 5. AgentExecutor 를 정의합니다 ##########\n",
    "\n",
    "# AgentExecutor 클래스를 사용하여 agent와 tools를 설정하고, 상세한 로그를 출력하도록 verbose를 True로 설정합니다.\n",
    "agent_executor = AgentExecutor(agent=agent, tools=tools, verbose=False)\n",
    "\n",
    "########## 6. 채팅 기록을 수행하는 메모리를 추가합니다. ##########\n",
    "\n",
    "# session_id 를 저장할 딕셔너리 생성\n",
    "store = {}\n",
    "\n",
    "\n",
    "# session_id 를 기반으로 세션 기록을 가져오는 함수\n",
    "def get_session_history(session_ids):\n",
    "    if session_ids not in store:  # session_id 가 store에 없는 경우\n",
    "        # 새로운 ChatMessageHistory 객체를 생성하여 store에 저장\n",
    "        store[session_ids] = ChatMessageHistory()\n",
    "    return store[session_ids]  # 해당 세션 ID에 대한 세션 기록 반환\n",
    "\n",
    "\n",
    "# 채팅 메시지 기록이 추가된 에이전트를 생성합니다.\n",
    "agent_with_chat_history = RunnableWithMessageHistory(\n",
    "    agent_executor,\n",
    "    # 대화 session_id\n",
    "    get_session_history,\n",
    "    # 프롬프트의 질문이 입력되는 key: \"input\"\n",
    "    input_messages_key=\"input\",\n",
    "    # 프롬프트의 메시지가 입력되는 key: \"chat_history\"\n",
    "    history_messages_key=\"chat_history\",\n",
    ")\n",
    "\n",
    "########## 7. Agent 파서를 정의합니다. ##########\n",
    "agent_stream_parser = AgentStreamParser()"
   ]
  },
  {
   "cell_type": "code",
   "execution_count": null,
   "id": "3e2666f0",
   "metadata": {},
   "outputs": [],
   "source": [
    "########## 8. 에이전트를 실행하고 결과를 확인합니다. ##########\n",
    "\n",
    "# 질의에 대한 답변을 출력합니다.\n",
    "response = agent_with_chat_history.stream(\n",
    "    {\"input\": \"구글이 앤스로픽에 투자한 금액을 문서에서 찾아줘\"},\n",
    "    # 세션 ID를 설정합니다.\n",
    "    # 여기서는 간단한 메모리 내 ChatMessageHistory를 사용하기 때문에 실제로 사용되지 않습니다\n",
    "    config={\"configurable\": {\"session_id\": \"abc123\"}},\n",
    ")\n",
    "\n",
    "for step in response:\n",
    "    agent_stream_parser.process_agent_steps(step)"
   ]
  },
  {
   "cell_type": "code",
   "execution_count": null,
   "id": "bc28b7c4",
   "metadata": {},
   "outputs": [],
   "source": [
    "########## 8. 에이전트를 실행하고 결과를 확인합니다. ##########\n",
    "\n",
    "# 질의에 대한 답변을 출력합니다.\n",
    "response = agent_with_chat_history.stream(\n",
    "    {\"input\": \"이전의 답변을 영어로 번역해 주세요\"},\n",
    "    # 세션 ID를 설정합니다.\n",
    "    # 여기서는 간단한 메모리 내 ChatMessageHistory를 사용하기 때문에 실제로 사용되지 않습니다\n",
    "    config={\"configurable\": {\"session_id\": \"abc123\"}},\n",
    ")\n",
    "\n",
    "for step in response:\n",
    "    agent_stream_parser.process_agent_steps(step)"
   ]
  },
  {
   "cell_type": "code",
   "execution_count": null,
   "id": "54697845",
   "metadata": {},
   "outputs": [],
   "source": [
    "########## 8. 에이전트를 실행하고 결과를 확인합니다. ##########\n",
    "\n",
    "# 질의에 대한 답변을 출력합니다.\n",
    "response = agent_with_chat_history.stream(\n",
    "    {\n",
    "        \"input\": \"2024년 프로야구 플레이오프 진출 5개팀을 검색해서 알려주세요. 한글로 답변하세요\"\n",
    "    },\n",
    "    # 세션 ID를 설정합니다.\n",
    "    # 여기서는 간단한 메모리 내 ChatMessageHistory를 사용하기 때문에 실제로 사용되지 않습니다\n",
    "    config={\"configurable\": {\"session_id\": \"abc456\"}},\n",
    ")\n",
    "\n",
    "for step in response:\n",
    "    agent_stream_parser.process_agent_steps(step)"
   ]
  },
  {
   "cell_type": "code",
   "execution_count": null,
   "id": "7e3d1607",
   "metadata": {},
   "outputs": [],
   "source": [
    "########## 8. 에이전트를 실행하고 결과를 확인합니다. ##########\n",
    "\n",
    "# 질의에 대한 답변을 출력합니다.\n",
    "response = agent_with_chat_history.stream(\n",
    "    {\"input\": \"이전의 답변을 SNS 게시글 형태로 100자 내외로 작성하세요.\"},\n",
    "    # 세션 ID를 설정합니다.\n",
    "    # 여기서는 간단한 메모리 내 ChatMessageHistory를 사용하기 때문에 실제로 사용되지 않습니다\n",
    "    config={\"configurable\": {\"session_id\": \"abc456\"}},\n",
    ")\n",
    "\n",
    "for step in response:\n",
    "    agent_stream_parser.process_agent_steps(step)"
   ]
  },
  {
   "cell_type": "code",
   "execution_count": null,
   "id": "72d99d59",
   "metadata": {},
   "outputs": [],
   "source": [
    "########## 8. 에이전트를 실행하고 결과를 확인합니다. ##########\n",
    "\n",
    "# 질의에 대한 답변을 출력합니다.\n",
    "response = agent_with_chat_history.stream(\n",
    "    {\"input\": \"이전의 답변에 한국 시리즈 일정을 추가하세요.\"},\n",
    "    # 세션 ID를 설정합니다.\n",
    "    # 여기서는 간단한 메모리 내 ChatMessageHistory를 사용하기 때문에 실제로 사용되지 않습니다\n",
    "    config={\"configurable\": {\"session_id\": \"abc456\"}},\n",
    ")\n",
    "\n",
    "for step in response:\n",
    "    agent_stream_parser.process_agent_steps(step)"
   ]
  }
 ],
 "metadata": {
  "kernelspec": {
   "display_name": "langchain-kr--Xj_wIV7-py3.11",
   "language": "python",
   "name": "python3"
  },
  "language_info": {
   "codemirror_mode": {
    "name": "ipython",
    "version": 3
   },
   "file_extension": ".py",
   "mimetype": "text/x-python",
   "name": "python",
   "nbconvert_exporter": "python",
   "pygments_lexer": "ipython3",
   "version": "3.11.11"
  }
 },
 "nbformat": 4,
 "nbformat_minor": 5
}
